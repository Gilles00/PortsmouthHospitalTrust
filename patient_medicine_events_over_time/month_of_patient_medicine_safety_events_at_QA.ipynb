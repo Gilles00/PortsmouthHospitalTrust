{
 "cells": [
  {
   "cell_type": "code",
   "execution_count": 1,
   "metadata": {},
   "outputs": [],
   "source": [
    "import pandas as pd\n",
    "import numpy as np\n",
    "import matplotlib.pyplot as plt\n",
    "import matplotlib.image as mpimg\n",
    "import pyodbc\n",
    "from lmfit.models import PolynomialModel"
   ]
  },
  {
   "cell_type": "code",
   "execution_count": 13,
   "metadata": {},
   "outputs": [
    {
     "name": "stdout",
     "output_type": "stream",
     "text": [
      "     inc_dincident inc_dreported\n",
      "0       2016-03-31    2016-03-31\n",
      "1       2016-03-31    2016-04-01\n",
      "2       2016-04-01    2016-04-01\n",
      "3       2016-03-25    2016-04-01\n",
      "4       2016-04-02    2016-04-02\n",
      "5       2016-04-01    2016-04-02\n",
      "6       2016-04-01    2016-04-02\n",
      "7       2016-04-02    2016-04-02\n",
      "8       2016-04-02    2016-04-02\n",
      "9       2016-04-03    2016-04-03\n",
      "10      2016-04-03    2016-04-03\n",
      "11      2016-04-02    2016-04-04\n",
      "12      2016-04-02    2016-04-04\n",
      "13      2016-04-02    2016-04-04\n",
      "14      2016-04-02    2016-04-04\n",
      "15      2016-04-02    2016-04-04\n",
      "16      2016-04-04    2016-04-04\n",
      "17      2016-04-02    2016-04-04\n",
      "18      2016-04-04    2016-04-04\n",
      "19      2016-04-02    2016-04-04\n",
      "20      2016-03-23    2016-04-04\n",
      "21      2016-04-02    2016-04-04\n",
      "22      2016-04-02    2016-04-04\n",
      "23      2016-04-04    2016-04-04\n",
      "24      2016-04-04    2016-04-05\n",
      "25      2016-04-05    2016-04-05\n",
      "26      2016-03-30    2016-04-05\n",
      "27      2016-04-06    2016-04-06\n",
      "28      2016-04-06    2016-04-06\n",
      "29      2016-04-06    2016-04-06\n",
      "...            ...           ...\n",
      "9240    2019-10-29    2019-10-29\n",
      "9241    2019-10-29    2019-10-29\n",
      "9242    2019-10-28    2019-10-29\n",
      "9243    2019-10-29    2019-10-29\n",
      "9244    2019-10-27    2019-10-29\n",
      "9245    2019-10-28    2019-10-29\n",
      "9246    2019-10-29    2019-10-29\n",
      "9247    2019-10-20    2019-10-29\n",
      "9248    2019-10-15    2019-10-29\n",
      "9249    2019-10-28    2019-10-29\n",
      "9250    2019-10-25    2019-10-29\n",
      "9251    2019-10-27    2019-10-29\n",
      "9252    2019-10-25    2019-10-30\n",
      "9253    2019-10-30    2019-10-30\n",
      "9254    2019-10-28    2019-10-30\n",
      "9255    2019-10-28    2019-10-30\n",
      "9256    2019-10-30    2019-10-30\n",
      "9257    2019-10-17    2019-10-30\n",
      "9258    2019-10-30    2019-10-30\n",
      "9259    2019-10-30    2019-10-30\n",
      "9260    2019-10-30    2019-10-30\n",
      "9261    2019-10-30    2019-10-30\n",
      "9262    2019-10-30    2019-10-30\n",
      "9263    2019-10-06    2019-10-30\n",
      "9264    2019-10-30    2019-10-31\n",
      "9265    2019-10-30    2019-10-31\n",
      "9266    2019-10-28    2019-10-31\n",
      "9267    2019-10-29    2019-10-31\n",
      "9268    2019-10-07    2019-10-31\n",
      "9269    2019-10-31    2019-10-31\n",
      "\n",
      "[9270 rows x 2 columns]\n"
     ]
    }
   ],
   "source": [
    "sql_conn = pyodbc.connect('DRIVER={SQL Server};'\n",
    "                            'SERVER=L_AAGDATIX;'\n",
    "                            'DATABASE=DatixCRM;'\n",
    "                            'Trusted_Connection=yes') \n",
    "query = \"set transaction isolation level read uncommitted select inc_dincident,inc_dreported from DatixCRM.dbo.incidents_main where inc_type='PAT' and inc_category='MEDIC' and inc_organisation='QA'\"\n",
    "df = pd.read_sql(query, sql_conn)\n",
    "print(df)"
   ]
  },
  {
   "cell_type": "code",
   "execution_count": 14,
   "metadata": {},
   "outputs": [
    {
     "name": "stdout",
     "output_type": "stream",
     "text": [
      "     inc_dincident inc_dreported\n",
      "2       2016-04-01    2016-04-01\n",
      "4       2016-04-02    2016-04-02\n",
      "5       2016-04-01    2016-04-02\n",
      "6       2016-04-01    2016-04-02\n",
      "7       2016-04-02    2016-04-02\n",
      "8       2016-04-02    2016-04-02\n",
      "9       2016-04-03    2016-04-03\n",
      "10      2016-04-03    2016-04-03\n",
      "11      2016-04-02    2016-04-04\n",
      "12      2016-04-02    2016-04-04\n",
      "13      2016-04-02    2016-04-04\n",
      "14      2016-04-02    2016-04-04\n",
      "15      2016-04-02    2016-04-04\n",
      "16      2016-04-04    2016-04-04\n",
      "17      2016-04-02    2016-04-04\n",
      "18      2016-04-04    2016-04-04\n",
      "19      2016-04-02    2016-04-04\n",
      "21      2016-04-02    2016-04-04\n",
      "22      2016-04-02    2016-04-04\n",
      "23      2016-04-04    2016-04-04\n",
      "24      2016-04-04    2016-04-05\n",
      "25      2016-04-05    2016-04-05\n",
      "27      2016-04-06    2016-04-06\n",
      "28      2016-04-06    2016-04-06\n",
      "29      2016-04-06    2016-04-06\n",
      "30      2016-04-06    2016-04-06\n",
      "31      2016-04-06    2016-04-06\n",
      "32      2016-04-06    2016-04-06\n",
      "33      2016-04-07    2016-04-07\n",
      "34      2016-04-05    2016-04-07\n",
      "...            ...           ...\n",
      "8955    2019-09-26    2019-09-28\n",
      "8956    2019-09-28    2019-09-28\n",
      "8957    2019-09-28    2019-09-28\n",
      "8958    2019-09-28    2019-09-29\n",
      "8959    2019-09-21    2019-09-29\n",
      "8960    2019-09-21    2019-09-29\n",
      "8961    2019-09-29    2019-09-29\n",
      "8962    2019-09-21    2019-09-29\n",
      "8963    2019-09-29    2019-09-29\n",
      "8964    2019-09-27    2019-09-29\n",
      "8965    2019-09-28    2019-09-29\n",
      "8966    2019-09-23    2019-09-30\n",
      "8967    2019-09-30    2019-09-30\n",
      "8968    2019-09-30    2019-09-30\n",
      "8969    2019-09-30    2019-09-30\n",
      "8970    2019-09-30    2019-09-30\n",
      "8971    2019-09-30    2019-09-30\n",
      "8972    2019-09-29    2019-09-30\n",
      "8973    2019-09-30    2019-09-30\n",
      "8976    2019-09-21    2019-10-01\n",
      "8977    2019-09-25    2019-10-01\n",
      "8978    2019-09-30    2019-10-01\n",
      "8994    2019-09-27    2019-10-02\n",
      "9020    2019-09-23    2019-10-04\n",
      "9050    2019-09-23    2019-10-08\n",
      "9077    2019-09-26    2019-10-11\n",
      "9078    2019-05-31    2019-10-11\n",
      "9098    2019-09-16    2019-10-13\n",
      "9102    2019-09-18    2019-10-14\n",
      "9208    2019-09-11    2019-10-24\n",
      "\n",
      "[8974 rows x 2 columns]\n"
     ]
    }
   ],
   "source": [
    "df_inc = df.copy()\n",
    "df_inc = df_inc[df_inc.inc_dincident > '2016-03-31']\n",
    "df_inc = df_inc[df_inc.inc_dincident < '2019-10-01']\n",
    "print(df_inc)"
   ]
  },
  {
   "cell_type": "code",
   "execution_count": 15,
   "metadata": {},
   "outputs": [
    {
     "name": "stdout",
     "output_type": "stream",
     "text": [
      "     inc_dincident inc_dreported  month\n",
      "2       2016-04-01    2016-04-01      4\n",
      "4       2016-04-02    2016-04-02      4\n",
      "5       2016-04-01    2016-04-02      4\n",
      "6       2016-04-01    2016-04-02      4\n",
      "7       2016-04-02    2016-04-02      4\n",
      "8       2016-04-02    2016-04-02      4\n",
      "9       2016-04-03    2016-04-03      4\n",
      "10      2016-04-03    2016-04-03      4\n",
      "11      2016-04-02    2016-04-04      4\n",
      "12      2016-04-02    2016-04-04      4\n",
      "13      2016-04-02    2016-04-04      4\n",
      "14      2016-04-02    2016-04-04      4\n",
      "15      2016-04-02    2016-04-04      4\n",
      "16      2016-04-04    2016-04-04      4\n",
      "17      2016-04-02    2016-04-04      4\n",
      "18      2016-04-04    2016-04-04      4\n",
      "19      2016-04-02    2016-04-04      4\n",
      "21      2016-04-02    2016-04-04      4\n",
      "22      2016-04-02    2016-04-04      4\n",
      "23      2016-04-04    2016-04-04      4\n",
      "24      2016-04-04    2016-04-05      4\n",
      "25      2016-04-05    2016-04-05      4\n",
      "27      2016-04-06    2016-04-06      4\n",
      "28      2016-04-06    2016-04-06      4\n",
      "29      2016-04-06    2016-04-06      4\n",
      "30      2016-04-06    2016-04-06      4\n",
      "31      2016-04-06    2016-04-06      4\n",
      "32      2016-04-06    2016-04-06      4\n",
      "33      2016-04-07    2016-04-07      4\n",
      "34      2016-04-05    2016-04-07      4\n",
      "...            ...           ...    ...\n",
      "8955    2019-09-26    2019-09-28      9\n",
      "8956    2019-09-28    2019-09-28      9\n",
      "8957    2019-09-28    2019-09-28      9\n",
      "8958    2019-09-28    2019-09-29      9\n",
      "8959    2019-09-21    2019-09-29      9\n",
      "8960    2019-09-21    2019-09-29      9\n",
      "8961    2019-09-29    2019-09-29      9\n",
      "8962    2019-09-21    2019-09-29      9\n",
      "8963    2019-09-29    2019-09-29      9\n",
      "8964    2019-09-27    2019-09-29      9\n",
      "8965    2019-09-28    2019-09-29      9\n",
      "8966    2019-09-23    2019-09-30      9\n",
      "8967    2019-09-30    2019-09-30      9\n",
      "8968    2019-09-30    2019-09-30      9\n",
      "8969    2019-09-30    2019-09-30      9\n",
      "8970    2019-09-30    2019-09-30      9\n",
      "8971    2019-09-30    2019-09-30      9\n",
      "8972    2019-09-29    2019-09-30      9\n",
      "8973    2019-09-30    2019-09-30      9\n",
      "8976    2019-09-21    2019-10-01      9\n",
      "8977    2019-09-25    2019-10-01      9\n",
      "8978    2019-09-30    2019-10-01      9\n",
      "8994    2019-09-27    2019-10-02      9\n",
      "9020    2019-09-23    2019-10-04      9\n",
      "9050    2019-09-23    2019-10-08      9\n",
      "9077    2019-09-26    2019-10-11      9\n",
      "9078    2019-05-31    2019-10-11      5\n",
      "9098    2019-09-16    2019-10-13      9\n",
      "9102    2019-09-18    2019-10-14      9\n",
      "9208    2019-09-11    2019-10-24      9\n",
      "\n",
      "[8974 rows x 3 columns]\n"
     ]
    }
   ],
   "source": [
    "df_inc['month'] = df_inc['inc_dincident'].dt.month\n",
    "print(df_inc)"
   ]
  },
  {
   "cell_type": "code",
   "execution_count": 16,
   "metadata": {},
   "outputs": [
    {
     "name": "stdout",
     "output_type": "stream",
     "text": [
      "[3 3 3 4 4 4 4 4 4 3 3 3]\n"
     ]
    }
   ],
   "source": [
    "month_occurences = np.array([3,3,3,4,4,4,4,4,4,3,3,3])\n",
    "print(month_occurences)"
   ]
  },
  {
   "cell_type": "code",
   "execution_count": 17,
   "metadata": {},
   "outputs": [
    {
     "name": "stdout",
     "output_type": "stream",
     "text": [
      "[31. 28. 31. 30. 31. 30. 31. 31. 30. 31. 30. 31.]\n"
     ]
    }
   ],
   "source": [
    "days_in_month = np.ones(12)*31\n",
    "days_in_month[1] = 28\n",
    "days_in_month[3] = 30\n",
    "days_in_month[5] = 30\n",
    "days_in_month[8] = 30\n",
    "days_in_month[10] = 30\n",
    "print(days_in_month)"
   ]
  },
  {
   "cell_type": "code",
   "execution_count": 18,
   "metadata": {},
   "outputs": [
    {
     "name": "stdout",
     "output_type": "stream",
     "text": [
      "[ 93.  84.  93. 120. 124. 120. 124. 124. 120.  93.  90.  93.]\n"
     ]
    }
   ],
   "source": [
    "division_factor = month_occurences*days_in_month\n",
    "print(division_factor)"
   ]
  },
  {
   "cell_type": "code",
   "execution_count": 19,
   "metadata": {},
   "outputs": [
    {
     "data": {
      "text/plain": [
       "(0.0, 1.0, 0.0, 1.0)"
      ]
     },
     "execution_count": 19,
     "metadata": {},
     "output_type": "execute_result"
    },
    {
     "data": {
      "image/png": "[encoded data removed]",
      "text/plain": [
       "<Figure size 432x288 with 2 Axes>"
      ]
     },
     "metadata": {
      "needs_background": "light"
     },
     "output_type": "display_data"
    }
   ],
   "source": [
    "bins = [i+0.5 for i in range(13)]\n",
    "data_x = [i+1 for i in range(12)]\n",
    "data_y_tot,_ = np.histogram(df_inc.month.values, bins=bins)\n",
    "data_y = data_y_tot/division_factor\n",
    "data_y_err = np.sqrt(data_y_tot)/division_factor\n",
    "plt.bar(data_x,data_y,label='Data')\n",
    "plt.bar(data_x,data_y_err,bottom=data_y-data_y_err/2,alpha=0.5,color='none',hatch=\"////\",label='Uncertainty')\n",
    "#plt.legend(frameon=False)\n",
    "ax = plt.gca()\n",
    "locs, labels = plt.xticks()\n",
    "plt.xticks(data_x,labels=['Jan','Feb','Mar','Apr','May','Jun','Jul','Aug','Sep','Oct','Nov','Dec'])\n",
    "plt.xlabel('Month');\n",
    "plt.ylabel('# events per day')\n",
    "plt.title('Daily number of patient medicine safety events at QA')\n",
    "img = plt.imread(\"nhsportsmouth.png\");\n",
    "ax = plt.axes([0.125+0.01,0.65, 0.3, 0.3], frameon=True)  # Change the numbers in this array to position your image [left, bottom, width, height])\n",
    "#ax.imshow(img)\n",
    "ax.axis('off')  # get rid of the ticks and ticklabels"
   ]
  },
  {
   "cell_type": "code",
   "execution_count": null,
   "metadata": {},
   "outputs": [],
   "source": []
  },
  {
   "cell_type": "code",
   "execution_count": 20,
   "metadata": {},
   "outputs": [
    {
     "data": {
      "image/png": "[encoded data removed]",
      "text/plain": [
       "<Figure size 432x288 with 2 Axes>"
      ]
     },
     "metadata": {
      "needs_background": "light"
     },
     "output_type": "display_data"
    }
   ],
   "source": [
    "k = 0\n",
    "reduced_chi_sq = 3\n",
    "while reduced_chi_sq > 2 or reduced_chi_sq < 0.5:\n",
    "    # data fit\n",
    "    polynomial_mod = PolynomialModel(k)\n",
    "    pars = polynomial_mod.guess(data_y, x=data_x, c0=data_y[0])\n",
    "    model = polynomial_mod\n",
    "    out = model.fit(data_y, pars, x=data_x, weights=1/data_y_err)\n",
    "\n",
    "    plt.bar(data_x,data_y,label='Data')\n",
    "    plt.bar(data_x,data_y_err,bottom=data_y-data_y_err/2,alpha=0.5,color='none',hatch=\"////\",label='Uncertainty')\n",
    "    plt.plot(data_x, out.best_fit, '-r', label='Fit '+r'$\\chi^2/N_{df}$ = '+str(round(out.redchi)))\n",
    "    plt.legend(loc=(1.04,0))\n",
    "    ax = plt.gca()\n",
    "    locs, labels = plt.xticks()\n",
    "    plt.xticks(data_x,labels=['Jan','Feb','Mar','Apr','May','Jun','Jul','Aug','Sep','Oct','Nov','Dec'])\n",
    "    plt.xlabel('Month');\n",
    "    plt.ylabel('# events per day')\n",
    "    plt.title('Daily number of patient medicine safety events at QA')\n",
    "    img = plt.imread(\"nhsportsmouth.png\");\n",
    "    ax = plt.axes([0.91,0.65, 0.3, 0.3], frameon=True)  # Change the numbers in this array to position your image [left, bottom, width, height])\n",
    "    ax.imshow(img)\n",
    "    ax.axis('off')  # get rid of the ticks and ticklabels\n",
    "    \n",
    "    reduced_chi_sq = out.redchi\n",
    "    k+=1"
   ]
  },
  {
   "cell_type": "code",
   "execution_count": 28,
   "metadata": {},
   "outputs": [],
   "source": [
    "df_rep = df.copy()\n",
    "df_rep = df_rep[df_rep.inc_dreported > '2016-03-31']\n",
    "df_rep = df_rep[df_rep.inc_dreported < '2019-10-01']"
   ]
  },
  {
   "cell_type": "code",
   "execution_count": 29,
   "metadata": {},
   "outputs": [],
   "source": [
    "df_rep['month'] = df_rep['inc_dreported'].dt.month"
   ]
  },
  {
   "cell_type": "code",
   "execution_count": 30,
   "metadata": {},
   "outputs": [
    {
     "data": {
      "image/png": "[encoded data removed]",
      "text/plain": [
       "<Figure size 432x288 with 2 Axes>"
      ]
     },
     "metadata": {
      "needs_background": "light"
     },
     "output_type": "display_data"
    }
   ],
   "source": [
    "k = 0\n",
    "reduced_chi_sq = 3\n",
    "while reduced_chi_sq > 2 or reduced_chi_sq < 0.5:\n",
    "    # data fit\n",
    "    polynomial_mod = PolynomialModel(k)\n",
    "    pars = polynomial_mod.guess(data_y, x=data_x, c0=data_y[0])\n",
    "    model = polynomial_mod\n",
    "    out = model.fit(data_y, pars, x=data_x, weights=1/data_y_err)\n",
    "\n",
    "    plt.bar(data_x,data_y,label='Data')\n",
    "    plt.bar(data_x,data_y_err,bottom=data_y-data_y_err/2,alpha=0.5,color='none',hatch=\"////\",label='Uncertainty')\n",
    "    plt.plot(data_x, out.best_fit, '-r', label='Fit '+r'$\\chi^2/N_{df}$ = '+str(round(out.redchi)))\n",
    "    plt.legend(loc=(1.04,0))\n",
    "    ax = plt.gca()\n",
    "    locs, labels = plt.xticks()\n",
    "    plt.xticks(data_x,labels=['Jan','Feb','Mar','Apr','May','Jun','Jul','Aug','Sep','Oct','Nov','Dec'])\n",
    "    plt.xlabel('Month');\n",
    "    plt.ylabel('# events per day')\n",
    "    plt.title('Daily number of patient medicine safety events at QA')\n",
    "    img = plt.imread(\"nhsportsmouth.png\");\n",
    "    ax = plt.axes([0.91,0.65, 0.3, 0.3], frameon=True)  # Change the numbers in this array to position your image [left, bottom, width, height])\n",
    "    ax.imshow(img)\n",
    "    ax.axis('off')  # get rid of the ticks and ticklabels\n",
    "    \n",
    "    reduced_chi_sq = out.redchi\n",
    "    k+=1"
   ]
  }
 ],
 "metadata": {
  "kernelspec": {
   "display_name": "Python 3",
   "language": "python",
   "name": "python3"
  },
  "language_info": {
   "codemirror_mode": {
    "name": "ipython",
    "version": 3
   },
   "file_extension": ".py",
   "mimetype": "text/x-python",
   "name": "python",
   "nbconvert_exporter": "python",
   "pygments_lexer": "ipython3",
   "version": "3.7.3"
  }
 },
 "nbformat": 4,
 "nbformat_minor": 2
}
