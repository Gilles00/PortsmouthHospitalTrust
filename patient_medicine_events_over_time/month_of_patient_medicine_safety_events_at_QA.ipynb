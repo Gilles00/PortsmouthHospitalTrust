{
 "cells": [
  {
   "cell_type": "code",
   "execution_count": 19,
   "metadata": {},
   "outputs": [],
   "source": [
    "import pandas as pd\n",
    "import numpy as np\n",
    "import matplotlib.pyplot as plt\n",
    "import matplotlib.image as mpimg\n",
    "import pyodbc\n",
    "from lmfit.models import PolynomialModel"
   ]
  },
  {
   "cell_type": "code",
   "execution_count": 3,
   "metadata": {},
   "outputs": [
    {
     "name": "stdout",
     "output_type": "stream",
     "text": [
      "     inc_dincident\n",
      "0       2016-03-31\n",
      "1       2016-03-31\n",
      "2       2016-04-01\n",
      "3       2016-03-25\n",
      "4       2016-04-02\n",
      "5       2016-04-01\n",
      "6       2016-04-01\n",
      "7       2016-04-02\n",
      "8       2016-04-02\n",
      "9       2016-04-03\n",
      "10      2016-04-03\n",
      "11      2016-04-02\n",
      "12      2016-04-02\n",
      "13      2016-04-02\n",
      "14      2016-04-02\n",
      "15      2016-04-02\n",
      "16      2016-04-04\n",
      "17      2016-04-02\n",
      "18      2016-04-04\n",
      "19      2016-04-02\n",
      "20      2016-03-23\n",
      "21      2016-04-02\n",
      "22      2016-04-02\n",
      "23      2016-04-04\n",
      "24      2016-04-04\n",
      "25      2016-04-05\n",
      "26      2016-03-30\n",
      "27      2016-04-06\n",
      "28      2016-04-06\n",
      "29      2016-04-06\n",
      "...            ...\n",
      "9030    2019-10-07\n",
      "9031    2019-10-07\n",
      "9032    2019-10-07\n",
      "9033    2019-10-07\n",
      "9034    2019-10-07\n",
      "9035    2019-10-07\n",
      "9036    2019-10-04\n",
      "9037    2019-10-07\n",
      "9038    2019-10-08\n",
      "9039    2019-10-08\n",
      "9040    2019-09-23\n",
      "9041    2019-10-08\n",
      "9042    2019-10-08\n",
      "9043    2019-10-07\n",
      "9044    2019-10-09\n",
      "9045    2019-10-07\n",
      "9046    2019-10-08\n",
      "9047    2019-10-10\n",
      "9048    2019-10-10\n",
      "9049    2019-10-10\n",
      "9050    2019-10-10\n",
      "9051    2019-10-09\n",
      "9052    2019-10-10\n",
      "9053    2019-10-09\n",
      "9054    2019-10-09\n",
      "9055    2019-10-09\n",
      "9056    2019-10-10\n",
      "9057    2019-10-10\n",
      "9058    2019-10-11\n",
      "9059    2019-10-11\n",
      "\n",
      "[9060 rows x 1 columns]\n"
     ]
    }
   ],
   "source": [
    "sql_conn = pyodbc.connect('DRIVER={SQL Server};'\n",
    "                            'SERVER=L_AAGDATIX;'\n",
    "                            'DATABASE=DatixCRM;'\n",
    "                            'Trusted_Connection=yes') \n",
    "query = \"set transaction isolation level read uncommitted select inc_dincident from DatixCRM.dbo.incidents_main where inc_type='PAT' and inc_category='MEDIC' and inc_organisation='QA'\"\n",
    "df = pd.read_sql(query, sql_conn)\n",
    "print(df)"
   ]
  },
  {
   "cell_type": "code",
   "execution_count": 4,
   "metadata": {},
   "outputs": [
    {
     "name": "stdout",
     "output_type": "stream",
     "text": [
      "     inc_dincident\n",
      "2       2016-04-01\n",
      "4       2016-04-02\n",
      "5       2016-04-01\n",
      "6       2016-04-01\n",
      "7       2016-04-02\n",
      "8       2016-04-02\n",
      "9       2016-04-03\n",
      "10      2016-04-03\n",
      "11      2016-04-02\n",
      "12      2016-04-02\n",
      "13      2016-04-02\n",
      "14      2016-04-02\n",
      "15      2016-04-02\n",
      "16      2016-04-04\n",
      "17      2016-04-02\n",
      "18      2016-04-04\n",
      "19      2016-04-02\n",
      "21      2016-04-02\n",
      "22      2016-04-02\n",
      "23      2016-04-04\n",
      "24      2016-04-04\n",
      "25      2016-04-05\n",
      "27      2016-04-06\n",
      "28      2016-04-06\n",
      "29      2016-04-06\n",
      "30      2016-04-06\n",
      "31      2016-04-06\n",
      "32      2016-04-06\n",
      "33      2016-04-07\n",
      "34      2016-04-05\n",
      "...            ...\n",
      "8950    2019-09-26\n",
      "8951    2019-09-26\n",
      "8952    2019-09-27\n",
      "8953    2019-09-27\n",
      "8954    2019-09-27\n",
      "8955    2019-09-27\n",
      "8956    2019-09-28\n",
      "8957    2019-09-26\n",
      "8958    2019-09-28\n",
      "8959    2019-09-28\n",
      "8960    2019-09-28\n",
      "8961    2019-09-21\n",
      "8962    2019-09-21\n",
      "8963    2019-09-29\n",
      "8964    2019-09-21\n",
      "8965    2019-09-29\n",
      "8966    2019-09-27\n",
      "8967    2019-09-28\n",
      "8968    2019-09-23\n",
      "8969    2019-09-30\n",
      "8970    2019-09-30\n",
      "8971    2019-09-30\n",
      "8972    2019-09-30\n",
      "8973    2019-09-30\n",
      "8974    2019-09-29\n",
      "8975    2019-09-30\n",
      "8978    2019-09-21\n",
      "8979    2019-09-30\n",
      "9014    2019-09-23\n",
      "9040    2019-09-23\n",
      "\n",
      "[8969 rows x 1 columns]\n"
     ]
    }
   ],
   "source": [
    "df = df[df.inc_dincident > '2016-03-31']\n",
    "df = df[df.inc_dincident < '2019-10-01']\n",
    "print(df)"
   ]
  },
  {
   "cell_type": "code",
   "execution_count": 6,
   "metadata": {},
   "outputs": [
    {
     "name": "stdout",
     "output_type": "stream",
     "text": [
      "     inc_dincident  month\n",
      "2       2016-04-01      4\n",
      "4       2016-04-02      4\n",
      "5       2016-04-01      4\n",
      "6       2016-04-01      4\n",
      "7       2016-04-02      4\n",
      "8       2016-04-02      4\n",
      "9       2016-04-03      4\n",
      "10      2016-04-03      4\n",
      "11      2016-04-02      4\n",
      "12      2016-04-02      4\n",
      "13      2016-04-02      4\n",
      "14      2016-04-02      4\n",
      "15      2016-04-02      4\n",
      "16      2016-04-04      4\n",
      "17      2016-04-02      4\n",
      "18      2016-04-04      4\n",
      "19      2016-04-02      4\n",
      "21      2016-04-02      4\n",
      "22      2016-04-02      4\n",
      "23      2016-04-04      4\n",
      "24      2016-04-04      4\n",
      "25      2016-04-05      4\n",
      "27      2016-04-06      4\n",
      "28      2016-04-06      4\n",
      "29      2016-04-06      4\n",
      "30      2016-04-06      4\n",
      "31      2016-04-06      4\n",
      "32      2016-04-06      4\n",
      "33      2016-04-07      4\n",
      "34      2016-04-05      4\n",
      "...            ...    ...\n",
      "8950    2019-09-26      9\n",
      "8951    2019-09-26      9\n",
      "8952    2019-09-27      9\n",
      "8953    2019-09-27      9\n",
      "8954    2019-09-27      9\n",
      "8955    2019-09-27      9\n",
      "8956    2019-09-28      9\n",
      "8957    2019-09-26      9\n",
      "8958    2019-09-28      9\n",
      "8959    2019-09-28      9\n",
      "8960    2019-09-28      9\n",
      "8961    2019-09-21      9\n",
      "8962    2019-09-21      9\n",
      "8963    2019-09-29      9\n",
      "8964    2019-09-21      9\n",
      "8965    2019-09-29      9\n",
      "8966    2019-09-27      9\n",
      "8967    2019-09-28      9\n",
      "8968    2019-09-23      9\n",
      "8969    2019-09-30      9\n",
      "8970    2019-09-30      9\n",
      "8971    2019-09-30      9\n",
      "8972    2019-09-30      9\n",
      "8973    2019-09-30      9\n",
      "8974    2019-09-29      9\n",
      "8975    2019-09-30      9\n",
      "8978    2019-09-21      9\n",
      "8979    2019-09-30      9\n",
      "9014    2019-09-23      9\n",
      "9040    2019-09-23      9\n",
      "\n",
      "[8969 rows x 2 columns]\n"
     ]
    }
   ],
   "source": [
    "df['month'] = df['inc_dincident'].dt.month\n",
    "print(df)"
   ]
  },
  {
   "cell_type": "code",
   "execution_count": 7,
   "metadata": {},
   "outputs": [
    {
     "name": "stdout",
     "output_type": "stream",
     "text": [
      "[3 3 3 4 4 4 4 4 4 3 3 3]\n"
     ]
    }
   ],
   "source": [
    "month_occurences = np.array([3,3,3,4,4,4,4,4,4,3,3,3])\n",
    "print(month_occurences)"
   ]
  },
  {
   "cell_type": "code",
   "execution_count": 11,
   "metadata": {},
   "outputs": [
    {
     "name": "stdout",
     "output_type": "stream",
     "text": [
      "[31. 28. 31. 30. 31. 30. 31. 31. 30. 31. 30. 31.]\n"
     ]
    }
   ],
   "source": [
    "days_in_month = np.ones(12)*31\n",
    "days_in_month[1] = 28\n",
    "days_in_month[3] = 30\n",
    "days_in_month[5] = 30\n",
    "days_in_month[8] = 30\n",
    "days_in_month[10] = 30\n",
    "print(days_in_month)"
   ]
  },
  {
   "cell_type": "code",
   "execution_count": 12,
   "metadata": {},
   "outputs": [
    {
     "name": "stdout",
     "output_type": "stream",
     "text": [
      "[ 93.  84.  93. 120. 124. 120. 124. 124. 120.  93.  90.  93.]\n"
     ]
    }
   ],
   "source": [
    "division_factor = month_occurences*days_in_month\n",
    "print(division_factor)"
   ]
  },
  {
   "cell_type": "code",
   "execution_count": 17,
   "metadata": {},
   "outputs": [
    {
     "data": {
      "text/plain": [
       "(0.0, 1.0, 0.0, 1.0)"
      ]
     },
     "execution_count": 17,
     "metadata": {},
     "output_type": "execute_result"
    },
    {
     "data": {
      "image/png": "[encoded data removed]",
      "text/plain": [
       "<Figure size 432x288 with 2 Axes>"
      ]
     },
     "metadata": {
      "needs_background": "light"
     },
     "output_type": "display_data"
    }
   ],
   "source": [
    "bins = [i+0.5 for i in range(13)]\n",
    "data_x = [i+1 for i in range(12)]\n",
    "data_y_tot,_ = np.histogram(df.month.values, bins=bins)\n",
    "data_y = data_y_tot/division_factor\n",
    "data_y_err = np.sqrt(data_y_tot)/division_factor\n",
    "plt.bar(data_x,data_y,label='Data')\n",
    "plt.bar(data_x,data_y_err,bottom=data_y-data_y_err/2,alpha=0.5,color='none',hatch=\"////\",label='Uncertainty')\n",
    "#plt.legend(frameon=False)\n",
    "ax = plt.gca()\n",
    "locs, labels = plt.xticks()\n",
    "plt.xticks(data_x,labels=['Jan','Feb','Mar','Apr','May','Jun','Jul','Aug','Sep','Oct','Nov','Dec'])\n",
    "plt.xlabel('Month');\n",
    "plt.ylabel('# events per day')\n",
    "plt.title('Daily number of patient medicine safety events at QA')\n",
    "img = plt.imread(\"nhsportsmouth.png\");\n",
    "ax = plt.axes([0.125+0.01,0.65, 0.3, 0.3], frameon=True)  # Change the numbers in this array to position your image [left, bottom, width, height])\n",
    "#ax.imshow(img)\n",
    "ax.axis('off')  # get rid of the ticks and ticklabels"
   ]
  },
  {
   "cell_type": "code",
   "execution_count": 20,
   "metadata": {},
   "outputs": [],
   "source": [
    "# data fit\n",
    "polynomial_mod = PolynomialModel(0)\n",
    "pars = polynomial_mod.guess(data_y, x=data_x, c0=data_y[0])\n",
    "model = polynomial_mod\n",
    "out = model.fit(data_y, pars, x=data_x)"
   ]
  },
  {
   "cell_type": "code",
   "execution_count": 31,
   "metadata": {},
   "outputs": [
    {
     "data": {
      "text/plain": [
       "(-0.5, 3301.5, 495.5, -0.5)"
      ]
     },
     "execution_count": 31,
     "metadata": {},
     "output_type": "execute_result"
    },
    {
     "data": {
      "image/png": "[encoded data removed]",
      "text/plain": [
       "<Figure size 432x288 with 2 Axes>"
      ]
     },
     "metadata": {
      "needs_background": "light"
     },
     "output_type": "display_data"
    }
   ],
   "source": [
    "plt.bar(data_x,data_y,label='Data')\n",
    "plt.bar(data_x,data_y_err,bottom=data_y-data_y_err/2,alpha=0.5,color='none',hatch=\"////\",label='Uncertainty')\n",
    "plt.plot(data_x, out.best_fit, '-r', label='Constant Fit')\n",
    "plt.legend(loc=(1.04,0))\n",
    "ax = plt.gca()\n",
    "locs, labels = plt.xticks()\n",
    "plt.xticks(data_x,labels=['Jan','Feb','Mar','Apr','May','Jun','Jul','Aug','Sep','Oct','Nov','Dec'])\n",
    "plt.xlabel('Month');\n",
    "plt.ylabel('# events per day')\n",
    "plt.title('Daily number of patient medicine safety events at QA')\n",
    "img = plt.imread(\"nhsportsmouth.png\");\n",
    "ax = plt.axes([0.91,0.65, 0.3, 0.3], frameon=True)  # Change the numbers in this array to position your image [left, bottom, width, height])\n",
    "ax.imshow(img)\n",
    "ax.axis('off')  # get rid of the ticks and ticklabels"
   ]
  },
  {
   "cell_type": "code",
   "execution_count": null,
   "metadata": {},
   "outputs": [],
   "source": []
  }
 ],
 "metadata": {
  "kernelspec": {
   "display_name": "Python 3",
   "language": "python",
   "name": "python3"
  },
  "language_info": {
   "codemirror_mode": {
    "name": "ipython",
    "version": 3
   },
   "file_extension": ".py",
   "mimetype": "text/x-python",
   "name": "python",
   "nbconvert_exporter": "python",
   "pygments_lexer": "ipython3",
   "version": "3.7.3"
  }
 },
 "nbformat": 4,
 "nbformat_minor": 2
}
