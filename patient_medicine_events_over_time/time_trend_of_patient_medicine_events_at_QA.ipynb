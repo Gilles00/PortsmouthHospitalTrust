{
 "cells": [
  {
   "cell_type": "code",
   "execution_count": 127,
   "metadata": {},
   "outputs": [],
   "source": [
    "import pandas as pd\n",
    "import numpy as np\n",
    "import matplotlib.pyplot as plt\n",
    "import matplotlib.image as mpimg\n",
    "import pyodbc\n",
    "from lmfit.models import PolynomialModel\n",
    "import pylab as pl"
   ]
  },
  {
   "cell_type": "code",
   "execution_count": 2,
   "metadata": {},
   "outputs": [
    {
     "name": "stdout",
     "output_type": "stream",
     "text": [
      "     inc_dincident\n",
      "0       2016-03-31\n",
      "1       2016-03-31\n",
      "2       2016-04-01\n",
      "3       2016-03-25\n",
      "4       2016-04-02\n",
      "5       2016-04-01\n",
      "6       2016-04-01\n",
      "7       2016-04-02\n",
      "8       2016-04-02\n",
      "9       2016-04-03\n",
      "10      2016-04-03\n",
      "11      2016-04-02\n",
      "12      2016-04-02\n",
      "13      2016-04-02\n",
      "14      2016-04-02\n",
      "15      2016-04-02\n",
      "16      2016-04-04\n",
      "17      2016-04-02\n",
      "18      2016-04-04\n",
      "19      2016-04-02\n",
      "20      2016-03-23\n",
      "21      2016-04-02\n",
      "22      2016-04-02\n",
      "23      2016-04-04\n",
      "24      2016-04-04\n",
      "25      2016-04-05\n",
      "26      2016-03-30\n",
      "27      2016-04-06\n",
      "28      2016-04-06\n",
      "29      2016-04-06\n",
      "...            ...\n",
      "9021    2019-10-05\n",
      "9022    2019-10-05\n",
      "9023    2019-10-06\n",
      "9024    2019-10-06\n",
      "9025    2019-10-06\n",
      "9026    2019-10-07\n",
      "9027    2019-10-06\n",
      "9028    2019-10-07\n",
      "9029    2019-10-07\n",
      "9030    2019-10-07\n",
      "9031    2019-10-07\n",
      "9032    2019-10-07\n",
      "9033    2019-10-07\n",
      "9034    2019-10-07\n",
      "9035    2019-10-07\n",
      "9036    2019-10-04\n",
      "9037    2019-10-07\n",
      "9038    2019-10-08\n",
      "9039    2019-10-08\n",
      "9040    2019-09-23\n",
      "9041    2019-10-08\n",
      "9042    2019-10-08\n",
      "9043    2019-10-07\n",
      "9044    2019-10-09\n",
      "9045    2019-10-07\n",
      "9046    2019-10-08\n",
      "9047    2019-10-10\n",
      "9048    2019-10-10\n",
      "9049    2019-10-10\n",
      "9050    2019-10-10\n",
      "\n",
      "[9051 rows x 1 columns]\n"
     ]
    }
   ],
   "source": [
    "sql_conn = pyodbc.connect('DRIVER={SQL Server};'\n",
    "                            'SERVER=L_AAGDATIX;'\n",
    "                            'DATABASE=DatixCRM;'\n",
    "                            'Trusted_Connection=yes') \n",
    "query = \"set transaction isolation level read uncommitted select inc_dincident from DatixCRM.dbo.incidents_main where inc_type='PAT' and inc_category='MEDIC' and inc_organisation='QA'\"\n",
    "df = pd.read_sql(query, sql_conn)\n",
    "print(df)"
   ]
  },
  {
   "cell_type": "code",
   "execution_count": 3,
   "metadata": {},
   "outputs": [
    {
     "name": "stdout",
     "output_type": "stream",
     "text": [
      "     inc_dincident\n",
      "2       2016-04-01\n",
      "4       2016-04-02\n",
      "5       2016-04-01\n",
      "6       2016-04-01\n",
      "7       2016-04-02\n",
      "8       2016-04-02\n",
      "9       2016-04-03\n",
      "10      2016-04-03\n",
      "11      2016-04-02\n",
      "12      2016-04-02\n",
      "13      2016-04-02\n",
      "14      2016-04-02\n",
      "15      2016-04-02\n",
      "16      2016-04-04\n",
      "17      2016-04-02\n",
      "18      2016-04-04\n",
      "19      2016-04-02\n",
      "21      2016-04-02\n",
      "22      2016-04-02\n",
      "23      2016-04-04\n",
      "24      2016-04-04\n",
      "25      2016-04-05\n",
      "27      2016-04-06\n",
      "28      2016-04-06\n",
      "29      2016-04-06\n",
      "30      2016-04-06\n",
      "31      2016-04-06\n",
      "32      2016-04-06\n",
      "33      2016-04-07\n",
      "34      2016-04-05\n",
      "...            ...\n",
      "8950    2019-09-26\n",
      "8951    2019-09-26\n",
      "8952    2019-09-27\n",
      "8953    2019-09-27\n",
      "8954    2019-09-27\n",
      "8955    2019-09-27\n",
      "8956    2019-09-28\n",
      "8957    2019-09-26\n",
      "8958    2019-09-28\n",
      "8959    2019-09-28\n",
      "8960    2019-09-28\n",
      "8961    2019-09-21\n",
      "8962    2019-09-21\n",
      "8963    2019-09-29\n",
      "8964    2019-09-21\n",
      "8965    2019-09-29\n",
      "8966    2019-09-27\n",
      "8967    2019-09-28\n",
      "8968    2019-09-23\n",
      "8969    2019-09-30\n",
      "8970    2019-09-30\n",
      "8971    2019-09-30\n",
      "8972    2019-09-30\n",
      "8973    2019-09-30\n",
      "8974    2019-09-29\n",
      "8975    2019-09-30\n",
      "8978    2019-09-21\n",
      "8979    2019-09-30\n",
      "9014    2019-09-23\n",
      "9040    2019-09-23\n",
      "\n",
      "[8969 rows x 1 columns]\n"
     ]
    }
   ],
   "source": [
    "df = df[df.inc_dincident > '2016-03-31']\n",
    "df = df[df.inc_dincident < '2019-10-01']\n",
    "print(df)"
   ]
  },
  {
   "cell_type": "code",
   "execution_count": 54,
   "metadata": {},
   "outputs": [
    {
     "name": "stdout",
     "output_type": "stream",
     "text": [
      "[[143]\n",
      " [186]\n",
      " [135]\n",
      " [126]\n",
      " [160]\n",
      " [159]\n",
      " [203]\n",
      " [187]\n",
      " [189]\n",
      " [178]\n",
      " [170]\n",
      " [195]\n",
      " [181]\n",
      " [207]\n",
      " [248]\n",
      " [215]\n",
      " [238]\n",
      " [237]\n",
      " [243]\n",
      " [235]\n",
      " [203]\n",
      " [209]\n",
      " [192]\n",
      " [227]\n",
      " [247]\n",
      " [271]\n",
      " [202]\n",
      " [201]\n",
      " [193]\n",
      " [195]\n",
      " [232]\n",
      " [227]\n",
      " [240]\n",
      " [243]\n",
      " [237]\n",
      " [249]\n",
      " [225]\n",
      " [248]\n",
      " [284]\n",
      " [323]\n",
      " [238]\n",
      " [248]]\n"
     ]
    }
   ],
   "source": [
    "month_year = df.groupby([df.inc_dincident.dt.year, df.inc_dincident.dt.month]).agg('count')\n",
    "print(month_year.values)"
   ]
  },
  {
   "cell_type": "code",
   "execution_count": 34,
   "metadata": {},
   "outputs": [
    {
     "name": "stdout",
     "output_type": "stream",
     "text": [
      "[30. 31. 30. 31. 31. 30. 31. 30. 31. 31. 28. 31. 30. 31. 30. 31. 31. 30.\n",
      " 31. 30. 31. 31. 28. 31. 30. 31. 30. 31. 31. 30. 31. 30. 31. 31. 28. 31.\n",
      " 30. 31. 30. 31. 31. 30.]\n"
     ]
    }
   ],
   "source": [
    "days_in_month = np.ones(len(month_year.values))*31\n",
    "days_in_month[0] = 30\n",
    "days_in_month[2] = 30\n",
    "days_in_month[5] = 30\n",
    "days_in_month[7] = 30\n",
    "days_in_month[10] = 28\n",
    "days_in_month[12] = 30\n",
    "days_in_month[14] = 30\n",
    "days_in_month[17] = 30\n",
    "days_in_month[19] = 30\n",
    "days_in_month[22] = 28\n",
    "days_in_month[24] = 30\n",
    "days_in_month[26] = 30\n",
    "days_in_month[29] = 30\n",
    "days_in_month[31] = 30\n",
    "days_in_month[34] = 28\n",
    "days_in_month[36] = 30\n",
    "days_in_month[38] = 30\n",
    "days_in_month[41] = 30\n",
    "print(days_in_month)"
   ]
  },
  {
   "cell_type": "code",
   "execution_count": 35,
   "metadata": {},
   "outputs": [],
   "source": [
    "months_labels = ['Apr 16', 'May 16', 'Jun 16', 'Jul 16', 'Aug 16', 'Sep 16', 'Oct 16', 'Nov 16', 'Dec 16', 'Jan 17', 'Feb 17', 'Mar 17', 'Apr 17', 'May 17', 'Jun 17', 'Jul 17', 'Aug 17', 'Sep 17', 'Oct 17', 'Nov 17', 'Dec 17', 'Jan 18', 'Feb 18', 'Mar 18', 'Apr 18', 'May 18', 'Jun 18', 'Jul 18', 'Aug 18', 'Sep 18', 'Oct 18', 'Nov 18', 'Dec 18', 'Jan 19', 'Feb 19', 'Mar 19', 'Apr 19', 'May 19', 'Jun 19', 'Jul 19', 'Aug 19', 'Sep 19']"
   ]
  },
  {
   "cell_type": "code",
   "execution_count": 58,
   "metadata": {},
   "outputs": [],
   "source": [
    "num_per_day = month_year.inc_dincident.values/days_in_month\n",
    "num_per_day_err = np.sqrt(month_year.inc_dincident.values)/days_in_month"
   ]
  },
  {
   "cell_type": "code",
   "execution_count": 91,
   "metadata": {},
   "outputs": [
    {
     "data": {
      "text/plain": [
       "(-0.5, 3301.5, 495.5, -0.5)"
      ]
     },
     "execution_count": 91,
     "metadata": {},
     "output_type": "execute_result"
    },
    {
     "data": {
      "image/png": "[encoded data removed]",
      "text/plain": [
       "<Figure size 432x288 with 2 Axes>"
      ]
     },
     "metadata": {
      "needs_background": "light"
     },
     "output_type": "display_data"
    }
   ],
   "source": [
    "plt.errorbar(months_labels,num_per_day,num_per_day_err,capsize=5,fmt='o',label='Data');\n",
    "plt.xticks(rotation='vertical');\n",
    "plt.legend(loc='lower right',frameon=False)\n",
    "plt.ylabel('Patient medicine safety events per day')\n",
    "plt.xlabel('Month year')\n",
    "plt.title('Daily number of patient medicine safety events')\n",
    "img = plt.imread(\"nhsportsmouth.png\");\n",
    "ax = plt.axes([0.125+0.01,0.5, 0.6, 0.6], frameon=True)  # Change the numbers in this array to position your image [left, bottom, width, height])\n",
    "ax.imshow(img)\n",
    "ax.axis('off')  # get rid of the ticks and ticklabels"
   ]
  },
  {
   "cell_type": "code",
   "execution_count": 96,
   "metadata": {},
   "outputs": [],
   "source": [
    "data_x = np.array([i for i in range(len(months_labels))])\n",
    "data_y = num_per_day"
   ]
  },
  {
   "cell_type": "code",
   "execution_count": 98,
   "metadata": {},
   "outputs": [],
   "source": [
    "# data fit\n",
    "polynomial_mod = PolynomialModel(1)\n",
    "pars = polynomial_mod.guess(data_y, x=data_x, c0=data_y[0], c1=0)\n",
    "model = polynomial_mod\n",
    "out = model.fit(data_y, pars, x=data_x)"
   ]
  },
  {
   "cell_type": "code",
   "execution_count": 104,
   "metadata": {},
   "outputs": [
    {
     "data": {
      "text/plain": [
       "(-0.5, 3301.5, 495.5, -0.5)"
      ]
     },
     "execution_count": 104,
     "metadata": {},
     "output_type": "execute_result"
    },
    {
     "data": {
      "image/png": "[encoded data removed]",
      "text/plain": [
       "<Figure size 432x288 with 2 Axes>"
      ]
     },
     "metadata": {
      "needs_background": "light"
     },
     "output_type": "display_data"
    }
   ],
   "source": [
    "plt.errorbar(months_labels,num_per_day,num_per_day_err,capsize=5,fmt='o',label='Data');\n",
    "plt.plot(months_labels, out.best_fit, label='Linear Fit')\n",
    "plt.xticks(rotation='vertical');\n",
    "plt.legend(loc='lower right',frameon=False)\n",
    "plt.ylabel('Patient medicine safety events per day')\n",
    "plt.xlabel('Month year')\n",
    "plt.title('Daily number of patient medicine safety events')\n",
    "img = plt.imread(\"nhsportsmouth.png\");\n",
    "ax = plt.axes([0.125+0.01,0.5, 0.6, 0.6], frameon=True)  # Change the numbers in this array to position your image [left, bottom, width, height])\n",
    "ax.imshow(img)\n",
    "ax.axis('off')  # get rid of the ticks and ticklabels"
   ]
  },
  {
   "cell_type": "code",
   "execution_count": 136,
   "metadata": {},
   "outputs": [
    {
     "name": "stdout",
     "output_type": "stream",
     "text": [
      "['Spring', 'Spring', 'Summer', 'Summer', 'Summer', 'Autumn', 'Autumn', 'Autumn', 'Winter', 'Winter', 'Winter', 'Spring', 'Spring', 'Spring', 'Summer', 'Summer', 'Summer', 'Autumn', 'Autumn', 'Autumn', 'Winter', 'Winter', 'Winter', 'Spring', 'Spring', 'Spring', 'Summer', 'Summer', 'Summer', 'Autumn', 'Autumn', 'Autumn', 'Winter', 'Winter', 'Winter', 'Spring', 'Spring', 'Spring', 'Summer', 'Summer', 'Summer', 'Autumn']\n",
      "[0, 0, 1, 1, 1, 2, 2, 2, 3, 3, 3, 0, 0, 0, 1, 1, 1, 2, 2, 2, 3, 3, 3, 0, 0, 0, 1, 1, 1, 2, 2, 2, 3, 3, 3, 0, 0, 0, 1, 1, 1, 2]\n",
      "['red', 'red', 'green', 'green', 'green', 'blue', 'blue', 'blue', 'purple', 'purple', 'purple', 'red', 'red', 'red', 'green', 'green', 'green', 'blue', 'blue', 'blue', 'purple', 'purple', 'purple', 'red', 'red', 'red', 'green', 'green', 'green', 'blue', 'blue', 'blue', 'purple', 'purple', 'purple', 'red', 'red', 'red', 'green', 'green', 'green', 'blue']\n",
      "42\n",
      "42\n",
      "42\n",
      "42\n"
     ]
    }
   ],
   "source": [
    "season_labels = ['Spring' for i in range(len(months_labels))]\n",
    "for i in range(len(season_labels)):\n",
    "    if 'Ju' in months_labels[i]: season_labels[i]='Summer'\n",
    "    elif 'Au' in months_labels[i]: season_labels[i]='Summer'\n",
    "    elif 'Se' in months_labels[i]: season_labels[i]='Autumn'\n",
    "    elif 'Oc' in months_labels[i]: season_labels[i]='Autumn'\n",
    "    elif 'No' in months_labels[i]: season_labels[i]='Autumn'\n",
    "    elif 'De' in months_labels[i]: season_labels[i]='Winter'\n",
    "    elif 'Ja' in months_labels[i]: season_labels[i]='Winter'\n",
    "    elif 'Fe' in months_labels[i]: season_labels[i]='Winter'\n",
    "print(season_labels)\n",
    "colors = ['red','green','blue','purple']\n",
    "season_codes = []\n",
    "for season in season_labels:\n",
    "    if season == 'Spring': season_codes.append(0)\n",
    "    elif season == 'Summer': season_codes.append(1)\n",
    "    elif season == 'Autumn': season_codes.append(2)\n",
    "    else: season_codes.append(3)\n",
    "print(season_codes)\n",
    "season_colours = []\n",
    "for season in season_labels:\n",
    "    if season == 'Spring': season_colours.append('red')\n",
    "    elif season == 'Summer': season_colours.append('green')\n",
    "    elif season == 'Autumn': season_colours.append('blue')\n",
    "    else: season_colours.append('purple')\n",
    "print(season_colours)\n",
    "print(len(months_labels))\n",
    "print(len(num_per_day))\n",
    "print(len(num_per_day_err))\n",
    "print(len(season_colours))"
   ]
  },
  {
   "cell_type": "code",
   "execution_count": 151,
   "metadata": {},
   "outputs": [
    {
     "name": "stdout",
     "output_type": "stream",
     "text": [
      "[4.76666667 6.         0.         0.         0.         0.\n",
      " 0.         0.         0.         0.         0.         6.29032258\n",
      " 6.03333333 6.67741935 0.         0.         0.         0.\n",
      " 0.         0.         0.         0.         0.         7.32258065\n",
      " 8.23333333 8.74193548 0.         0.         0.         0.\n",
      " 0.         0.         0.         0.         0.         8.03225806\n",
      " 7.5        8.         0.         0.         0.         0.        ]\n"
     ]
    }
   ],
   "source": [
    "num_per_spring_day = np.zeros(len(num_per_day))\n",
    "num_per_summer_day = np.zeros(len(num_per_day))\n",
    "num_per_autumn_day = np.zeros(len(num_per_day))\n",
    "num_per_winter_day = np.zeros(len(num_per_day))\n",
    "for idx,season in enumerate(season_labels):\n",
    "    if season == 'Spring': num_per_spring_day[idx] = num_per_day[idx]\n",
    "    elif season == 'Summer': num_per_summer_day[idx] = num_per_day[idx]\n",
    "    elif season == 'Autumn': num_per_autumn_day[idx] = num_per_day[idx]\n",
    "    else: num_per_winter_day[idx] = num_per_day[idx]\n",
    "print(num_per_spring_day)"
   ]
  },
  {
   "cell_type": "code",
   "execution_count": 163,
   "metadata": {},
   "outputs": [
    {
     "data": {
      "text/plain": [
       "(-0.5, 3301.5, 495.5, -0.5)"
      ]
     },
     "execution_count": 163,
     "metadata": {},
     "output_type": "execute_result"
    },
    {
     "data": {
      "image/png": "[encoded data removed]",
      "text/plain": [
       "<Figure size 432x288 with 2 Axes>"
      ]
     },
     "metadata": {
      "needs_background": "light"
     },
     "output_type": "display_data"
    }
   ],
   "source": [
    "plt.errorbar(months_labels,num_per_spring_day,num_per_day_err,capsize=5,fmt='go',label='Spring');\n",
    "plt.errorbar(months_labels,num_per_summer_day,num_per_day_err,capsize=5,fmt='ro',label='Summer');\n",
    "plt.errorbar(months_labels,num_per_autumn_day,num_per_day_err,capsize=5,fmt='yo',label='Autumn');\n",
    "plt.errorbar(months_labels,num_per_winter_day,num_per_day_err,capsize=5,fmt='bo',label='Winter');\n",
    "plt.plot(months_labels, out.best_fit, '-m',label='Linear Fit')\n",
    "plt.xticks(rotation='vertical');\n",
    "plt.legend(loc='lower right',frameon=False)\n",
    "plt.ylabel('Patient medicine safety events per day')\n",
    "plt.xlabel('Month year')\n",
    "plt.title('Daily number of patient medicine safety events at QA')\n",
    "plt.ylim(bottom=3.1)\n",
    "img = plt.imread(\"nhsportsmouth.png\");\n",
    "ax = plt.axes([0.125+0.01,0.5, 0.6, 0.6], frameon=True)  # Change the numbers in this array to position your image [left, bottom, width, height])\n",
    "ax.imshow(img)\n",
    "ax.axis('off')  # get rid of the ticks and ticklabels"
   ]
  },
  {
   "cell_type": "code",
   "execution_count": null,
   "metadata": {},
   "outputs": [],
   "source": []
  }
 ],
 "metadata": {
  "kernelspec": {
   "display_name": "Python 3",
   "language": "python",
   "name": "python3"
  },
  "language_info": {
   "codemirror_mode": {
    "name": "ipython",
    "version": 3
   },
   "file_extension": ".py",
   "mimetype": "text/x-python",
   "name": "python",
   "nbconvert_exporter": "python",
   "pygments_lexer": "ipython3",
   "version": "3.7.3"
  }
 },
 "nbformat": 4,
 "nbformat_minor": 2
}
