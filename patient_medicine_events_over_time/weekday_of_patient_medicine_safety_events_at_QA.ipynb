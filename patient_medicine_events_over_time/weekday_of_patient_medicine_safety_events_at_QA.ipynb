{
 "cells": [
  {
   "cell_type": "code",
   "execution_count": 1,
   "metadata": {},
   "outputs": [],
   "source": [
    "import pandas as pd\n",
    "import numpy as np\n",
    "import matplotlib.pyplot as plt\n",
    "import matplotlib.image as mpimg\n",
    "import pyodbc"
   ]
  },
  {
   "cell_type": "code",
   "execution_count": 20,
   "metadata": {},
   "outputs": [
    {
     "name": "stdout",
     "output_type": "stream",
     "text": [
      "     inc_dincident inc_dreported\n",
      "0       2016-03-31    2016-03-31\n",
      "1       2016-03-31    2016-04-01\n",
      "2       2016-04-01    2016-04-01\n",
      "3       2016-03-25    2016-04-01\n",
      "4       2016-04-02    2016-04-02\n",
      "5       2016-04-01    2016-04-02\n",
      "6       2016-04-01    2016-04-02\n",
      "7       2016-04-02    2016-04-02\n",
      "8       2016-04-02    2016-04-02\n",
      "9       2016-04-03    2016-04-03\n",
      "10      2016-04-03    2016-04-03\n",
      "11      2016-04-02    2016-04-04\n",
      "12      2016-04-02    2016-04-04\n",
      "13      2016-04-02    2016-04-04\n",
      "14      2016-04-02    2016-04-04\n",
      "15      2016-04-02    2016-04-04\n",
      "16      2016-04-04    2016-04-04\n",
      "17      2016-04-02    2016-04-04\n",
      "18      2016-04-04    2016-04-04\n",
      "19      2016-04-02    2016-04-04\n",
      "20      2016-03-23    2016-04-04\n",
      "21      2016-04-02    2016-04-04\n",
      "22      2016-04-02    2016-04-04\n",
      "23      2016-04-04    2016-04-04\n",
      "24      2016-04-04    2016-04-05\n",
      "25      2016-04-05    2016-04-05\n",
      "26      2016-03-30    2016-04-05\n",
      "27      2016-04-06    2016-04-06\n",
      "28      2016-04-06    2016-04-06\n",
      "29      2016-04-06    2016-04-06\n",
      "...            ...           ...\n",
      "9240    2019-10-29    2019-10-29\n",
      "9241    2019-10-29    2019-10-29\n",
      "9242    2019-10-28    2019-10-29\n",
      "9243    2019-10-29    2019-10-29\n",
      "9244    2019-10-27    2019-10-29\n",
      "9245    2019-10-28    2019-10-29\n",
      "9246    2019-10-29    2019-10-29\n",
      "9247    2019-10-20    2019-10-29\n",
      "9248    2019-10-15    2019-10-29\n",
      "9249    2019-10-28    2019-10-29\n",
      "9250    2019-10-25    2019-10-29\n",
      "9251    2019-10-27    2019-10-29\n",
      "9252    2019-10-25    2019-10-30\n",
      "9253    2019-10-30    2019-10-30\n",
      "9254    2019-10-28    2019-10-30\n",
      "9255    2019-10-28    2019-10-30\n",
      "9256    2019-10-30    2019-10-30\n",
      "9257    2019-10-17    2019-10-30\n",
      "9258    2019-10-30    2019-10-30\n",
      "9259    2019-10-30    2019-10-30\n",
      "9260    2019-10-30    2019-10-30\n",
      "9261    2019-10-30    2019-10-30\n",
      "9262    2019-10-30    2019-10-30\n",
      "9263    2019-10-06    2019-10-30\n",
      "9264    2019-10-30    2019-10-31\n",
      "9265    2019-10-30    2019-10-31\n",
      "9266    2019-10-28    2019-10-31\n",
      "9267    2019-10-29    2019-10-31\n",
      "9268    2019-10-07    2019-10-31\n",
      "9269    2019-10-31    2019-10-31\n",
      "\n",
      "[9270 rows x 2 columns]\n"
     ]
    }
   ],
   "source": [
    "sql_conn = pyodbc.connect('DRIVER={SQL Server};'\n",
    "                            'SERVER=L_AAGDATIX;'\n",
    "                            'DATABASE=DatixCRM;'\n",
    "                            'Trusted_Connection=yes') \n",
    "query = \"set transaction isolation level read uncommitted select inc_dincident,inc_dreported from DatixCRM.dbo.incidents_main where inc_type='PAT' and inc_category='MEDIC' and inc_organisation='QA'\"\n",
    "df = pd.read_sql(query, sql_conn)\n",
    "print(df)"
   ]
  },
  {
   "cell_type": "code",
   "execution_count": 21,
   "metadata": {},
   "outputs": [
    {
     "name": "stdout",
     "output_type": "stream",
     "text": [
      "     inc_dincident inc_dreported\n",
      "0       2016-03-31    2016-03-31\n",
      "1       2016-03-31    2016-04-01\n",
      "2       2016-04-01    2016-04-01\n",
      "3       2016-03-25    2016-04-01\n",
      "4       2016-04-02    2016-04-02\n",
      "5       2016-04-01    2016-04-02\n",
      "6       2016-04-01    2016-04-02\n",
      "7       2016-04-02    2016-04-02\n",
      "8       2016-04-02    2016-04-02\n",
      "9       2016-04-03    2016-04-03\n",
      "10      2016-04-03    2016-04-03\n",
      "11      2016-04-02    2016-04-04\n",
      "12      2016-04-02    2016-04-04\n",
      "13      2016-04-02    2016-04-04\n",
      "14      2016-04-02    2016-04-04\n",
      "15      2016-04-02    2016-04-04\n",
      "16      2016-04-04    2016-04-04\n",
      "17      2016-04-02    2016-04-04\n",
      "18      2016-04-04    2016-04-04\n",
      "19      2016-04-02    2016-04-04\n",
      "20      2016-03-23    2016-04-04\n",
      "21      2016-04-02    2016-04-04\n",
      "22      2016-04-02    2016-04-04\n",
      "23      2016-04-04    2016-04-04\n",
      "24      2016-04-04    2016-04-05\n",
      "25      2016-04-05    2016-04-05\n",
      "26      2016-03-30    2016-04-05\n",
      "27      2016-04-06    2016-04-06\n",
      "28      2016-04-06    2016-04-06\n",
      "29      2016-04-06    2016-04-06\n",
      "...            ...           ...\n",
      "9240    2019-10-29    2019-10-29\n",
      "9241    2019-10-29    2019-10-29\n",
      "9242    2019-10-28    2019-10-29\n",
      "9243    2019-10-29    2019-10-29\n",
      "9244    2019-10-27    2019-10-29\n",
      "9245    2019-10-28    2019-10-29\n",
      "9246    2019-10-29    2019-10-29\n",
      "9247    2019-10-20    2019-10-29\n",
      "9248    2019-10-15    2019-10-29\n",
      "9249    2019-10-28    2019-10-29\n",
      "9250    2019-10-25    2019-10-29\n",
      "9251    2019-10-27    2019-10-29\n",
      "9252    2019-10-25    2019-10-30\n",
      "9253    2019-10-30    2019-10-30\n",
      "9254    2019-10-28    2019-10-30\n",
      "9255    2019-10-28    2019-10-30\n",
      "9256    2019-10-30    2019-10-30\n",
      "9257    2019-10-17    2019-10-30\n",
      "9258    2019-10-30    2019-10-30\n",
      "9259    2019-10-30    2019-10-30\n",
      "9260    2019-10-30    2019-10-30\n",
      "9261    2019-10-30    2019-10-30\n",
      "9262    2019-10-30    2019-10-30\n",
      "9263    2019-10-06    2019-10-30\n",
      "9264    2019-10-30    2019-10-31\n",
      "9265    2019-10-30    2019-10-31\n",
      "9266    2019-10-28    2019-10-31\n",
      "9267    2019-10-29    2019-10-31\n",
      "9268    2019-10-07    2019-10-31\n",
      "9269    2019-10-31    2019-10-31\n",
      "\n",
      "[9270 rows x 2 columns]\n"
     ]
    }
   ],
   "source": [
    "df_inc = df.copy()\n",
    "df_inc = df_inc[df_inc.inc_dincident > '2016-03-31']\n",
    "df_inc = df_inc[df_inc.inc_dincident < '2019-10-05']\n",
    "df_inc['weekday'] = df_inc['inc_dincident'].dt.weekday\n",
    "print(df)"
   ]
  },
  {
   "cell_type": "code",
   "execution_count": 22,
   "metadata": {},
   "outputs": [
    {
     "name": "stdout",
     "output_type": "stream",
     "text": [
      "183.0\n"
     ]
    }
   ],
   "source": [
    "total_weeks = (max(df_inc.inc_dincident)-min(df_inc.inc_dincident)).days/7\n",
    "print(total_weeks)"
   ]
  },
  {
   "cell_type": "code",
   "execution_count": 29,
   "metadata": {},
   "outputs": [
    {
     "data": {
      "image/png": "[encoded data removed]",
      "text/plain": [
       "<Figure size 432x288 with 2 Axes>"
      ]
     },
     "metadata": {
      "needs_background": "light"
     },
     "output_type": "display_data"
    }
   ],
   "source": [
    "bins = [i-0.5 for i in range(8)]\n",
    "data_x = [i for i in range(7)]\n",
    "data_y_tot,_ = np.histogram(df_inc.weekday.values, bins=bins)\n",
    "data_y = data_y_tot/total_weeks\n",
    "data_y_err = np.sqrt(data_y_tot)/total_weeks\n",
    "plt.fill_between(data_x,data_y-data_y_err/2,y2=data_y+data_y_err/2,alpha=0.5,hatch=\"////\",label='Uncertainty')\n",
    "plt.legend(frameon=False)\n",
    "plt.ylim(bottom=0)\n",
    "ax = plt.gca()\n",
    "locs, labels = plt.xticks()\n",
    "plt.xticks(np.arange(7),labels=['Mon','Tue','Wed','Thu','Fri','Sat','Sun'])\n",
    "plt.xlabel('weekday occured');\n",
    "plt.ylabel('# events per day')\n",
    "plt.title('Daily number of patient medicine safety events at QA');\n",
    "img = plt.imread(\"nhsportsmouth.png\");\n",
    "ax = plt.axes([0.125+0.01,-0.1, 0.6, 0.6], frameon=True)  # Change the numbers in this array to position your image [left, bottom, width, height])\n",
    "ax.imshow(img);\n",
    "ax.axis('off'); # get rid of the ticks and ticklabels"
   ]
  },
  {
   "cell_type": "code",
   "execution_count": 30,
   "metadata": {},
   "outputs": [],
   "source": [
    "df_rep = df.copy()\n",
    "df_rep = df_rep[df_rep.inc_dreported > '2016-03-31']\n",
    "df_rep = df_rep[df_rep.inc_dreported < '2019-10-05']\n",
    "df_rep['weekday'] = df_rep['inc_dincident'].dt.weekday"
   ]
  },
  {
   "cell_type": "code",
   "execution_count": 31,
   "metadata": {},
   "outputs": [
    {
     "data": {
      "image/png": "[encoded data removed]",
      "text/plain": [
       "<Figure size 432x288 with 2 Axes>"
      ]
     },
     "metadata": {
      "needs_background": "light"
     },
     "output_type": "display_data"
    }
   ],
   "source": [
    "data_y_tot,_ = np.histogram(df_rep.weekday.values, bins=bins)\n",
    "data_y = data_y_tot/total_weeks\n",
    "data_y_err = np.sqrt(data_y_tot)/total_weeks\n",
    "plt.fill_between(data_x,data_y-data_y_err/2,y2=data_y+data_y_err/2,alpha=0.5,hatch=\"////\",label='Uncertainty')\n",
    "plt.legend(frameon=False)\n",
    "plt.ylim(bottom=0)\n",
    "ax = plt.gca()\n",
    "locs, labels = plt.xticks()\n",
    "plt.xticks(np.arange(7),labels=['Mon','Tue','Wed','Thu','Fri','Sat','Sun'])\n",
    "plt.xlabel('weekday reported');\n",
    "plt.ylabel('# events per day')\n",
    "plt.title('Daily number of patient medicine safety events at QA');\n",
    "ax.axvline(4.5,color='red',linestyle='--')\n",
    "img = plt.imread(\"nhsportsmouth.png\");\n",
    "ax = plt.axes([0.125+0.01,-0.1, 0.6, 0.6], frameon=True)  # Change the numbers in this array to position your image [left, bottom, width, height])\n",
    "ax.imshow(img);\n",
    "ax.axis('off'); # get rid of the ticks and ticklabels"
   ]
  },
  {
   "cell_type": "code",
   "execution_count": null,
   "metadata": {},
   "outputs": [],
   "source": []
  }
 ],
 "metadata": {
  "kernelspec": {
   "display_name": "Python 3",
   "language": "python",
   "name": "python3"
  },
  "language_info": {
   "codemirror_mode": {
    "name": "ipython",
    "version": 3
   },
   "file_extension": ".py",
   "mimetype": "text/x-python",
   "name": "python",
   "nbconvert_exporter": "python",
   "pygments_lexer": "ipython3",
   "version": "3.7.3"
  }
 },
 "nbformat": 4,
 "nbformat_minor": 2
}
