{
 "cells": [
  {
   "cell_type": "code",
   "execution_count": 1,
   "metadata": {},
   "outputs": [],
   "source": [
    "import pandas as pd\n",
    "import numpy as np\n",
    "import matplotlib.pyplot as plt\n",
    "import matplotlib.image as mpimg\n",
    "import pyodbc"
   ]
  },
  {
   "cell_type": "code",
   "execution_count": 21,
   "metadata": {},
   "outputs": [
    {
     "name": "stdout",
     "output_type": "stream",
     "text": [
      "     inc_dincident\n",
      "0       2016-03-31\n",
      "1       2016-03-31\n",
      "2       2016-04-01\n",
      "3       2016-03-25\n",
      "4       2016-04-02\n",
      "5       2016-04-01\n",
      "6       2016-04-01\n",
      "7       2016-04-02\n",
      "8       2016-04-02\n",
      "9       2016-04-03\n",
      "10      2016-04-03\n",
      "11      2016-04-02\n",
      "12      2016-04-02\n",
      "13      2016-04-02\n",
      "14      2016-04-02\n",
      "15      2016-04-02\n",
      "16      2016-04-04\n",
      "17      2016-04-02\n",
      "18      2016-04-04\n",
      "19      2016-04-02\n",
      "20      2016-03-23\n",
      "21      2016-04-02\n",
      "22      2016-04-02\n",
      "23      2016-04-04\n",
      "24      2016-04-04\n",
      "25      2016-04-05\n",
      "26      2016-03-30\n",
      "27      2016-04-06\n",
      "28      2016-04-06\n",
      "29      2016-04-06\n",
      "...            ...\n",
      "9029    2019-10-07\n",
      "9030    2019-10-07\n",
      "9031    2019-10-07\n",
      "9032    2019-10-07\n",
      "9033    2019-10-07\n",
      "9034    2019-10-07\n",
      "9035    2019-10-07\n",
      "9036    2019-10-04\n",
      "9037    2019-10-07\n",
      "9038    2019-10-08\n",
      "9039    2019-10-08\n",
      "9040    2019-09-23\n",
      "9041    2019-10-08\n",
      "9042    2019-10-08\n",
      "9043    2019-10-07\n",
      "9044    2019-10-09\n",
      "9045    2019-10-07\n",
      "9046    2019-10-08\n",
      "9047    2019-10-10\n",
      "9048    2019-10-10\n",
      "9049    2019-10-10\n",
      "9050    2019-10-10\n",
      "9051    2019-10-09\n",
      "9052    2019-10-10\n",
      "9053    2019-10-09\n",
      "9054    2019-10-09\n",
      "9055    2019-10-09\n",
      "9056    2019-10-10\n",
      "9057    2019-10-10\n",
      "9058    2019-10-11\n",
      "\n",
      "[9059 rows x 1 columns]\n"
     ]
    }
   ],
   "source": [
    "sql_conn = pyodbc.connect('DRIVER={SQL Server};'\n",
    "                            'SERVER=L_AAGDATIX;'\n",
    "                            'DATABASE=DatixCRM;'\n",
    "                            'Trusted_Connection=yes') \n",
    "query = \"set transaction isolation level read uncommitted select inc_dincident from DatixCRM.dbo.incidents_main where inc_type='PAT' and inc_category='MEDIC' and inc_organisation='QA'\"\n",
    "df = pd.read_sql(query, sql_conn)\n",
    "print(df)"
   ]
  },
  {
   "cell_type": "code",
   "execution_count": 22,
   "metadata": {},
   "outputs": [
    {
     "name": "stdout",
     "output_type": "stream",
     "text": [
      "     inc_dincident\n",
      "2       2016-04-01\n",
      "4       2016-04-02\n",
      "5       2016-04-01\n",
      "6       2016-04-01\n",
      "7       2016-04-02\n",
      "8       2016-04-02\n",
      "9       2016-04-03\n",
      "10      2016-04-03\n",
      "11      2016-04-02\n",
      "12      2016-04-02\n",
      "13      2016-04-02\n",
      "14      2016-04-02\n",
      "15      2016-04-02\n",
      "16      2016-04-04\n",
      "17      2016-04-02\n",
      "18      2016-04-04\n",
      "19      2016-04-02\n",
      "21      2016-04-02\n",
      "22      2016-04-02\n",
      "23      2016-04-04\n",
      "24      2016-04-04\n",
      "25      2016-04-05\n",
      "27      2016-04-06\n",
      "28      2016-04-06\n",
      "29      2016-04-06\n",
      "30      2016-04-06\n",
      "31      2016-04-06\n",
      "32      2016-04-06\n",
      "33      2016-04-07\n",
      "34      2016-04-05\n",
      "...            ...\n",
      "8991    2019-10-02\n",
      "8992    2019-10-02\n",
      "8993    2019-10-02\n",
      "8994    2019-10-02\n",
      "8995    2019-10-01\n",
      "8996    2019-10-03\n",
      "8997    2019-10-01\n",
      "8998    2019-10-02\n",
      "8999    2019-10-03\n",
      "9000    2019-10-02\n",
      "9001    2019-10-03\n",
      "9002    2019-10-03\n",
      "9003    2019-10-03\n",
      "9004    2019-10-03\n",
      "9005    2019-10-03\n",
      "9006    2019-10-03\n",
      "9007    2019-10-03\n",
      "9008    2019-10-04\n",
      "9009    2019-10-04\n",
      "9010    2019-10-03\n",
      "9011    2019-10-04\n",
      "9012    2019-10-04\n",
      "9013    2019-10-04\n",
      "9014    2019-09-23\n",
      "9015    2019-10-04\n",
      "9016    2019-10-04\n",
      "9017    2019-10-04\n",
      "9019    2019-10-04\n",
      "9036    2019-10-04\n",
      "9040    2019-09-23\n",
      "\n",
      "[9010 rows x 1 columns]\n"
     ]
    }
   ],
   "source": [
    "df = df[df.inc_dincident > '2016-03-31']\n",
    "df = df[df.inc_dincident < '2019-10-05']\n",
    "print(df)"
   ]
  },
  {
   "cell_type": "code",
   "execution_count": 23,
   "metadata": {},
   "outputs": [
    {
     "name": "stdout",
     "output_type": "stream",
     "text": [
      "     inc_dincident  weekday\n",
      "2       2016-04-01        4\n",
      "4       2016-04-02        5\n",
      "5       2016-04-01        4\n",
      "6       2016-04-01        4\n",
      "7       2016-04-02        5\n",
      "8       2016-04-02        5\n",
      "9       2016-04-03        6\n",
      "10      2016-04-03        6\n",
      "11      2016-04-02        5\n",
      "12      2016-04-02        5\n",
      "13      2016-04-02        5\n",
      "14      2016-04-02        5\n",
      "15      2016-04-02        5\n",
      "16      2016-04-04        0\n",
      "17      2016-04-02        5\n",
      "18      2016-04-04        0\n",
      "19      2016-04-02        5\n",
      "21      2016-04-02        5\n",
      "22      2016-04-02        5\n",
      "23      2016-04-04        0\n",
      "24      2016-04-04        0\n",
      "25      2016-04-05        1\n",
      "27      2016-04-06        2\n",
      "28      2016-04-06        2\n",
      "29      2016-04-06        2\n",
      "30      2016-04-06        2\n",
      "31      2016-04-06        2\n",
      "32      2016-04-06        2\n",
      "33      2016-04-07        3\n",
      "34      2016-04-05        1\n",
      "...            ...      ...\n",
      "8991    2019-10-02        2\n",
      "8992    2019-10-02        2\n",
      "8993    2019-10-02        2\n",
      "8994    2019-10-02        2\n",
      "8995    2019-10-01        1\n",
      "8996    2019-10-03        3\n",
      "8997    2019-10-01        1\n",
      "8998    2019-10-02        2\n",
      "8999    2019-10-03        3\n",
      "9000    2019-10-02        2\n",
      "9001    2019-10-03        3\n",
      "9002    2019-10-03        3\n",
      "9003    2019-10-03        3\n",
      "9004    2019-10-03        3\n",
      "9005    2019-10-03        3\n",
      "9006    2019-10-03        3\n",
      "9007    2019-10-03        3\n",
      "9008    2019-10-04        4\n",
      "9009    2019-10-04        4\n",
      "9010    2019-10-03        3\n",
      "9011    2019-10-04        4\n",
      "9012    2019-10-04        4\n",
      "9013    2019-10-04        4\n",
      "9014    2019-09-23        0\n",
      "9015    2019-10-04        4\n",
      "9016    2019-10-04        4\n",
      "9017    2019-10-04        4\n",
      "9019    2019-10-04        4\n",
      "9036    2019-10-04        4\n",
      "9040    2019-09-23        0\n",
      "\n",
      "[9010 rows x 2 columns]\n"
     ]
    }
   ],
   "source": [
    "df['weekday'] = df['inc_dincident'].dt.weekday\n",
    "print(df)"
   ]
  },
  {
   "cell_type": "code",
   "execution_count": 24,
   "metadata": {},
   "outputs": [
    {
     "name": "stdout",
     "output_type": "stream",
     "text": [
      "183.0\n"
     ]
    }
   ],
   "source": [
    "total_weeks = (max(df.inc_dincident)-min(df.inc_dincident)).days/7\n",
    "print(total_weeks)"
   ]
  },
  {
   "cell_type": "code",
   "execution_count": 47,
   "metadata": {},
   "outputs": [
    {
     "data": {
      "text/plain": [
       "(-0.5, 3301.5, 495.5, -0.5)"
      ]
     },
     "execution_count": 47,
     "metadata": {},
     "output_type": "execute_result"
    },
    {
     "data": {
      "image/png": "[encoded data removed]",
      "text/plain": [
       "<Figure size 432x288 with 2 Axes>"
      ]
     },
     "metadata": {
      "needs_background": "light"
     },
     "output_type": "display_data"
    }
   ],
   "source": [
    "bins = [i-0.5 for i in range(8)]\n",
    "data_x = [i for i in range(7)]\n",
    "data_y_tot,_ = np.histogram(df.weekday.values, bins=bins)\n",
    "data_y = data_y_tot/total_weeks\n",
    "data_y_err = np.sqrt(data_y_tot)/total_weeks\n",
    "plt.fill_between(data_x,data_y-data_y_err/2,y2=data_y+data_y_err/2,alpha=0.5,hatch=\"////\",label='Uncertainty')\n",
    "plt.legend(frameon=False)\n",
    "plt.ylim(bottom=0)\n",
    "ax = plt.gca()\n",
    "locs, labels = plt.xticks()\n",
    "plt.xticks(np.arange(7),labels=['Mon','Tue','Wed','Thu','Fri','Sat','Sun'])\n",
    "plt.xlabel('weekday');\n",
    "plt.ylabel('# events per day')\n",
    "plt.title('Hourly number of patient medicine safety events at QA');\n",
    "img = plt.imread(\"nhsportsmouth.png\");\n",
    "ax = plt.axes([0.125+0.01,-0.1, 0.6, 0.6], frameon=True)  # Change the numbers in this array to position your image [left, bottom, width, height])\n",
    "ax.imshow(img)\n",
    "ax.axis('off')  # get rid of the ticks and ticklabels"
   ]
  },
  {
   "cell_type": "code",
   "execution_count": null,
   "metadata": {},
   "outputs": [],
   "source": []
  }
 ],
 "metadata": {
  "kernelspec": {
   "display_name": "Python 3",
   "language": "python",
   "name": "python3"
  },
  "language_info": {
   "codemirror_mode": {
    "name": "ipython",
    "version": 3
   },
   "file_extension": ".py",
   "mimetype": "text/x-python",
   "name": "python",
   "nbconvert_exporter": "python",
   "pygments_lexer": "ipython3",
   "version": "3.7.3"
  }
 },
 "nbformat": 4,
 "nbformat_minor": 2
}
