{
 "cells": [
  {
   "cell_type": "code",
   "execution_count": null,
   "metadata": {},
   "outputs": [],
   "source": [
    "# Start with loading all necessary libraries\n",
    "import pandas as pd\n",
    "import xml.etree.ElementTree as et"
   ]
  },
  {
   "cell_type": "code",
   "execution_count": null,
   "metadata": {},
   "outputs": [],
   "source": [
    "df_cols = [\"created-at\",\"description\"]\n",
    "rows = []\n",
    "for i in range(407):\n",
    "    xtree = et.parse(\"157808/Tickets_\"+str(i)+\".xml\")\n",
    "    xroot = xtree.getroot() \n",
    "\n",
    "    tickets = xtree.findall('helpdesk-ticket')\n",
    "    for ticket in tickets:\n",
    "        time = ticket.find('created-at')\n",
    "        description = ticket.find('description')\n",
    "        if time is not None and description is not None:\n",
    "            rows.append({'created-at': time.text,'description':description.text})\n",
    "\n",
    "df = pd.DataFrame(rows, columns = df_cols)\n",
    "df.head()"
   ]
  },
  {
   "cell_type": "code",
   "execution_count": null,
   "metadata": {},
   "outputs": [],
   "source": [
    "df.to_csv(path_or_buf='freshservice_data.csv')"
   ]
  },
  {
   "cell_type": "code",
   "execution_count": null,
   "metadata": {},
   "outputs": [],
   "source": []
  }
 ],
 "metadata": {
  "kernelspec": {
   "display_name": "Python 3",
   "language": "python",
   "name": "python3"
  },
  "language_info": {
   "codemirror_mode": {
    "name": "ipython",
    "version": 3
   },
   "file_extension": ".py",
   "mimetype": "text/x-python",
   "name": "python",
   "nbconvert_exporter": "python",
   "pygments_lexer": "ipython3",
   "version": "3.7.3"
  }
 },
 "nbformat": 4,
 "nbformat_minor": 2
}
