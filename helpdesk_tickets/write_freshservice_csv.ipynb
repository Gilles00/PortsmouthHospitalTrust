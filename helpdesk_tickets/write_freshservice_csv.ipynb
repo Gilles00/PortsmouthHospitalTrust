{
 "cells": [
  {
   "cell_type": "code",
   "execution_count": 1,
   "metadata": {},
   "outputs": [],
   "source": [
    "# Start with loading all necessary libraries\n",
    "import pandas as pd\n",
    "import xml.etree.ElementTree as et"
   ]
  },
  {
   "cell_type": "code",
   "execution_count": 2,
   "metadata": {},
   "outputs": [
    {
     "data": {
      "text/html": [
       "<div>\n",
       "<style scoped>\n",
       "    .dataframe tbody tr th:only-of-type {\n",
       "        vertical-align: middle;\n",
       "    }\n",
       "\n",
       "    .dataframe tbody tr th {\n",
       "        vertical-align: top;\n",
       "    }\n",
       "\n",
       "    .dataframe thead th {\n",
       "        text-align: right;\n",
       "    }\n",
       "</style>\n",
       "<table border=\"1\" class=\"dataframe\">\n",
       "  <thead>\n",
       "    <tr style=\"text-align: right;\">\n",
       "      <th></th>\n",
       "      <th>created-at</th>\n",
       "      <th>description</th>\n",
       "    </tr>\n",
       "  </thead>\n",
       "  <tbody>\n",
       "    <tr>\n",
       "      <th>0</th>\n",
       "      <td>2018-04-01T01:18:00+01:00</td>\n",
       "      <td>AD Password Reset</td>\n",
       "    </tr>\n",
       "    <tr>\n",
       "      <th>1</th>\n",
       "      <td>2018-04-01T07:30:15+01:00</td>\n",
       "      <td>Sorry to bother you. A non-urgent issue     I ...</td>\n",
       "    </tr>\n",
       "    <tr>\n",
       "      <th>2</th>\n",
       "      <td>2018-04-01T08:35:38+01:00</td>\n",
       "      <td>ICE labels are printing misaligned      Cleare...</td>\n",
       "    </tr>\n",
       "    <tr>\n",
       "      <th>3</th>\n",
       "      <td>2018-04-01T08:55:10+01:00</td>\n",
       "      <td>Loraynne's password expired but it would not a...</td>\n",
       "    </tr>\n",
       "    <tr>\n",
       "      <th>4</th>\n",
       "      <td>2018-04-01T10:13:41+01:00</td>\n",
       "      <td>Automated account amendment request for beevor...</td>\n",
       "    </tr>\n",
       "  </tbody>\n",
       "</table>\n",
       "</div>"
      ],
      "text/plain": [
       "                  created-at  \\\n",
       "0  2018-04-01T01:18:00+01:00   \n",
       "1  2018-04-01T07:30:15+01:00   \n",
       "2  2018-04-01T08:35:38+01:00   \n",
       "3  2018-04-01T08:55:10+01:00   \n",
       "4  2018-04-01T10:13:41+01:00   \n",
       "\n",
       "                                         description  \n",
       "0                                  AD Password Reset  \n",
       "1  Sorry to bother you. A non-urgent issue     I ...  \n",
       "2  ICE labels are printing misaligned      Cleare...  \n",
       "3  Loraynne's password expired but it would not a...  \n",
       "4  Automated account amendment request for beevor...  "
      ]
     },
     "execution_count": 2,
     "metadata": {},
     "output_type": "execute_result"
    }
   ],
   "source": [
    "df_cols = [\"created-at\",\"description\"]\n",
    "rows = []\n",
    "for i in range(407):\n",
    "    xtree = et.parse(\"157808/Tickets_\"+str(i)+\".xml\")\n",
    "    xroot = xtree.getroot() \n",
    "\n",
    "    tickets = xtree.findall('helpdesk-ticket')\n",
    "    for ticket in tickets:\n",
    "        time = ticket.find('created-at')\n",
    "        description = ticket.find('description')\n",
    "        if time is not None and description is not None:\n",
    "            rows.append({'created-at': time.text,'description':description.text})\n",
    "\n",
    "df = pd.DataFrame(rows, columns = df_cols)\n",
    "df.head()"
   ]
  },
  {
   "cell_type": "code",
   "execution_count": 3,
   "metadata": {},
   "outputs": [],
   "source": [
    "df.to_csv(path_or_buf='freshservice_data.csv')"
   ]
  },
  {
   "cell_type": "code",
   "execution_count": null,
   "metadata": {},
   "outputs": [],
   "source": []
  }
 ],
 "metadata": {
  "kernelspec": {
   "display_name": "Python 3",
   "language": "python",
   "name": "python3"
  },
  "language_info": {
   "codemirror_mode": {
    "name": "ipython",
    "version": 3
   },
   "file_extension": ".py",
   "mimetype": "text/x-python",
   "name": "python",
   "nbconvert_exporter": "python",
   "pygments_lexer": "ipython3",
   "version": "3.7.3"
  }
 },
 "nbformat": 4,
 "nbformat_minor": 2
}
