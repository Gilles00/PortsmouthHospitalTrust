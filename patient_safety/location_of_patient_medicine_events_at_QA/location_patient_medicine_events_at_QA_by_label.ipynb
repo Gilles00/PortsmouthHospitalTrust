{
 "cells": [
  {
   "cell_type": "code",
   "execution_count": null,
   "metadata": {},
   "outputs": [],
   "source": [
    "import pandas as pd\n",
    "import numpy as np\n",
    "import matplotlib.pyplot as plt\n",
    "import matplotlib.image as mpimg\n",
    "from PIL import Image\n",
    "import pytesseract"
   ]
  },
  {
   "cell_type": "code",
   "execution_count": null,
   "metadata": {},
   "outputs": [],
   "source": [
    "patient_medic_events = pd.read_csv(\"patient_medicine_events_at_QA_by_label.txt\", sep='\\t')"
   ]
  },
  {
   "cell_type": "code",
   "execution_count": null,
   "metadata": {},
   "outputs": [],
   "source": [
    "floors = ['A', 'B', 'C', 'D', 'E', 'F', 'G']"
   ]
  },
  {
   "cell_type": "code",
   "execution_count": null,
   "metadata": {},
   "outputs": [],
   "source": [
    "patient_medic_events['label'] = patient_medic_events['label'].str.replace('Wards ','')\n",
    "patient_medic_events['label'] = patient_medic_events['label'].str.replace('Ward ','')\n",
    "patient_medic_events['label'] = patient_medic_events['label'].str.replace(' Unit','')\n",
    "patient_medic_events['label'] = patient_medic_events['label'].str.replace(' Centre','')\n",
    "patient_medic_events['label'] = patient_medic_events['label'].str.replace('Level ','')\n",
    "patient_medic_events['label'] = patient_medic_events['label'].str.replace(' Intensive Care','')\n",
    "patient_medic_events['label'] = patient_medic_events['label'].str.replace(' Day Case','')\n",
    "patient_medic_events['label'] = patient_medic_events['label'].str.replace('Maternity ','')\n",
    "patient_medic_events['label'] = patient_medic_events['label'].str.replace('Renal Haemodialysis','Haemodialysis')\n",
    "patient_medic_events.loc[patient_medic_events.label == 'Critical Care (E5)', 'label'] = 'E5'\n",
    "patient_medic_events.loc[patient_medic_events.label == 'Renal', 'label'] = 'Renal Unit'\n",
    "print(patient_medic_events)"
   ]
  },
  {
   "cell_type": "code",
   "execution_count": null,
   "metadata": {},
   "outputs": [],
   "source": [
    "pytesseract.pytesseract.tesseract_cmd = r'C:\\Program Files\\Tesseract-OCR\\tesseract.exe'\n",
    "text_dict = {}\n",
    "for floor in floors:\n",
    "    text = pytesseract.image_to_data(Image.open('level_maps_'+floor.lower()+'.png'),output_type='data.frame')\n",
    "    text = text.dropna()\n",
    "    text = text[text.text != ' ']\n",
    "    text = text[text.text != '  ']\n",
    "    text = text[text.text != '   ']\n",
    "    text = text[text.text != '    ']\n",
    "    text = text[text.text != '     ']\n",
    "    text_dict[floor] = text\n",
    "print(text_dict)"
   ]
  },
  {
   "cell_type": "code",
   "execution_count": null,
   "metadata": {},
   "outputs": [],
   "source": [
    "text_dict['A'].loc[text_dict['A'].text == 'A6', 'text'] = 'A5, A6'\n",
    "text_dict['A']['text'] = text_dict['A']['text'].str.replace('Dischage','Discharge')\n",
    "text_dict['B'].loc[text_dict['B'].text == 'Centre', 'text'] = 'Haematology & Oncology'\n",
    "text_dict['B'].loc[text_dict['B'].text == 'B6', 'text'] = 'B5, B6 & B7'\n",
    "text_dict['B'].loc[text_dict['B'].text == 'Eye', 'left'] = 1100\n",
    "text_dict['C'].loc[text_dict['C'].text == 'Day', 'text'] = 'Acute Medical'\n",
    "text_dict['C'].loc[text_dict['C'].text == 'Acute Medical', 'top'] = 354\n",
    "text_dict['C'].loc[text_dict['C'].text == 'Ambulance', 'left'] = 700\n",
    "text_dict['C'].loc[text_dict['C'].text == 'C6', 'text'] = 'C5, C6 & C7'\n",
    "text_dict['C'].loc[text_dict['C'].text == 'Ambulance', 'text'] = 'C Outpatients'\n",
    "text_dict['C'].loc[text_dict['C'].text == 'C Outpatients', 'left'] = 50\n",
    "text_dict['C'].loc[text_dict['C'].text == 'Diabetes', 'text'] = 'Diabetes and Endocrinology'\n",
    "text_dict['C'].loc[text_dict['C'].text == 'Blood', 'text'] = 'Emergency Department'\n",
    "text_dict['C'].loc[text_dict['C'].text == 'Emergency Department', 'left'] = 1100\n",
    "text_dict['C'].loc[text_dict['C'].text == 'Radiolo', 'text'] = 'Radiology'\n",
    "text_dict['C'].loc[text_dict['C'].text == 'Rheumatology', 'text'] = 'Rheumatology Outpatients'\n",
    "text_dict['D'].loc[text_dict['D'].text == 'D3', 'text'] = 'D1, D2, D3 & D4'\n",
    "text_dict['D'].loc[text_dict['D'].text == 'Day', 'text'] = 'Day Surgery'\n",
    "text_dict['D'].loc[text_dict['D'].text == 'Level', 'text'] = 'D Outpatients'\n",
    "text_dict['D'].loc[text_dict['D'].text == 'Gynaecology', 'text'] = 'Gynaecology Outpatients'\n",
    "text_dict['D'].loc[text_dict['D'].text == 'Neurophysiology', 'text'] = 'Neurophysiology Urology Outpatients'\n",
    "text_dict['E'].loc[text_dict['E'].text == 'E5)', 'text'] = 'E5'\n",
    "text_dict['E'].loc[text_dict['E'].text == 'E3', 'text'] = 'E1, E2, E3 & E4'\n",
    "text_dict['E'].loc[text_dict['E'].text == 'E7', 'text'] = 'E6, E7 & E8'\n",
    "text_dict['E'].loc[text_dict['E'].text == 'Theatre', 'text'] = 'Theatre Admissions'\n",
    "text_dict['F'].loc[text_dict['F'].text == 'F6', 'text'] = 'F5, F6 & F7'\n",
    "text_dict['F'].loc[text_dict['F'].text == 'F3', 'text'] = 'F1, F2, F3 & F4'\n",
    "text_dict['F'].loc[text_dict['F'].text == 'Medical', 'text'] = 'Medical Physics'\n",
    "text_dict['G'].loc[text_dict['G'].text == 'Unit', 'text'] = 'Renal Unit'\n",
    "text_dict['G'].loc[text_dict['G'].text == 'G8,', 'text'] = 'G5'\n",
    "text_dict['G'].loc[text_dict['G'].text == 'G5', 'top'] = 750\n",
    "text_dict['G'].loc[text_dict['G'].text == 'G5', 'left'] = 700\n",
    "text_dict['G'].loc[text_dict['G'].text == 'G2,', 'text'] = 'G1, G2, G3 & G4'\n",
    "text_dict['G'].loc[text_dict['G'].text == 'G7', 'text'] = 'G8, G7 & G6'\n",
    "text_dict['G'].loc[text_dict['G'].text == 'G10', 'text'] = 'G10 & G9'\n",
    "text_dict['G'].loc[text_dict['G'].text == 'Outpatients', 'text'] = 'Renal Outpatients'"
   ]
  },
  {
   "cell_type": "code",
   "execution_count": null,
   "metadata": {},
   "outputs": [],
   "source": [
    "merged_dict = {}\n",
    "for floor in floors:\n",
    "    merged_dict[floor] = pd.merge(left=patient_medic_events,right=text_dict[floor],left_on='label',right_on='text')\n",
    "print(merged_dict)"
   ]
  },
  {
   "cell_type": "code",
   "execution_count": null,
   "metadata": {},
   "outputs": [],
   "source": [
    "cm = plt.cm.get_cmap('RdYlGn_r')\n",
    "vmin = patient_medic_events['events'].min()\n",
    "vmax = patient_medic_events['events'].max()\n",
    "area_multiplication = 6"
   ]
  },
  {
   "cell_type": "code",
   "execution_count": null,
   "metadata": {},
   "outputs": [],
   "source": [
    "for floor in floors:\n",
    "    plt.figure()\n",
    "    img=mpimg.imread('level_maps_'+floor.lower()+'.png')\n",
    "    plt.figure(figsize=(60,6))\n",
    "    imgplot = plt.imshow(img)\n",
    "    fig = plt.gca()\n",
    "    x = merged_dict[floor].left.values + merged_dict[floor].width.values/2\n",
    "    y = merged_dict[floor].top.values + merged_dict[floor].height.values/2\n",
    "    size = merged_dict[floor].events.values*area_multiplication\n",
    "    color = merged_dict[floor].events.values\n",
    "    plt.scatter(x,y,s=size,c=color,vmin=vmin,vmax=vmax,cmap=cm,alpha=0.5)\n",
    "    plt.colorbar(label='# of medicine patient safety events from 31/3/16-2/10/19')\n",
    "    fig.get_xaxis().set_visible(False)\n",
    "    fig.get_yaxis().set_visible(False)\n",
    "    plt.savefig('floor_'+floor.lower()+'_by_label.png')"
   ]
  },
  {
   "cell_type": "code",
   "execution_count": null,
   "metadata": {},
   "outputs": [],
   "source": []
  }
 ],
 "metadata": {
  "kernelspec": {
   "display_name": "Python 3",
   "language": "python",
   "name": "python3"
  },
  "language_info": {
   "codemirror_mode": {
    "name": "ipython",
    "version": 3
   },
   "file_extension": ".py",
   "mimetype": "text/x-python",
   "name": "python",
   "nbconvert_exporter": "python",
   "pygments_lexer": "ipython3",
   "version": "3.7.3"
  }
 },
 "nbformat": 4,
 "nbformat_minor": 2
}
