{
 "cells": [
  {
   "cell_type": "code",
   "execution_count": null,
   "metadata": {},
   "outputs": [],
   "source": [
    "import pandas as pd\n",
    "import numpy as np\n",
    "import matplotlib.pyplot as plt\n",
    "import matplotlib.image as mpimg"
   ]
  },
  {
   "cell_type": "code",
   "execution_count": null,
   "metadata": {},
   "outputs": [],
   "source": [
    "floors = pd.read_csv(\"patient_medicine_events_at_QA_by_floor.csv\")\n",
    "print(floors)"
   ]
  },
  {
   "cell_type": "code",
   "execution_count": null,
   "metadata": {},
   "outputs": [],
   "source": [
    "cm = plt.cm.get_cmap('RdYlGn_r')\n",
    "x = np.ones(10)*1318.5/2\n",
    "vmin = floors['events'].min()\n",
    "vmax = floors['events'].max()\n",
    "area_multiplication = vmax/vmin"
   ]
  },
  {
   "cell_type": "code",
   "execution_count": null,
   "metadata": {},
   "outputs": [],
   "source": [
    "for floor in floors['floor']:\n",
    "    plt.figure()\n",
    "    img=mpimg.imread('level_maps_'+floor.lower()+'.png')\n",
    "    plt.figure(figsize=(60,6))\n",
    "    #plt.figure(figsize=(10,10))\n",
    "    imgplot = plt.imshow(img)\n",
    "    fig = plt.gca()\n",
    "    size = floors.loc[floors['floor']==floor].events.values*area_multiplication\n",
    "    color = floors.loc[floors['floor']==floor].events.values\n",
    "    index = floors.loc[floors['floor']==floor].index\n",
    "    plt.scatter(x[index],fig.get_ylim()[0]/2,s=size,c=color,vmin=vmin,vmax=vmax,cmap=cm,alpha=0.5)\n",
    "    plt.colorbar(label='# of medicine patient safety events from 31/3/16-2/10/19')\n",
    "    fig.get_xaxis().set_visible(False)\n",
    "    fig.get_yaxis().set_visible(False)\n",
    "    plt.savefig('floor_'+floor.lower()+'.png')"
   ]
  },
  {
   "cell_type": "code",
   "execution_count": null,
   "metadata": {},
   "outputs": [],
   "source": []
  }
 ],
 "metadata": {
  "kernelspec": {
   "display_name": "Python 3",
   "language": "python",
   "name": "python3"
  },
  "language_info": {
   "codemirror_mode": {
    "name": "ipython",
    "version": 3
   },
   "file_extension": ".py",
   "mimetype": "text/x-python",
   "name": "python",
   "nbconvert_exporter": "python",
   "pygments_lexer": "ipython3",
   "version": "3.7.3"
  }
 },
 "nbformat": 4,
 "nbformat_minor": 2
}
