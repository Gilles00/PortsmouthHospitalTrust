{
 "cells": [
  {
   "cell_type": "code",
   "execution_count": null,
   "metadata": {},
   "outputs": [],
   "source": [
    "import numpy as np\n",
    "bins = [i+0.5 for i in range(13)]"
   ]
  },
  {
   "cell_type": "code",
   "execution_count": null,
   "metadata": {},
   "outputs": [],
   "source": [
    "# Import figure from bokeh.plotting\n",
    "from bokeh.plotting import figure\n",
    "\n",
    "# Import output_file and show from bokeh.io\n",
    "from bokeh.io import show, output_notebook\n",
    "\n",
    "from bokeh.models import ColumnDataSource, Band, Legend, LegendItem, Span, HoverTool\n",
    "\n",
    "\n",
    "groups= ['Jan','Feb','Mar','Apr','May','Jun','Jul','Aug','Sep','Oct','Nov','Dec']\n",
    "counts = [6+np.random.rand() for x in groups]\n",
    "error = [0.5 for x in groups]\n",
    "upper = [x+e for x,e in zip(counts, error) ]\n",
    "lower = [x-e for x,e in zip(counts, error) ]\n",
    "color = ['blue','blue','green','green','green','red','red','red','yellow','yellow','yellow','blue']\n",
    "\n",
    "source = ColumnDataSource(data=dict(groups=groups, counts=counts, upper=upper, lower=lower, color=color))\n",
    "\n",
    "p = figure(x_range=groups, plot_height=450, title=\"Daily medicine patient safety events at QA\", y_range=(0,7.9),\n",
    "          x_axis_label='Month',y_axis_label='events per day',\n",
    "          tools='pan,box_select,box_zoom,wheel_zoom,save,reset,help')\n",
    "\n",
    "p.vbar(x='groups', top='counts', width=0.9, source=source, \n",
    "       line_color='white', color='color',nonselection_alpha=0, \n",
    "         hover_fill_color='black')\n",
    "r_err = p.vbar(x='groups', bottom='lower', top='upper', width=0.9, source=source, fill_color='grey', fill_alpha=0.5,\n",
    "      line_color='white')\n",
    "\n",
    "p.xgrid.grid_line_color = None\n",
    "\n",
    "legend = Legend(items=[\n",
    "    LegendItem(label=\"winter\", renderers=[p.vbar(x=0, top=0, width=0.9, color='blue')]),\n",
    "    LegendItem(label=\"spring\", renderers=[p.vbar(x=0, top=0, width=0.9, color='green')]),\n",
    "    LegendItem(label=\"summer\", renderers=[p.vbar(x=0, top=0, width=0.9, color='red')]),\n",
    "    LegendItem(label=\"autumn\", renderers=[p.vbar(x=0, top=0, width=0.9, color='yellow')]),\n",
    "    LegendItem(label=\"uncertainty\", renderers=[r_err]),\n",
    "])\n",
    "p.add_layout(legend)\n",
    "p.legend.location = \"bottom_right\"\n",
    "\n",
    "# Create a HoverTool: hover\n",
    "hover = HoverTool(tooltips=None,mode='hline')\n",
    "\n",
    "# Add the hover tool to the figure p\n",
    "p.add_tools(hover)\n",
    "\n",
    "output_notebook()\n",
    "\n"
   ]
  },
  {
   "cell_type": "code",
   "execution_count": null,
   "metadata": {},
   "outputs": [],
   "source": [
    "show(p)"
   ]
  },
  {
   "cell_type": "code",
   "execution_count": null,
   "metadata": {},
   "outputs": [],
   "source": []
  }
 ],
 "metadata": {
  "kernelspec": {
   "display_name": "Python 3",
   "language": "python",
   "name": "python3"
  },
  "language_info": {
   "codemirror_mode": {
    "name": "ipython",
    "version": 3
   },
   "file_extension": ".py",
   "mimetype": "text/x-python",
   "name": "python",
   "nbconvert_exporter": "python",
   "pygments_lexer": "ipython3",
   "version": "3.7.3"
  }
 },
 "nbformat": 4,
 "nbformat_minor": 2
}
