{
 "cells": [
  {
   "cell_type": "code",
   "execution_count": 1,
   "metadata": {},
   "outputs": [],
   "source": [
    "import pandas as pd\n",
    "import numpy as np\n",
    "import matplotlib.pyplot as plt\n",
    "import matplotlib.image as mpimg\n",
    "import pyodbc\n",
    "from lmfit.models import PolynomialModel\n",
    "import math"
   ]
  },
  {
   "cell_type": "code",
   "execution_count": 2,
   "metadata": {},
   "outputs": [
    {
     "name": "stdout",
     "output_type": "stream",
     "text": [
      "     inc_dincident inc_dreported\n",
      "0       2016-03-31    2016-03-31\n",
      "1       2016-03-31    2016-04-01\n",
      "2       2016-04-01    2016-04-01\n",
      "3       2016-03-25    2016-04-01\n",
      "4       2016-04-02    2016-04-02\n",
      "5       2016-04-01    2016-04-02\n",
      "6       2016-04-01    2016-04-02\n",
      "7       2016-04-02    2016-04-02\n",
      "8       2016-04-02    2016-04-02\n",
      "9       2016-04-03    2016-04-03\n",
      "10      2016-04-03    2016-04-03\n",
      "11      2016-04-02    2016-04-04\n",
      "12      2016-04-02    2016-04-04\n",
      "13      2016-04-02    2016-04-04\n",
      "14      2016-04-02    2016-04-04\n",
      "15      2016-04-02    2016-04-04\n",
      "16      2016-04-04    2016-04-04\n",
      "17      2016-04-02    2016-04-04\n",
      "18      2016-04-04    2016-04-04\n",
      "19      2016-04-02    2016-04-04\n",
      "20      2016-03-23    2016-04-04\n",
      "21      2016-04-02    2016-04-04\n",
      "22      2016-04-02    2016-04-04\n",
      "23      2016-04-04    2016-04-04\n",
      "24      2016-04-04    2016-04-05\n",
      "25      2016-04-05    2016-04-05\n",
      "26      2016-03-30    2016-04-05\n",
      "27      2016-04-06    2016-04-06\n",
      "28      2016-04-06    2016-04-06\n",
      "29      2016-04-06    2016-04-06\n",
      "...            ...           ...\n",
      "9340    2019-11-04    2019-11-04\n",
      "9341    2019-11-04    2019-11-04\n",
      "9342    2019-11-05    2019-11-05\n",
      "9343    2019-11-05    2019-11-05\n",
      "9344    2019-11-05    2019-11-05\n",
      "9345    2019-11-03    2019-11-05\n",
      "9346    2019-11-05    2019-11-05\n",
      "9347    2019-11-04    2019-11-05\n",
      "9348    2019-11-05    2019-11-05\n",
      "9349    2019-11-05    2019-11-05\n",
      "9350    2019-11-05    2019-11-05\n",
      "9351    2019-11-05    2019-11-05\n",
      "9352    2019-11-06    2019-11-06\n",
      "9353    2019-11-06    2019-11-06\n",
      "9354    2019-11-06    2019-11-06\n",
      "9355    2019-11-06    2019-11-06\n",
      "9356    2019-11-06    2019-11-06\n",
      "9357    2019-10-31    2019-11-06\n",
      "9358    2019-11-06    2019-11-06\n",
      "9359    2019-11-06    2019-11-07\n",
      "9360    2019-11-07    2019-11-07\n",
      "9361    2019-10-28    2019-11-07\n",
      "9362    2019-11-07    2019-11-07\n",
      "9363    2019-11-07    2019-11-07\n",
      "9364    2019-10-24    2019-11-07\n",
      "9365    2019-11-07    2019-11-07\n",
      "9366    2019-11-07    2019-11-07\n",
      "9367    2019-11-07    2019-11-07\n",
      "9368    2019-11-08    2019-11-08\n",
      "9369    2019-11-08    2019-11-08\n",
      "\n",
      "[9370 rows x 2 columns]\n"
     ]
    }
   ],
   "source": [
    "sql_conn = pyodbc.connect('DRIVER={SQL Server};'\n",
    "                            'SERVER=L_AAGDATIX;'\n",
    "                            'DATABASE=DatixCRM;'\n",
    "                            'Trusted_Connection=yes') \n",
    "query = \"set transaction isolation level read uncommitted select inc_dincident,inc_dreported from DatixCRM.dbo.incidents_main where inc_type='PAT' and inc_category='MEDIC' and inc_organisation='QA'\"\n",
    "df = pd.read_sql(query, sql_conn)\n",
    "print(df)"
   ]
  },
  {
   "cell_type": "code",
   "execution_count": 3,
   "metadata": {},
   "outputs": [
    {
     "name": "stdout",
     "output_type": "stream",
     "text": [
      "     inc_dincident inc_dreported\n",
      "0       2016-03-31    2016-03-31\n",
      "1       2016-03-31    2016-04-01\n",
      "2       2016-04-01    2016-04-01\n",
      "3       2016-03-25    2016-04-01\n",
      "4       2016-04-02    2016-04-02\n",
      "5       2016-04-01    2016-04-02\n",
      "6       2016-04-01    2016-04-02\n",
      "7       2016-04-02    2016-04-02\n",
      "8       2016-04-02    2016-04-02\n",
      "9       2016-04-03    2016-04-03\n",
      "10      2016-04-03    2016-04-03\n",
      "11      2016-04-02    2016-04-04\n",
      "12      2016-04-02    2016-04-04\n",
      "13      2016-04-02    2016-04-04\n",
      "14      2016-04-02    2016-04-04\n",
      "15      2016-04-02    2016-04-04\n",
      "16      2016-04-04    2016-04-04\n",
      "17      2016-04-02    2016-04-04\n",
      "18      2016-04-04    2016-04-04\n",
      "19      2016-04-02    2016-04-04\n",
      "20      2016-03-23    2016-04-04\n",
      "21      2016-04-02    2016-04-04\n",
      "22      2016-04-02    2016-04-04\n",
      "23      2016-04-04    2016-04-04\n",
      "24      2016-04-04    2016-04-05\n",
      "25      2016-04-05    2016-04-05\n",
      "26      2016-03-30    2016-04-05\n",
      "27      2016-04-06    2016-04-06\n",
      "28      2016-04-06    2016-04-06\n",
      "29      2016-04-06    2016-04-06\n",
      "...            ...           ...\n",
      "9340    2019-11-04    2019-11-04\n",
      "9341    2019-11-04    2019-11-04\n",
      "9342    2019-11-05    2019-11-05\n",
      "9343    2019-11-05    2019-11-05\n",
      "9344    2019-11-05    2019-11-05\n",
      "9345    2019-11-03    2019-11-05\n",
      "9346    2019-11-05    2019-11-05\n",
      "9347    2019-11-04    2019-11-05\n",
      "9348    2019-11-05    2019-11-05\n",
      "9349    2019-11-05    2019-11-05\n",
      "9350    2019-11-05    2019-11-05\n",
      "9351    2019-11-05    2019-11-05\n",
      "9352    2019-11-06    2019-11-06\n",
      "9353    2019-11-06    2019-11-06\n",
      "9354    2019-11-06    2019-11-06\n",
      "9355    2019-11-06    2019-11-06\n",
      "9356    2019-11-06    2019-11-06\n",
      "9357    2019-10-31    2019-11-06\n",
      "9358    2019-11-06    2019-11-06\n",
      "9359    2019-11-06    2019-11-07\n",
      "9360    2019-11-07    2019-11-07\n",
      "9361    2019-10-28    2019-11-07\n",
      "9362    2019-11-07    2019-11-07\n",
      "9363    2019-11-07    2019-11-07\n",
      "9364    2019-10-24    2019-11-07\n",
      "9365    2019-11-07    2019-11-07\n",
      "9366    2019-11-07    2019-11-07\n",
      "9367    2019-11-07    2019-11-07\n",
      "9368    2019-11-08    2019-11-08\n",
      "9369    2019-11-08    2019-11-08\n",
      "\n",
      "[9370 rows x 2 columns]\n"
     ]
    }
   ],
   "source": [
    "df_inc = df.copy()\n",
    "df_inc = df_inc[df_inc.inc_dincident > '2016-03-31']\n",
    "df_inc = df_inc[df_inc.inc_dincident < '2019-10-01']\n",
    "print(df)"
   ]
  },
  {
   "cell_type": "code",
   "execution_count": 4,
   "metadata": {},
   "outputs": [
    {
     "name": "stdout",
     "output_type": "stream",
     "text": [
      "[[143 143]\n",
      " [186 186]\n",
      " [135 135]\n",
      " [126 126]\n",
      " [160 160]\n",
      " [159 159]\n",
      " [203 203]\n",
      " [187 187]\n",
      " [189 189]\n",
      " [178 178]\n",
      " [170 170]\n",
      " [195 195]\n",
      " [181 181]\n",
      " [207 207]\n",
      " [248 248]\n",
      " [215 215]\n",
      " [238 238]\n",
      " [237 237]\n",
      " [243 243]\n",
      " [235 235]\n",
      " [203 203]\n",
      " [209 209]\n",
      " [192 192]\n",
      " [227 227]\n",
      " [247 247]\n",
      " [271 271]\n",
      " [202 202]\n",
      " [201 201]\n",
      " [193 193]\n",
      " [195 195]\n",
      " [232 232]\n",
      " [227 227]\n",
      " [240 240]\n",
      " [243 243]\n",
      " [237 237]\n",
      " [249 249]\n",
      " [225 225]\n",
      " [249 249]\n",
      " [282 282]\n",
      " [323 323]\n",
      " [237 237]\n",
      " [253 253]]\n"
     ]
    }
   ],
   "source": [
    "month_year = df.groupby([df_inc.inc_dincident.dt.year, df_inc.inc_dincident.dt.month]).agg('count')\n",
    "print(month_year.values)"
   ]
  },
  {
   "cell_type": "code",
   "execution_count": 5,
   "metadata": {},
   "outputs": [
    {
     "name": "stdout",
     "output_type": "stream",
     "text": [
      "[30. 31. 30. 31. 31. 30. 31. 30. 31. 31. 28. 31. 30. 31. 30. 31. 31. 30.\n",
      " 31. 30. 31. 31. 28. 31. 30. 31. 30. 31. 31. 30. 31. 30. 31. 31. 28. 31.\n",
      " 30. 31. 30. 31. 31. 30.]\n"
     ]
    }
   ],
   "source": [
    "days_in_month = np.ones(len(month_year.values))*31\n",
    "days_in_month[0] = 30\n",
    "days_in_month[2] = 30\n",
    "days_in_month[5] = 30\n",
    "days_in_month[7] = 30\n",
    "days_in_month[10] = 28\n",
    "days_in_month[12] = 30\n",
    "days_in_month[14] = 30\n",
    "days_in_month[17] = 30\n",
    "days_in_month[19] = 30\n",
    "days_in_month[22] = 28\n",
    "days_in_month[24] = 30\n",
    "days_in_month[26] = 30\n",
    "days_in_month[29] = 30\n",
    "days_in_month[31] = 30\n",
    "days_in_month[34] = 28\n",
    "days_in_month[36] = 30\n",
    "days_in_month[38] = 30\n",
    "days_in_month[41] = 30\n",
    "print(days_in_month)"
   ]
  },
  {
   "cell_type": "code",
   "execution_count": 6,
   "metadata": {},
   "outputs": [],
   "source": [
    "months_labels = ['Apr 16', 'May 16', 'Jun 16', 'Jul 16', 'Aug 16', 'Sep 16', 'Oct 16', 'Nov 16', 'Dec 16', 'Jan 17', 'Feb 17', 'Mar 17', 'Apr 17', 'May 17', 'Jun 17', 'Jul 17', 'Aug 17', 'Sep 17', 'Oct 17', 'Nov 17', 'Dec 17', 'Jan 18', 'Feb 18', 'Mar 18', 'Apr 18', 'May 18', 'Jun 18', 'Jul 18', 'Aug 18', 'Sep 18', 'Oct 18', 'Nov 18', 'Dec 18', 'Jan 19', 'Feb 19', 'Mar 19', 'Apr 19', 'May 19', 'Jun 19', 'Jul 19', 'Aug 19', 'Sep 19']"
   ]
  },
  {
   "cell_type": "code",
   "execution_count": 7,
   "metadata": {},
   "outputs": [],
   "source": [
    "num_per_day = month_year.inc_dincident.values/days_in_month\n",
    "num_per_day_err = np.sqrt(month_year.inc_dincident.values)/days_in_month"
   ]
  },
  {
   "cell_type": "code",
   "execution_count": 8,
   "metadata": {},
   "outputs": [
    {
     "data": {
      "text/plain": [
       "(-0.5, 3301.5, 495.5, -0.5)"
      ]
     },
     "execution_count": 8,
     "metadata": {},
     "output_type": "execute_result"
    },
    {
     "data": {
      "image/png": "[encoded data removed]",
      "text/plain": [
       "<Figure size 432x288 with 2 Axes>"
      ]
     },
     "metadata": {
      "needs_background": "light"
     },
     "output_type": "display_data"
    }
   ],
   "source": [
    "plt.errorbar(months_labels,num_per_day,num_per_day_err,capsize=5,fmt='o',label='Data');\n",
    "plt.xticks(rotation='vertical');\n",
    "plt.legend(loc='lower right',frameon=False)\n",
    "plt.ylabel('Patient medicine safety events per day')\n",
    "plt.xlabel('Month year')\n",
    "plt.title('Daily number of patient medicine safety events')\n",
    "img = plt.imread(\"nhsportsmouth.png\");\n",
    "ax = plt.axes([0.125+0.01,0.5, 0.6, 0.6], frameon=True)  # Change the numbers in this array to position your image [left, bottom, width, height])\n",
    "ax.imshow(img)\n",
    "ax.axis('off')  # get rid of the ticks and ticklabels"
   ]
  },
  {
   "cell_type": "code",
   "execution_count": 9,
   "metadata": {},
   "outputs": [],
   "source": [
    "data_x = np.array([i for i in range(len(months_labels))])\n",
    "data_y = num_per_day"
   ]
  },
  {
   "cell_type": "code",
   "execution_count": 10,
   "metadata": {},
   "outputs": [],
   "source": [
    "# data fit\n",
    "polynomial_mod = PolynomialModel(1)\n",
    "pars = polynomial_mod.guess(data_y, x=data_x, c0=data_y[0], c1=0)\n",
    "model = polynomial_mod\n",
    "out = model.fit(data_y, pars, x=data_x)"
   ]
  },
  {
   "cell_type": "code",
   "execution_count": 11,
   "metadata": {},
   "outputs": [
    {
     "data": {
      "text/plain": [
       "(-0.5, 3301.5, 495.5, -0.5)"
      ]
     },
     "execution_count": 11,
     "metadata": {},
     "output_type": "execute_result"
    },
    {
     "data": {
      "image/png": "[encoded data removed]",
      "text/plain": [
       "<Figure size 432x288 with 2 Axes>"
      ]
     },
     "metadata": {
      "needs_background": "light"
     },
     "output_type": "display_data"
    }
   ],
   "source": [
    "plt.errorbar(months_labels,num_per_day,num_per_day_err,capsize=5,fmt='o',label='Data');\n",
    "plt.plot(months_labels, out.best_fit, label='Linear Fit')\n",
    "plt.xticks(rotation='vertical');\n",
    "plt.legend(loc='lower right',frameon=False)\n",
    "plt.ylabel('Patient medicine safety events per day')\n",
    "plt.xlabel('Month year')\n",
    "plt.title('Daily number of patient medicine safety events')\n",
    "img = plt.imread(\"nhsportsmouth.png\");\n",
    "ax = plt.axes([0.125+0.01,0.5, 0.6, 0.6], frameon=True)  # Change the numbers in this array to position your image [left, bottom, width, height])\n",
    "ax.imshow(img)\n",
    "ax.axis('off')  # get rid of the ticks and ticklabels"
   ]
  },
  {
   "cell_type": "code",
   "execution_count": 12,
   "metadata": {},
   "outputs": [
    {
     "name": "stdout",
     "output_type": "stream",
     "text": [
      "['Spring', 'Spring', 'Summer', 'Summer', 'Summer', 'Autumn', 'Autumn', 'Autumn', 'Winter', 'Winter', 'Winter', 'Spring', 'Spring', 'Spring', 'Summer', 'Summer', 'Summer', 'Autumn', 'Autumn', 'Autumn', 'Winter', 'Winter', 'Winter', 'Spring', 'Spring', 'Spring', 'Summer', 'Summer', 'Summer', 'Autumn', 'Autumn', 'Autumn', 'Winter', 'Winter', 'Winter', 'Spring', 'Spring', 'Spring', 'Summer', 'Summer', 'Summer', 'Autumn']\n",
      "[0, 0, 1, 1, 1, 2, 2, 2, 3, 3, 3, 0, 0, 0, 1, 1, 1, 2, 2, 2, 3, 3, 3, 0, 0, 0, 1, 1, 1, 2, 2, 2, 3, 3, 3, 0, 0, 0, 1, 1, 1, 2]\n",
      "['red', 'red', 'green', 'green', 'green', 'blue', 'blue', 'blue', 'purple', 'purple', 'purple', 'red', 'red', 'red', 'green', 'green', 'green', 'blue', 'blue', 'blue', 'purple', 'purple', 'purple', 'red', 'red', 'red', 'green', 'green', 'green', 'blue', 'blue', 'blue', 'purple', 'purple', 'purple', 'red', 'red', 'red', 'green', 'green', 'green', 'blue']\n",
      "42\n",
      "42\n",
      "42\n",
      "42\n"
     ]
    }
   ],
   "source": [
    "season_labels = ['Spring' for i in range(len(months_labels))]\n",
    "for i in range(len(season_labels)):\n",
    "    if 'Ju' in months_labels[i]: season_labels[i]='Summer'\n",
    "    elif 'Au' in months_labels[i]: season_labels[i]='Summer'\n",
    "    elif 'Se' in months_labels[i]: season_labels[i]='Autumn'\n",
    "    elif 'Oc' in months_labels[i]: season_labels[i]='Autumn'\n",
    "    elif 'No' in months_labels[i]: season_labels[i]='Autumn'\n",
    "    elif 'De' in months_labels[i]: season_labels[i]='Winter'\n",
    "    elif 'Ja' in months_labels[i]: season_labels[i]='Winter'\n",
    "    elif 'Fe' in months_labels[i]: season_labels[i]='Winter'\n",
    "print(season_labels)\n",
    "colors = ['red','green','blue','purple']\n",
    "season_codes = []\n",
    "for season in season_labels:\n",
    "    if season == 'Spring': season_codes.append(0)\n",
    "    elif season == 'Summer': season_codes.append(1)\n",
    "    elif season == 'Autumn': season_codes.append(2)\n",
    "    else: season_codes.append(3)\n",
    "print(season_codes)\n",
    "season_colours = []\n",
    "for season in season_labels:\n",
    "    if season == 'Spring': season_colours.append('red')\n",
    "    elif season == 'Summer': season_colours.append('green')\n",
    "    elif season == 'Autumn': season_colours.append('blue')\n",
    "    else: season_colours.append('purple')\n",
    "print(season_colours)\n",
    "print(len(months_labels))\n",
    "print(len(num_per_day))\n",
    "print(len(num_per_day_err))\n",
    "print(len(season_colours))"
   ]
  },
  {
   "cell_type": "code",
   "execution_count": 13,
   "metadata": {},
   "outputs": [
    {
     "name": "stdout",
     "output_type": "stream",
     "text": [
      "[4.76666667 6.         0.         0.         0.         0.\n",
      " 0.         0.         0.         0.         0.         6.29032258\n",
      " 6.03333333 6.67741935 0.         0.         0.         0.\n",
      " 0.         0.         0.         0.         0.         7.32258065\n",
      " 8.23333333 8.74193548 0.         0.         0.         0.\n",
      " 0.         0.         0.         0.         0.         8.03225806\n",
      " 7.5        8.03225806 0.         0.         0.         0.        ]\n"
     ]
    }
   ],
   "source": [
    "num_per_spring_day = np.zeros(len(num_per_day))\n",
    "num_per_summer_day = np.zeros(len(num_per_day))\n",
    "num_per_autumn_day = np.zeros(len(num_per_day))\n",
    "num_per_winter_day = np.zeros(len(num_per_day))\n",
    "for idx,season in enumerate(season_labels):\n",
    "    if season == 'Spring': num_per_spring_day[idx] = num_per_day[idx]\n",
    "    elif season == 'Summer': num_per_summer_day[idx] = num_per_day[idx]\n",
    "    elif season == 'Autumn': num_per_autumn_day[idx] = num_per_day[idx]\n",
    "    else: num_per_winter_day[idx] = num_per_day[idx]\n",
    "print(num_per_spring_day)"
   ]
  },
  {
   "cell_type": "code",
   "execution_count": 14,
   "metadata": {},
   "outputs": [
    {
     "data": {
      "text/plain": [
       "(-0.5, 3301.5, 495.5, -0.5)"
      ]
     },
     "execution_count": 14,
     "metadata": {},
     "output_type": "execute_result"
    },
    {
     "data": {
      "image/png": "[encoded data removed]",
      "text/plain": [
       "<Figure size 432x288 with 2 Axes>"
      ]
     },
     "metadata": {
      "needs_background": "light"
     },
     "output_type": "display_data"
    }
   ],
   "source": [
    "plt.errorbar(months_labels,num_per_spring_day,num_per_day_err,capsize=5,fmt='go',label='Spring');\n",
    "plt.errorbar(months_labels,num_per_summer_day,num_per_day_err,capsize=5,fmt='ro',label='Summer');\n",
    "plt.errorbar(months_labels,num_per_autumn_day,num_per_day_err,capsize=5,fmt='yo',label='Autumn');\n",
    "plt.errorbar(months_labels,num_per_winter_day,num_per_day_err,capsize=5,fmt='bo',label='Winter');\n",
    "plt.plot(months_labels, out.best_fit, '-m',label='Linear Fit')\n",
    "plt.xticks(rotation='vertical');\n",
    "plt.legend(loc='lower right',frameon=False)\n",
    "plt.ylabel('Patient medicine safety events per day')\n",
    "plt.xlabel('Month year occured')\n",
    "plt.title('Daily number of patient medicine safety events at QA')\n",
    "plt.ylim(bottom=3.1)\n",
    "img = plt.imread(\"nhsportsmouth.png\");\n",
    "ax = plt.axes([0.125+0.01,0.5, 0.6, 0.6], frameon=True)  # Change the numbers in this array to position your image [left, bottom, width, height])\n",
    "ax.imshow(img)\n",
    "ax.axis('off')  # get rid of the ticks and ticklabels"
   ]
  },
  {
   "cell_type": "code",
   "execution_count": 15,
   "metadata": {},
   "outputs": [],
   "source": [
    "df_rep = df.copy()\n",
    "df_rep = df_rep[df_rep.inc_dreported > '2016-03-31']\n",
    "df_rep = df_rep[df_rep.inc_dreported < '2019-10-01']"
   ]
  },
  {
   "cell_type": "code",
   "execution_count": 16,
   "metadata": {},
   "outputs": [],
   "source": [
    "month_year = df.groupby([df_rep.inc_dreported.dt.year, df_rep.inc_dreported.dt.month]).agg('count')"
   ]
  },
  {
   "cell_type": "code",
   "execution_count": 17,
   "metadata": {},
   "outputs": [],
   "source": [
    "num_per_day = month_year.inc_dreported.values/days_in_month\n",
    "num_per_day_err = np.sqrt(month_year.inc_dreported.values)/days_in_month"
   ]
  },
  {
   "cell_type": "code",
   "execution_count": 18,
   "metadata": {},
   "outputs": [],
   "source": [
    "data_x = np.array([i for i in range(len(months_labels))])\n",
    "data_y = num_per_day"
   ]
  },
  {
   "cell_type": "code",
   "execution_count": 19,
   "metadata": {},
   "outputs": [],
   "source": [
    "# data fit\n",
    "polynomial_mod = PolynomialModel(1)\n",
    "pars = polynomial_mod.guess(data_y, x=data_x, c0=data_y[0], c1=0)\n",
    "model = polynomial_mod\n",
    "out = model.fit(data_y, pars, x=data_x)"
   ]
  },
  {
   "cell_type": "code",
   "execution_count": 20,
   "metadata": {},
   "outputs": [],
   "source": [
    "num_per_spring_day = np.ones(len(num_per_day))*100\n",
    "num_per_summer_day = np.ones(len(num_per_day))*100\n",
    "num_per_autumn_day = np.ones(len(num_per_day))*100\n",
    "num_per_winter_day = np.ones(len(num_per_day))*100\n",
    "for idx,season in enumerate(season_labels):\n",
    "    if season == 'Spring': num_per_spring_day[idx] = num_per_day[idx]\n",
    "    elif season == 'Summer': num_per_summer_day[idx] = num_per_day[idx]\n",
    "    elif season == 'Autumn': num_per_autumn_day[idx] = num_per_day[idx]\n",
    "    else: num_per_winter_day[idx] = num_per_day[idx]"
   ]
  },
  {
   "cell_type": "code",
   "execution_count": 21,
   "metadata": {},
   "outputs": [
    {
     "data": {
      "text/plain": [
       "(-0.5, 3301.5, 495.5, -0.5)"
      ]
     },
     "execution_count": 21,
     "metadata": {},
     "output_type": "execute_result"
    },
    {
     "data": {
      "image/png": "[encoded data removed]",
      "text/plain": [
       "<Figure size 432x288 with 2 Axes>"
      ]
     },
     "metadata": {
      "needs_background": "light"
     },
     "output_type": "display_data"
    }
   ],
   "source": [
    "plt.errorbar(months_labels,num_per_spring_day,num_per_day_err,capsize=5,fmt='go',label='Spring');\n",
    "plt.errorbar(months_labels,num_per_summer_day,num_per_day_err,capsize=5,fmt='ro',label='Summer');\n",
    "plt.errorbar(months_labels,num_per_autumn_day,num_per_day_err,capsize=5,fmt='yo',label='Autumn');\n",
    "plt.errorbar(months_labels,num_per_winter_day,num_per_day_err,capsize=5,fmt='bo',label='Winter');\n",
    "plt.plot(months_labels, out.best_fit, '-m',label='Linear Fit')\n",
    "plt.xticks(rotation='vertical');\n",
    "plt.legend(loc='lower right',frameon=False)\n",
    "plt.ylabel('Patient medicine safety events per day')\n",
    "plt.xlabel('Month year reported')\n",
    "plt.title('Daily number of patient medicine safety events at QA')\n",
    "plt.ylim(bottom=0,top=11.9)\n",
    "img = plt.imread(\"nhsportsmouth.png\");\n",
    "ax = plt.axes([0.125+0.01,0.5, 0.6, 0.6], frameon=True)  # Change the numbers in this array to position your image [left, bottom, width, height])\n",
    "ax.imshow(img)\n",
    "ax.axis('off')  # get rid of the ticks and ticklabels"
   ]
  },
  {
   "cell_type": "code",
   "execution_count": 22,
   "metadata": {},
   "outputs": [
    {
     "data": {
      "text/html": [
       "\n",
       "    <div class=\"bk-root\">\n",
       "        <a href=\"https://bokeh.pydata.org\" target=\"_blank\" class=\"bk-logo bk-logo-small bk-logo-notebook\"></a>\n",
       "        <span id=\"1110\">Loading BokehJS ...</span>\n",
       "    </div>"
      ]
     },
     "metadata": {},
     "output_type": "display_data"
    },
    {
     "data": {
      "application/javascript": [
       "\n",
       "(function(root) {\n",
       "  function now() {\n",
       "    return new Date();\n",
       "  }\n",
       "\n",
       "  var force = true;\n",
       "\n",
       "  if (typeof root._bokeh_onload_callbacks === \"undefined\" || force === true) {\n",
       "    root._bokeh_onload_callbacks = [];\n",
       "    root._bokeh_is_loading = undefined;\n",
       "  }\n",
       "\n",
       "  var JS_MIME_TYPE = 'application/javascript';\n",
       "  var HTML_MIME_TYPE = 'text/html';\n",
       "  var EXEC_MIME_TYPE = 'application/vnd.bokehjs_exec.v0+json';\n",
       "  var CLASS_NAME = 'output_bokeh rendered_html';\n",
       "\n",
       "  /**\n",
       "   * Render data to the DOM node\n",
       "   */\n",
       "  function render(props, node) {\n",
       "    var script = document.createElement(\"script\");\n",
       "    node.appendChild(script);\n",
       "  }\n",
       "\n",
       "  /**\n",
       "   * Handle when an output is cleared or removed\n",
       "   */\n",
       "  function handleClearOutput(event, handle) {\n",
       "    var cell = handle.cell;\n",
       "\n",
       "    var id = cell.output_area._bokeh_element_id;\n",
       "    var server_id = cell.output_area._bokeh_server_id;\n",
       "    // Clean up Bokeh references\n",
       "    if (id != null && id in Bokeh.index) {\n",
       "      Bokeh.index[id].model.document.clear();\n",
       "      delete Bokeh.index[id];\n",
       "    }\n",
       "\n",
       "    if (server_id !== undefined) {\n",
       "      // Clean up Bokeh references\n",
       "      var cmd = \"from bokeh.io.state import curstate; print(curstate().uuid_to_server['\" + server_id + \"'].get_sessions()[0].document.roots[0]._id)\";\n",
       "      cell.notebook.kernel.execute(cmd, {\n",
       "        iopub: {\n",
       "          output: function(msg) {\n",
       "            var id = msg.content.text.trim();\n",
       "            if (id in Bokeh.index) {\n",
       "              Bokeh.index[id].model.document.clear();\n",
       "              delete Bokeh.index[id];\n",
       "            }\n",
       "          }\n",
       "        }\n",
       "      });\n",
       "      // Destroy server and session\n",
       "      var cmd = \"import bokeh.io.notebook as ion; ion.destroy_server('\" + server_id + \"')\";\n",
       "      cell.notebook.kernel.execute(cmd);\n",
       "    }\n",
       "  }\n",
       "\n",
       "  /**\n",
       "   * Handle when a new output is added\n",
       "   */\n",
       "  function handleAddOutput(event, handle) {\n",
       "    var output_area = handle.output_area;\n",
       "    var output = handle.output;\n",
       "\n",
       "    // limit handleAddOutput to display_data with EXEC_MIME_TYPE content only\n",
       "    if ((output.output_type != \"display_data\") || (!output.data.hasOwnProperty(EXEC_MIME_TYPE))) {\n",
       "      return\n",
       "    }\n",
       "\n",
       "    var toinsert = output_area.element.find(\".\" + CLASS_NAME.split(' ')[0]);\n",
       "\n",
       "    if (output.metadata[EXEC_MIME_TYPE][\"id\"] !== undefined) {\n",
       "      toinsert[toinsert.length - 1].firstChild.textContent = output.data[JS_MIME_TYPE];\n",
       "      // store reference to embed id on output_area\n",
       "      output_area._bokeh_element_id = output.metadata[EXEC_MIME_TYPE][\"id\"];\n",
       "    }\n",
       "    if (output.metadata[EXEC_MIME_TYPE][\"server_id\"] !== undefined) {\n",
       "      var bk_div = document.createElement(\"div\");\n",
       "      bk_div.innerHTML = output.data[HTML_MIME_TYPE];\n",
       "      var script_attrs = bk_div.children[0].attributes;\n",
       "      for (var i = 0; i < script_attrs.length; i++) {\n",
       "        toinsert[toinsert.length - 1].firstChild.setAttribute(script_attrs[i].name, script_attrs[i].value);\n",
       "      }\n",
       "      // store reference to server id on output_area\n",
       "      output_area._bokeh_server_id = output.metadata[EXEC_MIME_TYPE][\"server_id\"];\n",
       "    }\n",
       "  }\n",
       "\n",
       "  function register_renderer(events, OutputArea) {\n",
       "\n",
       "    function append_mime(data, metadata, element) {\n",
       "      // create a DOM node to render to\n",
       "      var toinsert = this.create_output_subarea(\n",
       "        metadata,\n",
       "        CLASS_NAME,\n",
       "        EXEC_MIME_TYPE\n",
       "      );\n",
       "      this.keyboard_manager.register_events(toinsert);\n",
       "      // Render to node\n",
       "      var props = {data: data, metadata: metadata[EXEC_MIME_TYPE]};\n",
       "      render(props, toinsert[toinsert.length - 1]);\n",
       "      element.append(toinsert);\n",
       "      return toinsert\n",
       "    }\n",
       "\n",
       "    /* Handle when an output is cleared or removed */\n",
       "    events.on('clear_output.CodeCell', handleClearOutput);\n",
       "    events.on('delete.Cell', handleClearOutput);\n",
       "\n",
       "    /* Handle when a new output is added */\n",
       "    events.on('output_added.OutputArea', handleAddOutput);\n",
       "\n",
       "    /**\n",
       "     * Register the mime type and append_mime function with output_area\n",
       "     */\n",
       "    OutputArea.prototype.register_mime_type(EXEC_MIME_TYPE, append_mime, {\n",
       "      /* Is output safe? */\n",
       "      safe: true,\n",
       "      /* Index of renderer in `output_area.display_order` */\n",
       "      index: 0\n",
       "    });\n",
       "  }\n",
       "\n",
       "  // register the mime type if in Jupyter Notebook environment and previously unregistered\n",
       "  if (root.Jupyter !== undefined) {\n",
       "    var events = require('base/js/events');\n",
       "    var OutputArea = require('notebook/js/outputarea').OutputArea;\n",
       "\n",
       "    if (OutputArea.prototype.mime_types().indexOf(EXEC_MIME_TYPE) == -1) {\n",
       "      register_renderer(events, OutputArea);\n",
       "    }\n",
       "  }\n",
       "\n",
       "  \n",
       "  if (typeof (root._bokeh_timeout) === \"undefined\" || force === true) {\n",
       "    root._bokeh_timeout = Date.now() + 5000;\n",
       "    root._bokeh_failed_load = false;\n",
       "  }\n",
       "\n",
       "  var NB_LOAD_WARNING = {'data': {'text/html':\n",
       "     \"<div style='background-color: #fdd'>\\n\"+\n",
       "     \"<p>\\n\"+\n",
       "     \"BokehJS does not appear to have successfully loaded. If loading BokehJS from CDN, this \\n\"+\n",
       "     \"may be due to a slow or bad network connection. Possible fixes:\\n\"+\n",
       "     \"</p>\\n\"+\n",
       "     \"<ul>\\n\"+\n",
       "     \"<li>re-rerun `output_notebook()` to attempt to load from CDN again, or</li>\\n\"+\n",
       "     \"<li>use INLINE resources instead, as so:</li>\\n\"+\n",
       "     \"</ul>\\n\"+\n",
       "     \"<code>\\n\"+\n",
       "     \"from bokeh.resources import INLINE\\n\"+\n",
       "     \"output_notebook(resources=INLINE)\\n\"+\n",
       "     \"</code>\\n\"+\n",
       "     \"</div>\"}};\n",
       "\n",
       "  function display_loaded() {\n",
       "    var el = document.getElementById(\"1110\");\n",
       "    if (el != null) {\n",
       "      el.textContent = \"BokehJS is loading...\";\n",
       "    }\n",
       "    if (root.Bokeh !== undefined) {\n",
       "      if (el != null) {\n",
       "        el.textContent = \"BokehJS \" + root.Bokeh.version + \" successfully loaded.\";\n",
       "      }\n",
       "    } else if (Date.now() < root._bokeh_timeout) {\n",
       "      setTimeout(display_loaded, 100)\n",
       "    }\n",
       "  }\n",
       "\n",
       "\n",
       "  function run_callbacks() {\n",
       "    try {\n",
       "      root._bokeh_onload_callbacks.forEach(function(callback) {\n",
       "        if (callback != null)\n",
       "          callback();\n",
       "      });\n",
       "    } finally {\n",
       "      delete root._bokeh_onload_callbacks\n",
       "    }\n",
       "    console.debug(\"Bokeh: all callbacks have finished\");\n",
       "  }\n",
       "\n",
       "  function load_libs(css_urls, js_urls, callback) {\n",
       "    if (css_urls == null) css_urls = [];\n",
       "    if (js_urls == null) js_urls = [];\n",
       "\n",
       "    root._bokeh_onload_callbacks.push(callback);\n",
       "    if (root._bokeh_is_loading > 0) {\n",
       "      console.debug(\"Bokeh: BokehJS is being loaded, scheduling callback at\", now());\n",
       "      return null;\n",
       "    }\n",
       "    if (js_urls == null || js_urls.length === 0) {\n",
       "      run_callbacks();\n",
       "      return null;\n",
       "    }\n",
       "    console.debug(\"Bokeh: BokehJS not loaded, scheduling load and callback at\", now());\n",
       "    root._bokeh_is_loading = css_urls.length + js_urls.length;\n",
       "\n",
       "    function on_load() {\n",
       "      root._bokeh_is_loading--;\n",
       "      if (root._bokeh_is_loading === 0) {\n",
       "        console.debug(\"Bokeh: all BokehJS libraries/stylesheets loaded\");\n",
       "        run_callbacks()\n",
       "      }\n",
       "    }\n",
       "\n",
       "    function on_error() {\n",
       "      console.error(\"failed to load \" + url);\n",
       "    }\n",
       "\n",
       "    for (var i = 0; i < css_urls.length; i++) {\n",
       "      var url = css_urls[i];\n",
       "      const element = document.createElement(\"link\");\n",
       "      element.onload = on_load;\n",
       "      element.onerror = on_error;\n",
       "      element.rel = \"stylesheet\";\n",
       "      element.type = \"text/css\";\n",
       "      element.href = url;\n",
       "      console.debug(\"Bokeh: injecting link tag for BokehJS stylesheet: \", url);\n",
       "      document.body.appendChild(element);\n",
       "    }\n",
       "\n",
       "    for (var i = 0; i < js_urls.length; i++) {\n",
       "      var url = js_urls[i];\n",
       "      var element = document.createElement('script');\n",
       "      element.onload = on_load;\n",
       "      element.onerror = on_error;\n",
       "      element.async = false;\n",
       "      element.src = url;\n",
       "      console.debug(\"Bokeh: injecting script tag for BokehJS library: \", url);\n",
       "      document.head.appendChild(element);\n",
       "    }\n",
       "  };var element = document.getElementById(\"1110\");\n",
       "  if (element == null) {\n",
       "    console.error(\"Bokeh: ERROR: autoload.js configured with elementid '1110' but no matching script tag was found. \")\n",
       "    return false;\n",
       "  }\n",
       "\n",
       "  function inject_raw_css(css) {\n",
       "    const element = document.createElement(\"style\");\n",
       "    element.appendChild(document.createTextNode(css));\n",
       "    document.body.appendChild(element);\n",
       "  }\n",
       "\n",
       "  var js_urls = [\"https://cdn.pydata.org/bokeh/release/bokeh-1.2.0.min.js\", \"https://cdn.pydata.org/bokeh/release/bokeh-widgets-1.2.0.min.js\", \"https://cdn.pydata.org/bokeh/release/bokeh-tables-1.2.0.min.js\", \"https://cdn.pydata.org/bokeh/release/bokeh-gl-1.2.0.min.js\"];\n",
       "  var css_urls = [\"https://cdn.pydata.org/bokeh/release/bokeh-1.2.0.min.css\", \"https://cdn.pydata.org/bokeh/release/bokeh-widgets-1.2.0.min.css\", \"https://cdn.pydata.org/bokeh/release/bokeh-tables-1.2.0.min.css\"];\n",
       "\n",
       "  var inline_js = [\n",
       "    function(Bokeh) {\n",
       "      Bokeh.set_log_level(\"info\");\n",
       "    },\n",
       "    \n",
       "    function(Bokeh) {\n",
       "      \n",
       "    },\n",
       "    function(Bokeh) {} // ensure no trailing comma for IE\n",
       "  ];\n",
       "\n",
       "  function run_inline_js() {\n",
       "    \n",
       "    if ((root.Bokeh !== undefined) || (force === true)) {\n",
       "      for (var i = 0; i < inline_js.length; i++) {\n",
       "        inline_js[i].call(root, root.Bokeh);\n",
       "      }if (force === true) {\n",
       "        display_loaded();\n",
       "      }} else if (Date.now() < root._bokeh_timeout) {\n",
       "      setTimeout(run_inline_js, 100);\n",
       "    } else if (!root._bokeh_failed_load) {\n",
       "      console.log(\"Bokeh: BokehJS failed to load within specified timeout.\");\n",
       "      root._bokeh_failed_load = true;\n",
       "    } else if (force !== true) {\n",
       "      var cell = $(document.getElementById(\"1110\")).parents('.cell').data().cell;\n",
       "      cell.output_area.append_execute_result(NB_LOAD_WARNING)\n",
       "    }\n",
       "\n",
       "  }\n",
       "\n",
       "  if (root._bokeh_is_loading === 0) {\n",
       "    console.debug(\"Bokeh: BokehJS loaded, going straight to plotting\");\n",
       "    run_inline_js();\n",
       "  } else {\n",
       "    load_libs(css_urls, js_urls, function() {\n",
       "      console.debug(\"Bokeh: BokehJS plotting callback run at\", now());\n",
       "      run_inline_js();\n",
       "    });\n",
       "  }\n",
       "}(window));"
      ],
      "application/vnd.bokehjs_load.v0+json": "\n(function(root) {\n  function now() {\n    return new Date();\n  }\n\n  var force = true;\n\n  if (typeof root._bokeh_onload_callbacks === \"undefined\" || force === true) {\n    root._bokeh_onload_callbacks = [];\n    root._bokeh_is_loading = undefined;\n  }\n\n  \n\n  \n  if (typeof (root._bokeh_timeout) === \"undefined\" || force === true) {\n    root._bokeh_timeout = Date.now() + 5000;\n    root._bokeh_failed_load = false;\n  }\n\n  var NB_LOAD_WARNING = {'data': {'text/html':\n     \"<div style='background-color: #fdd'>\\n\"+\n     \"<p>\\n\"+\n     \"BokehJS does not appear to have successfully loaded. If loading BokehJS from CDN, this \\n\"+\n     \"may be due to a slow or bad network connection. Possible fixes:\\n\"+\n     \"</p>\\n\"+\n     \"<ul>\\n\"+\n     \"<li>re-rerun `output_notebook()` to attempt to load from CDN again, or</li>\\n\"+\n     \"<li>use INLINE resources instead, as so:</li>\\n\"+\n     \"</ul>\\n\"+\n     \"<code>\\n\"+\n     \"from bokeh.resources import INLINE\\n\"+\n     \"output_notebook(resources=INLINE)\\n\"+\n     \"</code>\\n\"+\n     \"</div>\"}};\n\n  function display_loaded() {\n    var el = document.getElementById(\"1110\");\n    if (el != null) {\n      el.textContent = \"BokehJS is loading...\";\n    }\n    if (root.Bokeh !== undefined) {\n      if (el != null) {\n        el.textContent = \"BokehJS \" + root.Bokeh.version + \" successfully loaded.\";\n      }\n    } else if (Date.now() < root._bokeh_timeout) {\n      setTimeout(display_loaded, 100)\n    }\n  }\n\n\n  function run_callbacks() {\n    try {\n      root._bokeh_onload_callbacks.forEach(function(callback) {\n        if (callback != null)\n          callback();\n      });\n    } finally {\n      delete root._bokeh_onload_callbacks\n    }\n    console.debug(\"Bokeh: all callbacks have finished\");\n  }\n\n  function load_libs(css_urls, js_urls, callback) {\n    if (css_urls == null) css_urls = [];\n    if (js_urls == null) js_urls = [];\n\n    root._bokeh_onload_callbacks.push(callback);\n    if (root._bokeh_is_loading > 0) {\n      console.debug(\"Bokeh: BokehJS is being loaded, scheduling callback at\", now());\n      return null;\n    }\n    if (js_urls == null || js_urls.length === 0) {\n      run_callbacks();\n      return null;\n    }\n    console.debug(\"Bokeh: BokehJS not loaded, scheduling load and callback at\", now());\n    root._bokeh_is_loading = css_urls.length + js_urls.length;\n\n    function on_load() {\n      root._bokeh_is_loading--;\n      if (root._bokeh_is_loading === 0) {\n        console.debug(\"Bokeh: all BokehJS libraries/stylesheets loaded\");\n        run_callbacks()\n      }\n    }\n\n    function on_error() {\n      console.error(\"failed to load \" + url);\n    }\n\n    for (var i = 0; i < css_urls.length; i++) {\n      var url = css_urls[i];\n      const element = document.createElement(\"link\");\n      element.onload = on_load;\n      element.onerror = on_error;\n      element.rel = \"stylesheet\";\n      element.type = \"text/css\";\n      element.href = url;\n      console.debug(\"Bokeh: injecting link tag for BokehJS stylesheet: \", url);\n      document.body.appendChild(element);\n    }\n\n    for (var i = 0; i < js_urls.length; i++) {\n      var url = js_urls[i];\n      var element = document.createElement('script');\n      element.onload = on_load;\n      element.onerror = on_error;\n      element.async = false;\n      element.src = url;\n      console.debug(\"Bokeh: injecting script tag for BokehJS library: \", url);\n      document.head.appendChild(element);\n    }\n  };var element = document.getElementById(\"1110\");\n  if (element == null) {\n    console.error(\"Bokeh: ERROR: autoload.js configured with elementid '1110' but no matching script tag was found. \")\n    return false;\n  }\n\n  function inject_raw_css(css) {\n    const element = document.createElement(\"style\");\n    element.appendChild(document.createTextNode(css));\n    document.body.appendChild(element);\n  }\n\n  var js_urls = [\"https://cdn.pydata.org/bokeh/release/bokeh-1.2.0.min.js\", \"https://cdn.pydata.org/bokeh/release/bokeh-widgets-1.2.0.min.js\", \"https://cdn.pydata.org/bokeh/release/bokeh-tables-1.2.0.min.js\", \"https://cdn.pydata.org/bokeh/release/bokeh-gl-1.2.0.min.js\"];\n  var css_urls = [\"https://cdn.pydata.org/bokeh/release/bokeh-1.2.0.min.css\", \"https://cdn.pydata.org/bokeh/release/bokeh-widgets-1.2.0.min.css\", \"https://cdn.pydata.org/bokeh/release/bokeh-tables-1.2.0.min.css\"];\n\n  var inline_js = [\n    function(Bokeh) {\n      Bokeh.set_log_level(\"info\");\n    },\n    \n    function(Bokeh) {\n      \n    },\n    function(Bokeh) {} // ensure no trailing comma for IE\n  ];\n\n  function run_inline_js() {\n    \n    if ((root.Bokeh !== undefined) || (force === true)) {\n      for (var i = 0; i < inline_js.length; i++) {\n        inline_js[i].call(root, root.Bokeh);\n      }if (force === true) {\n        display_loaded();\n      }} else if (Date.now() < root._bokeh_timeout) {\n      setTimeout(run_inline_js, 100);\n    } else if (!root._bokeh_failed_load) {\n      console.log(\"Bokeh: BokehJS failed to load within specified timeout.\");\n      root._bokeh_failed_load = true;\n    } else if (force !== true) {\n      var cell = $(document.getElementById(\"1110\")).parents('.cell').data().cell;\n      cell.output_area.append_execute_result(NB_LOAD_WARNING)\n    }\n\n  }\n\n  if (root._bokeh_is_loading === 0) {\n    console.debug(\"Bokeh: BokehJS loaded, going straight to plotting\");\n    run_inline_js();\n  } else {\n    load_libs(css_urls, js_urls, function() {\n      console.debug(\"Bokeh: BokehJS plotting callback run at\", now());\n      run_inline_js();\n    });\n  }\n}(window));"
     },
     "metadata": {},
     "output_type": "display_data"
    }
   ],
   "source": [
    "# Import figure from bokeh.plotting\n",
    "from bokeh.plotting import figure\n",
    "\n",
    "# Import output_file and show from bokeh.io\n",
    "from bokeh.io import show, output_notebook\n",
    "\n",
    "from bokeh.models import ColumnDataSource, Whisker, Legend, LegendItem, Span, HoverTool\n",
    "\n",
    "\n",
    "upper_spring = [x+e for x,e in zip(num_per_spring_day, num_per_day_err) ]\n",
    "lower_spring = [x-e for x,e in zip(num_per_spring_day, num_per_day_err) ]\n",
    "upper_summer = [x+e for x,e in zip(num_per_summer_day, num_per_day_err) ]\n",
    "lower_summer = [x-e for x,e in zip(num_per_summer_day, num_per_day_err) ]\n",
    "upper_autumn = [x+e for x,e in zip(num_per_autumn_day, num_per_day_err) ]\n",
    "lower_autumn = [x-e for x,e in zip(num_per_autumn_day, num_per_day_err) ]\n",
    "upper_winter = [x+e for x,e in zip(num_per_winter_day, num_per_day_err) ]\n",
    "lower_winter = [x-e for x,e in zip(num_per_winter_day, num_per_day_err) ]\n",
    "\n",
    "spring_source = ColumnDataSource(data=dict(groups=months_labels, counts=num_per_spring_day, upper=upper_spring, lower=lower_spring))\n",
    "summer_source = ColumnDataSource(data=dict(groups=months_labels, counts=num_per_summer_day, upper=upper_summer, lower=lower_summer))\n",
    "autumn_source = ColumnDataSource(data=dict(groups=months_labels, counts=num_per_autumn_day, upper=upper_autumn, lower=lower_autumn))\n",
    "winter_source = ColumnDataSource(data=dict(groups=months_labels, counts=num_per_winter_day, upper=upper_winter, lower=lower_winter))\n",
    "\n",
    "y_max = math.ceil(max(num_per_day) / 2.) * 2\n",
    "p = figure(x_range=months_labels, title=\"Daily number of medicine patient safety events at QA\", y_range=(0,y_max),\n",
    "          x_axis_label='Month Year',y_axis_label='events per day',plot_width=900, plot_height=450,\n",
    "           tools='pan,box_select,box_zoom,wheel_zoom,save,reset,help')\n",
    "\n",
    "p.circle(months_labels,num_per_spring_day,color='green',size=10,alpha=0.5,nonselection_alpha=0, \n",
    "         hover_fill_color='black')\n",
    "p.circle(months_labels,num_per_summer_day,color='red',size=10,alpha=0.5,nonselection_alpha=0, hover_fill_color='black')\n",
    "p.circle(months_labels,num_per_autumn_day,color='yellow',size=10,alpha=0.5,nonselection_alpha=0, hover_fill_color='black')\n",
    "p.circle(months_labels,num_per_winter_day,color='blue',size=10,alpha=0.5,nonselection_alpha=0, hover_fill_color='black')\n",
    "\n",
    "p.add_layout(\n",
    "    Whisker(source=spring_source, base=\"groups\", upper=\"upper\", lower=\"lower\", level=\"overlay\", line_color='green')\n",
    ")\n",
    "p.add_layout(\n",
    "    Whisker(source=summer_source, base=\"groups\", upper=\"upper\", lower=\"lower\", level=\"overlay\", line_color='red')\n",
    ")\n",
    "p.add_layout(\n",
    "    Whisker(source=autumn_source, base=\"groups\", upper=\"upper\", lower=\"lower\", level=\"overlay\", line_color='yellow')\n",
    ")\n",
    "p.add_layout(\n",
    "    Whisker(source=winter_source, base=\"groups\", upper=\"upper\", lower=\"lower\", level=\"overlay\", line_color='blue')\n",
    ")\n",
    "\n",
    "r_linear = p.line(months_labels,out.best_fit,line_color='purple')\n",
    "\n",
    "legend = Legend(items=[\n",
    "    LegendItem(label=\"spring\", renderers=[p.circle(0,0,color='green')]),\n",
    "    LegendItem(label=\"summer\", renderers=[p.circle(0,0,color='red')]),\n",
    "    LegendItem(label=\"autumn\", renderers=[p.circle(0,0,color='yellow')]),\n",
    "    LegendItem(label=\"winter\", renderers=[p.circle(0,0,color='blue')]),\n",
    "    LegendItem(label='fit χ²/Nᵈᶠ = '+str(round(out.redchi,1)), renderers=[r_linear]),\n",
    "])\n",
    "p.add_layout(legend)\n",
    "\n",
    "p.xgrid.grid_line_color = None\n",
    "p.xaxis.major_label_orientation = math.pi/2\n",
    "p.legend\n",
    "#p.legend.orientation = \"horizontal\"\n",
    "p.legend.location = \"bottom_right\"\n",
    "\n",
    "# Create a HoverTool: hover\n",
    "hover = HoverTool(tooltips=None,mode='hline')\n",
    "\n",
    "# Add the hover tool to the figure p\n",
    "p.add_tools(hover)\n",
    "\n",
    "height = math.ceil(max(num_per_day) / 2.) * 2/6\n",
    "width = height*3302/496\n",
    "p.image_url(url=['nhsportsmouth.png'], x=0.2, y=y_max-0.1, w=width, h=height)\n",
    "\n",
    "output_notebook()"
   ]
  },
  {
   "cell_type": "code",
   "execution_count": 23,
   "metadata": {},
   "outputs": [
    {
     "data": {
      "text/html": [
       "\n",
       "\n",
       "\n",
       "\n",
       "\n",
       "\n",
       "  <div class=\"bk-root\" id=\"dd74b47f-aed6-413f-b331-8cb4ac25eb57\" data-root-id=\"1005\"></div>\n"
      ]
     },
     "metadata": {},
     "output_type": "display_data"
    },
    {
     "data": {
      "application/javascript": [
       "(function(root) {\n",
       "  function embed_document(root) {\n",
       "    \n",
       "  var docs_json = {\"29b56734-4431-4b17-8181-b20eb133e657\":{\"roots\":{\"references\":[{\"attributes\":{\"below\":[{\"id\":\"1016\",\"type\":\"CategoricalAxis\"}],\"center\":[{\"id\":\"1019\",\"type\":\"Grid\"},{\"id\":\"1024\",\"type\":\"Grid\"},{\"id\":\"1064\",\"type\":\"Whisker\"},{\"id\":\"1066\",\"type\":\"Whisker\"},{\"id\":\"1068\",\"type\":\"Whisker\"},{\"id\":\"1070\",\"type\":\"Whisker\"},{\"id\":\"1102\",\"type\":\"Legend\"}],\"left\":[{\"id\":\"1020\",\"type\":\"LinearAxis\"}],\"plot_height\":450,\"plot_width\":900,\"renderers\":[{\"id\":\"1044\",\"type\":\"GlyphRenderer\"},{\"id\":\"1050\",\"type\":\"GlyphRenderer\"},{\"id\":\"1056\",\"type\":\"GlyphRenderer\"},{\"id\":\"1062\",\"type\":\"GlyphRenderer\"},{\"id\":\"1075\",\"type\":\"GlyphRenderer\"},{\"id\":\"1080\",\"type\":\"GlyphRenderer\"},{\"id\":\"1086\",\"type\":\"GlyphRenderer\"},{\"id\":\"1092\",\"type\":\"GlyphRenderer\"},{\"id\":\"1098\",\"type\":\"GlyphRenderer\"},{\"id\":\"1108\",\"type\":\"GlyphRenderer\"}],\"title\":{\"id\":\"1006\",\"type\":\"Title\"},\"toolbar\":{\"id\":\"1032\",\"type\":\"Toolbar\"},\"x_range\":{\"id\":\"1008\",\"type\":\"FactorRange\"},\"x_scale\":{\"id\":\"1012\",\"type\":\"CategoricalScale\"},\"y_range\":{\"id\":\"1010\",\"type\":\"Range1d\"},\"y_scale\":{\"id\":\"1014\",\"type\":\"LinearScale\"}},\"id\":\"1005\",\"subtype\":\"Figure\",\"type\":\"Plot\"},{\"attributes\":{\"fill_color\":{\"value\":\"yellow\"},\"line_color\":{\"value\":\"yellow\"},\"x\":{\"value\":0},\"y\":{\"value\":0}},\"id\":\"1090\",\"type\":\"Circle\"},{\"attributes\":{\"dimension\":1,\"ticker\":{\"id\":\"1021\",\"type\":\"BasicTicker\"}},\"id\":\"1024\",\"type\":\"Grid\"},{\"attributes\":{},\"id\":\"1143\",\"type\":\"Selection\"},{\"attributes\":{},\"id\":\"1017\",\"type\":\"CategoricalTicker\"},{\"attributes\":{\"callback\":null,\"data\":{},\"selected\":{\"id\":\"1147\",\"type\":\"Selection\"},\"selection_policy\":{\"id\":\"1146\",\"type\":\"UnionRenderers\"}},\"id\":\"1089\",\"type\":\"ColumnDataSource\"},{\"attributes\":{\"grid_line_color\":null,\"ticker\":{\"id\":\"1017\",\"type\":\"CategoricalTicker\"}},\"id\":\"1019\",\"type\":\"Grid\"},{\"attributes\":{\"fill_alpha\":{\"value\":0.1},\"fill_color\":{\"value\":\"#1f77b4\"},\"line_alpha\":{\"value\":0.1},\"line_color\":{\"value\":\"#1f77b4\"},\"x\":{\"value\":0},\"y\":{\"value\":0}},\"id\":\"1091\",\"type\":\"Circle\"},{\"attributes\":{\"data_source\":{\"id\":\"1089\",\"type\":\"ColumnDataSource\"},\"glyph\":{\"id\":\"1090\",\"type\":\"Circle\"},\"hover_glyph\":null,\"muted_glyph\":null,\"nonselection_glyph\":{\"id\":\"1091\",\"type\":\"Circle\"},\"selection_glyph\":null,\"view\":{\"id\":\"1093\",\"type\":\"CDSView\"}},\"id\":\"1092\",\"type\":\"GlyphRenderer\"},{\"attributes\":{},\"id\":\"1021\",\"type\":\"BasicTicker\"},{\"attributes\":{\"axis_label\":\"events per day\",\"formatter\":{\"id\":\"1112\",\"type\":\"BasicTickFormatter\"},\"ticker\":{\"id\":\"1021\",\"type\":\"BasicTicker\"}},\"id\":\"1020\",\"type\":\"LinearAxis\"},{\"attributes\":{\"source\":{\"id\":\"1089\",\"type\":\"ColumnDataSource\"}},\"id\":\"1093\",\"type\":\"CDSView\"},{\"attributes\":{\"label\":{\"value\":\"autumn\"},\"renderers\":[{\"id\":\"1092\",\"type\":\"GlyphRenderer\"}]},\"id\":\"1094\",\"type\":\"LegendItem\"},{\"attributes\":{},\"id\":\"1134\",\"type\":\"UnionRenderers\"},{\"attributes\":{\"callback\":null,\"data\":{},\"selected\":{\"id\":\"1149\",\"type\":\"Selection\"},\"selection_policy\":{\"id\":\"1148\",\"type\":\"UnionRenderers\"}},\"id\":\"1095\",\"type\":\"ColumnDataSource\"},{\"attributes\":{\"fill_color\":{\"value\":\"blue\"},\"line_color\":{\"value\":\"blue\"},\"x\":{\"value\":0},\"y\":{\"value\":0}},\"id\":\"1096\",\"type\":\"Circle\"},{\"attributes\":{\"fill_alpha\":{\"value\":0},\"fill_color\":{\"value\":\"#1f77b4\"},\"line_alpha\":{\"value\":0},\"line_color\":{\"value\":\"#1f77b4\"},\"size\":{\"units\":\"screen\",\"value\":10},\"x\":{\"field\":\"x\"},\"y\":{\"field\":\"y\"}},\"id\":\"1042\",\"type\":\"Circle\"},{\"attributes\":{\"callback\":null,\"data\":{\"x\":[\"Apr 16\",\"May 16\",\"Jun 16\",\"Jul 16\",\"Aug 16\",\"Sep 16\",\"Oct 16\",\"Nov 16\",\"Dec 16\",\"Jan 17\",\"Feb 17\",\"Mar 17\",\"Apr 17\",\"May 17\",\"Jun 17\",\"Jul 17\",\"Aug 17\",\"Sep 17\",\"Oct 17\",\"Nov 17\",\"Dec 17\",\"Jan 18\",\"Feb 18\",\"Mar 18\",\"Apr 18\",\"May 18\",\"Jun 18\",\"Jul 18\",\"Aug 18\",\"Sep 18\",\"Oct 18\",\"Nov 18\",\"Dec 18\",\"Jan 19\",\"Feb 19\",\"Mar 19\",\"Apr 19\",\"May 19\",\"Jun 19\",\"Jul 19\",\"Aug 19\",\"Sep 19\"],\"y\":{\"__ndarray__\":\"AAAAAAAAWUAAAAAAAABZQERERERERBJApZRSSimlEEDfe++9994TQAAAAAAAAFlAAAAAAAAAWUAAAAAAAABZQAAAAAAAAFlAAAAAAAAAWUAAAAAAAABZQAAAAAAAAFlAAAAAAAAAWUAAAAAAAABZQM3MzMzMzCBAGWOMMcYYG0AppZRSSikdQAAAAAAAAFlAAAAAAAAAWUAAAAAAAABZQAAAAAAAAFlAAAAAAAAAWUAAAAAAAABZQAAAAAAAAFlAAAAAAAAAWUAAAAAAAABZQDMzMzMzMxtAU0oppZRSGkAppZRSSikZQAAAAAAAAFlAAAAAAAAAWUAAAAAAAABZQAAAAAAAAFlAAAAAAAAAWUAAAAAAAABZQAAAAAAAAFlAAAAAAAAAWUAAAAAAAABZQJqZmZmZmSJACCGEEEIIJUDXWmuttdYeQAAAAAAAAFlA\",\"dtype\":\"float64\",\"shape\":[42]}},\"selected\":{\"id\":\"1135\",\"type\":\"Selection\"},\"selection_policy\":{\"id\":\"1134\",\"type\":\"UnionRenderers\"}},\"id\":\"1046\",\"type\":\"ColumnDataSource\"},{\"attributes\":{\"callback\":null,\"data\":{\"x\":[\"Apr 16\",\"May 16\",\"Jun 16\",\"Jul 16\",\"Aug 16\",\"Sep 16\",\"Oct 16\",\"Nov 16\",\"Dec 16\",\"Jan 17\",\"Feb 17\",\"Mar 17\",\"Apr 17\",\"May 17\",\"Jun 17\",\"Jul 17\",\"Aug 17\",\"Sep 17\",\"Oct 17\",\"Nov 17\",\"Dec 17\",\"Jan 18\",\"Feb 18\",\"Mar 18\",\"Apr 18\",\"May 18\",\"Jun 18\",\"Jul 18\",\"Aug 18\",\"Sep 18\",\"Oct 18\",\"Nov 18\",\"Dec 18\",\"Jan 19\",\"Feb 19\",\"Mar 19\",\"Apr 19\",\"May 19\",\"Jun 19\",\"Jul 19\",\"Aug 19\",\"Sep 19\"],\"y\":{\"__ndarray__\":\"ERERERERE0C+9957770XQAAAAAAAAFlAAAAAAAAAWUAAAAAAAABZQAAAAAAAAFlAAAAAAAAAWUAAAAAAAABZQAAAAAAAAFlAAAAAAAAAWUAAAAAAAABZQGuttdZaaxlAMzMzMzMzF0AZY4wxxhgbQAAAAAAAAFlAAAAAAAAAWUAAAAAAAABZQAAAAAAAAFlAAAAAAAAAWUAAAAAAAABZQAAAAAAAAFlAAAAAAAAAWUAAAAAAAABZQN9777333htAvLu7u7u7IECdc84555whQAAAAAAAAFlAAAAAAAAAWUAAAAAAAABZQAAAAAAAAFlAAAAAAAAAWUAAAAAAAABZQAAAAAAAAFlAAAAAAAAAWUAAAAAAAABZQL733nvvvR9AREREREREHkAAAAAAAAAgQAAAAAAAAFlAAAAAAAAAWUAAAAAAAABZQAAAAAAAAFlA\",\"dtype\":\"float64\",\"shape\":[42]}},\"selected\":{\"id\":\"1133\",\"type\":\"Selection\"},\"selection_policy\":{\"id\":\"1132\",\"type\":\"UnionRenderers\"}},\"id\":\"1040\",\"type\":\"ColumnDataSource\"},{\"attributes\":{},\"id\":\"1025\",\"type\":\"PanTool\"},{\"attributes\":{\"fill_alpha\":{\"value\":0.1},\"fill_color\":{\"value\":\"#1f77b4\"},\"line_alpha\":{\"value\":0.1},\"line_color\":{\"value\":\"#1f77b4\"},\"x\":{\"value\":0},\"y\":{\"value\":0}},\"id\":\"1097\",\"type\":\"Circle\"},{\"attributes\":{\"callback\":null,\"overlay\":{\"id\":\"1152\",\"type\":\"BoxAnnotation\"}},\"id\":\"1026\",\"type\":\"BoxSelectTool\"},{\"attributes\":{\"data_source\":{\"id\":\"1095\",\"type\":\"ColumnDataSource\"},\"glyph\":{\"id\":\"1096\",\"type\":\"Circle\"},\"hover_glyph\":null,\"muted_glyph\":null,\"nonselection_glyph\":{\"id\":\"1097\",\"type\":\"Circle\"},\"selection_glyph\":null,\"view\":{\"id\":\"1099\",\"type\":\"CDSView\"}},\"id\":\"1098\",\"type\":\"GlyphRenderer\"},{\"attributes\":{\"source\":{\"id\":\"1095\",\"type\":\"ColumnDataSource\"}},\"id\":\"1099\",\"type\":\"CDSView\"},{\"attributes\":{\"overlay\":{\"id\":\"1153\",\"type\":\"BoxAnnotation\"}},\"id\":\"1027\",\"type\":\"BoxZoomTool\"},{\"attributes\":{\"level\":\"underlay\",\"size\":10},\"id\":\"1118\",\"type\":\"TeeHead\"},{\"attributes\":{\"label\":{\"value\":\"fit \\u03c7\\u00b2/N\\u1d48\\u1da0 = 0.7\"},\"renderers\":[{\"id\":\"1075\",\"type\":\"GlyphRenderer\"}]},\"id\":\"1101\",\"type\":\"LegendItem\"},{\"attributes\":{},\"id\":\"1028\",\"type\":\"WheelZoomTool\"},{\"attributes\":{},\"id\":\"1030\",\"type\":\"ResetTool\"},{\"attributes\":{},\"id\":\"1029\",\"type\":\"SaveTool\"},{\"attributes\":{\"items\":[{\"id\":\"1082\",\"type\":\"LegendItem\"},{\"id\":\"1088\",\"type\":\"LegendItem\"},{\"id\":\"1094\",\"type\":\"LegendItem\"},{\"id\":\"1100\",\"type\":\"LegendItem\"},{\"id\":\"1101\",\"type\":\"LegendItem\"}],\"location\":\"bottom_right\"},\"id\":\"1102\",\"type\":\"Legend\"},{\"attributes\":{\"callback\":null,\"data\":{\"counts\":{\"__ndarray__\":\"AAAAAAAAWUAAAAAAAABZQERERERERBJApZRSSimlEEDfe++9994TQAAAAAAAAFlAAAAAAAAAWUAAAAAAAABZQAAAAAAAAFlAAAAAAAAAWUAAAAAAAABZQAAAAAAAAFlAAAAAAAAAWUAAAAAAAABZQM3MzMzMzCBAGWOMMcYYG0AppZRSSikdQAAAAAAAAFlAAAAAAAAAWUAAAAAAAABZQAAAAAAAAFlAAAAAAAAAWUAAAAAAAABZQAAAAAAAAFlAAAAAAAAAWUAAAAAAAABZQDMzMzMzMxtAU0oppZRSGkAppZRSSikZQAAAAAAAAFlAAAAAAAAAWUAAAAAAAABZQAAAAAAAAFlAAAAAAAAAWUAAAAAAAABZQAAAAAAAAFlAAAAAAAAAWUAAAAAAAABZQJqZmZmZmSJACCGEEEIIJUDXWmuttdYeQAAAAAAAAFlA\",\"dtype\":\"float64\",\"shape\":[42]},\"groups\":[\"Apr 16\",\"May 16\",\"Jun 16\",\"Jul 16\",\"Aug 16\",\"Sep 16\",\"Oct 16\",\"Nov 16\",\"Dec 16\",\"Jan 17\",\"Feb 17\",\"Mar 17\",\"Apr 17\",\"May 17\",\"Jun 17\",\"Jul 17\",\"Aug 17\",\"Sep 17\",\"Oct 17\",\"Nov 17\",\"Dec 17\",\"Jan 18\",\"Feb 18\",\"Mar 18\",\"Apr 18\",\"May 18\",\"Jun 18\",\"Jul 18\",\"Aug 18\",\"Sep 18\",\"Oct 18\",\"Nov 18\",\"Dec 18\",\"Jan 19\",\"Feb 19\",\"Mar 19\",\"Apr 19\",\"May 19\",\"Jun 19\",\"Jul 19\",\"Aug 19\",\"Sep 19\"],\"lower\":[99.6013913085633,99.56243032366933,4.176510002976012,3.7949091389806275,4.567429882387391,99.57573593128807,99.55301914643384,99.53691853368501,99.55301914643384,99.57204841414769,99.53708995011372,99.54723648878651,99.56030313472424,99.5325362339939,7.870849737787082,6.3067297823809865,6.805377536181519,99.48467917220866,99.48791910108427,99.50671171376838,99.52920904776366,99.52700392585112,99.50255756152914,99.52590521107422,99.4719006827415,99.46700930187554,6.323904771430477,6.119907843319816,5.83986322439455,99.54539394343381,99.50549323494336,99.49009804864072,99.50444220981493,99.49818228431923,99.44441610049628,99.49405202769813,99.49778269422269,99.49199949199924,8.743223563716999,9.933694513378459,7.210979844072893,99.46562601527062],\"upper\":[100.3986086914367,100.43756967633067,4.956823330357321,4.5276715061806625,5.368053988580351,100.42426406871193,100.44698085356616,100.46308146631499,100.44698085356616,100.42795158585231,100.46291004988628,100.45276351121349,100.43969686527576,100.4674637660061,8.929150262212918,7.2416573143932075,7.775267625108803,100.51532082779134,100.51208089891573,100.49328828623162,100.47079095223634,100.47299607414888,100.49744243847086,100.47409478892578,100.5280993172585,100.53299069812446,7.276095228569523,7.04138247926083,6.740781936895772,100.45460605656619,100.49450676505664,100.50990195135928,100.49555779018507,100.50181771568077,100.55558389950372,100.50594797230187,100.50221730577731,100.50800050800076,9.856776436283003,11.09856355113767,8.208374994636785,100.53437398472938]},\"selected\":{\"id\":\"1127\",\"type\":\"Selection\"},\"selection_policy\":{\"id\":\"1126\",\"type\":\"UnionRenderers\"}},\"id\":\"1002\",\"type\":\"ColumnDataSource\"},{\"attributes\":{},\"id\":\"1031\",\"type\":\"HelpTool\"},{\"attributes\":{},\"id\":\"1136\",\"type\":\"UnionRenderers\"},{\"attributes\":{\"active_drag\":\"auto\",\"active_inspect\":\"auto\",\"active_multi\":null,\"active_scroll\":\"auto\",\"active_tap\":\"auto\",\"tools\":[{\"id\":\"1025\",\"type\":\"PanTool\"},{\"id\":\"1026\",\"type\":\"BoxSelectTool\"},{\"id\":\"1027\",\"type\":\"BoxZoomTool\"},{\"id\":\"1028\",\"type\":\"WheelZoomTool\"},{\"id\":\"1029\",\"type\":\"SaveTool\"},{\"id\":\"1030\",\"type\":\"ResetTool\"},{\"id\":\"1031\",\"type\":\"HelpTool\"},{\"id\":\"1103\",\"type\":\"HoverTool\"}]},\"id\":\"1032\",\"type\":\"Toolbar\"},{\"attributes\":{\"callback\":null,\"data\":{\"url\":[\"nhsportsmouth.png\"]},\"selected\":{\"id\":\"1151\",\"type\":\"Selection\"},\"selection_policy\":{\"id\":\"1150\",\"type\":\"UnionRenderers\"}},\"id\":\"1105\",\"type\":\"ColumnDataSource\"},{\"attributes\":{\"callback\":null,\"data\":{\"counts\":{\"__ndarray__\":\"ERERERERE0C+9957770XQAAAAAAAAFlAAAAAAAAAWUAAAAAAAABZQAAAAAAAAFlAAAAAAAAAWUAAAAAAAABZQAAAAAAAAFlAAAAAAAAAWUAAAAAAAABZQGuttdZaaxlAMzMzMzMzF0AZY4wxxhgbQAAAAAAAAFlAAAAAAAAAWUAAAAAAAABZQAAAAAAAAFlAAAAAAAAAWUAAAAAAAABZQAAAAAAAAFlAAAAAAAAAWUAAAAAAAABZQN9777333htAvLu7u7u7IECdc84555whQAAAAAAAAFlAAAAAAAAAWUAAAAAAAABZQAAAAAAAAFlAAAAAAAAAWUAAAAAAAABZQAAAAAAAAFlAAAAAAAAAWUAAAAAAAABZQL733nvvvR9AREREREREHkAAAAAAAAAgQAAAAAAAAFlAAAAAAAAAWUAAAAAAAABZQAAAAAAAAFlA\",\"dtype\":\"float64\",\"shape\":[42]},\"groups\":[\"Apr 16\",\"May 16\",\"Jun 16\",\"Jul 16\",\"Aug 16\",\"Sep 16\",\"Oct 16\",\"Nov 16\",\"Dec 16\",\"Jan 17\",\"Feb 17\",\"Mar 17\",\"Apr 17\",\"May 17\",\"Jun 17\",\"Jul 17\",\"Aug 17\",\"Sep 17\",\"Oct 17\",\"Nov 17\",\"Dec 17\",\"Jan 18\",\"Feb 18\",\"Mar 18\",\"Apr 18\",\"May 18\",\"Jun 18\",\"Jul 18\",\"Aug 18\",\"Sep 18\",\"Oct 18\",\"Nov 18\",\"Dec 18\",\"Jan 19\",\"Feb 19\",\"Mar 19\",\"Apr 19\",\"May 19\",\"Jun 19\",\"Jul 19\",\"Aug 19\",\"Sep 19\"],\"lower\":[4.368057975229953,5.4979141946370795,99.60984333630934,99.63361881639999,99.59968794690352,99.57573593128807,99.55301914643384,99.53691853368501,99.55301914643384,99.57204841414769,99.53708995011372,5.902075198463929,5.360303134724236,6.3067297823809865,99.47084973778708,99.5325362339939,99.51505495553636,99.48467917220866,99.48791910108427,99.50671171376838,99.52920904776366,99.52700392585112,99.50255756152914,6.493647146558095,7.838567349408172,8.273460914778765,99.52390477143048,99.53926268202949,99.5495406437494,99.54539394343381,99.50549323494336,99.49009804864072,99.50444220981493,99.49818228431923,99.44441610049628,7.429535898665867,7.064449360889355,7.491999491999238,99.443223563717,99.41756548112039,99.50130242471805,99.46562601527062],\"upper\":[5.16527535810338,6.3730535472984045,100.39015666369066,100.36638118360001,100.40031205309648,100.42426406871193,100.44698085356616,100.46308146631499,100.44698085356616,100.42795158585231,100.46291004988628,6.807602220890909,6.239696865275763,7.2416573143932075,100.52915026221292,100.4674637660061,100.48494504446364,100.51532082779134,100.51208089891573,100.49328828623162,100.47079095223634,100.47299607414888,100.49744243847086,7.441836724409647,8.894765983925163,9.339442311027687,100.47609522856952,100.46073731797051,100.4504593562506,100.45460605656619,100.49450676505664,100.50990195135928,100.49555779018507,100.50181771568077,100.55558389950372,8.441431843269617,8.06888397244398,8.508000508000762,100.556776436283,100.58243451887961,100.49869757528195,100.53437398472938]},\"selected\":{\"id\":\"1125\",\"type\":\"Selection\"},\"selection_policy\":{\"id\":\"1124\",\"type\":\"UnionRenderers\"}},\"id\":\"1001\",\"type\":\"ColumnDataSource\"},{\"attributes\":{\"fill_alpha\":{\"value\":0.5},\"fill_color\":{\"value\":\"green\"},\"line_alpha\":{\"value\":0.5},\"line_color\":{\"value\":\"green\"},\"size\":{\"units\":\"screen\",\"value\":10},\"x\":{\"field\":\"x\"},\"y\":{\"field\":\"y\"}},\"id\":\"1041\",\"type\":\"Circle\"},{\"attributes\":{\"fill_color\":{\"value\":\"black\"},\"line_color\":{\"value\":\"#1f77b4\"},\"size\":{\"units\":\"screen\",\"value\":10},\"x\":{\"field\":\"x\"},\"y\":{\"field\":\"y\"}},\"id\":\"1043\",\"type\":\"Circle\"},{\"attributes\":{\"callback\":null,\"data\":{\"counts\":{\"__ndarray__\":\"AAAAAAAAWUAAAAAAAABZQAAAAAAAAFlAAAAAAAAAWUAAAAAAAABZQAAAAAAAAFlAAAAAAAAAWUAAAAAAAABZQMYYY4wxxhhAttZaa621FkAAAAAAAAAYQAAAAAAAAFlAAAAAAAAAWUAAAAAAAABZQAAAAAAAAFlAAAAAAAAAWUAAAAAAAABZQAAAAAAAAFlAAAAAAAAAWUAAAAAAAABZQHzvvffeextAvvfee++9G0Bu27Zt27YbQAAAAAAAAFlAAAAAAAAAWUAAAAAAAABZQAAAAAAAAFlAAAAAAAAAWUAAAAAAAABZQAAAAAAAAFlAAAAAAAAAWUAAAAAAAABZQHTOOeeccx5AOuecc845H0CSJEmSJEkhQAAAAAAAAFlAAAAAAAAAWUAAAAAAAABZQAAAAAAAAFlAAAAAAAAAWUAAAAAAAABZQAAAAAAAAFlA\",\"dtype\":\"float64\",\"shape\":[42]},\"groups\":[\"Apr 16\",\"May 16\",\"Jun 16\",\"Jul 16\",\"Aug 16\",\"Sep 16\",\"Oct 16\",\"Nov 16\",\"Dec 16\",\"Jan 17\",\"Feb 17\",\"Mar 17\",\"Apr 17\",\"May 17\",\"Jun 17\",\"Jul 17\",\"Aug 17\",\"Sep 17\",\"Oct 17\",\"Nov 17\",\"Dec 17\",\"Jan 18\",\"Feb 18\",\"Mar 18\",\"Apr 18\",\"May 18\",\"Jun 18\",\"Jul 18\",\"Aug 18\",\"Sep 18\",\"Oct 18\",\"Nov 18\",\"Dec 18\",\"Jan 19\",\"Feb 19\",\"Mar 19\",\"Apr 19\",\"May 19\",\"Jun 19\",\"Jul 19\",\"Aug 19\",\"Sep 19\"],\"lower\":[99.6013913085633,99.56243032366933,99.60984333630934,99.63361881639999,99.59968794690352,99.57573593128807,99.55301914643384,99.53691853368501,5.746567533530612,5.2494677689864,5.5370899501137245,99.54723648878651,99.56030313472424,99.5325362339939,99.47084973778708,99.5325362339939,99.51505495553636,99.48467917220866,99.48791910108427,99.50671171376838,6.400176789699148,6.462487796818865,6.431128990100567,99.52590521107422,99.4719006827415,99.46700930187554,99.52390477143048,99.53926268202949,99.5495406437494,99.54539394343381,99.50549323494336,99.49009804864072,7.11734543562138,7.30463389722245,8.087273243353426,99.49405202769813,99.49778269422269,99.49199949199924,99.443223563717,99.41756548112039,99.50130242471805,99.46562601527062],\"upper\":[100.3986086914367,100.43756967633067,100.39015666369066,100.36638118360001,100.40031205309648,100.42426406871193,100.44698085356616,100.46308146631499,6.640529240662936,6.10537094069102,6.4629100498862755,100.45276351121349,100.43969686527576,100.4674637660061,100.52915026221292,100.4674637660061,100.48494504446364,100.51532082779134,100.51208089891573,100.49328828623162,7.34175869417182,7.408479945116619,7.426013867042291,100.47409478892578,100.5280993172585,100.53299069812446,100.47609522856952,100.46073731797051,100.4504593562506,100.45460605656619,100.49450676505664,100.50990195135928,8.108461015991523,8.308269328584002,9.198441042360859,100.50594797230187,100.50221730577731,100.50800050800076,100.556776436283,100.58243451887961,100.49869757528195,100.53437398472938]},\"selected\":{\"id\":\"1131\",\"type\":\"Selection\"},\"selection_policy\":{\"id\":\"1130\",\"type\":\"UnionRenderers\"}},\"id\":\"1004\",\"type\":\"ColumnDataSource\"},{\"attributes\":{\"data_source\":{\"id\":\"1040\",\"type\":\"ColumnDataSource\"},\"glyph\":{\"id\":\"1041\",\"type\":\"Circle\"},\"hover_glyph\":{\"id\":\"1043\",\"type\":\"Circle\"},\"muted_glyph\":null,\"nonselection_glyph\":{\"id\":\"1042\",\"type\":\"Circle\"},\"selection_glyph\":null,\"view\":{\"id\":\"1045\",\"type\":\"CDSView\"}},\"id\":\"1044\",\"type\":\"GlyphRenderer\"},{\"attributes\":{\"callback\":null,\"data\":{\"counts\":{\"__ndarray__\":\"AAAAAAAAWUAAAAAAAABZQAAAAAAAAFlAAAAAAAAAWUAAAAAAAABZQJqZmZmZmRVAxhhjjDHGGEC8u7u7u7sZQAAAAAAAAFlAAAAAAAAAWUAAAAAAAABZQAAAAAAAAFlAAAAAAAAAWUAAAAAAAABZQAAAAAAAAFlAAAAAAAAAWUAAAAAAAABZQN7d3d3d3R9AQgghhBBCIEAzMzMzMzMdQAAAAAAAAFlAAAAAAAAAWUAAAAAAAABZQAAAAAAAAFlAAAAAAAAAWUAAAAAAAABZQAAAAAAAAFlAAAAAAAAAWUAAAAAAAABZQM3MzMzMzBhAU0oppZRSHkAzMzMzMzMfQAAAAAAAAFlAAAAAAAAAWUAAAAAAAABZQAAAAAAAAFlAAAAAAAAAWUAAAAAAAABZQAAAAAAAAFlAAAAAAAAAWUAAAAAAAABZQCIiIiIiIiFA\",\"dtype\":\"float64\",\"shape\":[42]},\"groups\":[\"Apr 16\",\"May 16\",\"Jun 16\",\"Jul 16\",\"Aug 16\",\"Sep 16\",\"Oct 16\",\"Nov 16\",\"Dec 16\",\"Jan 17\",\"Feb 17\",\"Mar 17\",\"Apr 17\",\"May 17\",\"Jun 17\",\"Jul 17\",\"Aug 17\",\"Sep 17\",\"Oct 17\",\"Nov 17\",\"Dec 17\",\"Jan 18\",\"Feb 18\",\"Mar 18\",\"Apr 18\",\"May 18\",\"Jun 18\",\"Jul 18\",\"Aug 18\",\"Sep 18\",\"Oct 18\",\"Nov 18\",\"Dec 18\",\"Jan 19\",\"Feb 19\",\"Mar 19\",\"Apr 19\",\"May 19\",\"Jun 19\",\"Jul 19\",\"Aug 19\",\"Sep 19\"],\"lower\":[99.6013913085633,99.56243032366933,99.60984333630934,99.63361881639999,99.59968794690352,4.975735931288072,5.746567533530612,5.97025186701834,99.55301914643384,99.57204841414769,99.53708995011372,99.54723648878651,99.56030313472424,99.5325362339939,99.47084973778708,99.5325362339939,99.51505495553636,7.451345838875323,7.616951359148789,6.806711713768375,99.52920904776366,99.52700392585112,99.50255756152914,99.52590521107422,99.4719006827415,99.46700930187554,99.52390477143048,99.53926268202949,99.5495406437494,5.745393943433805,7.0861383962336815,7.290098048640721,99.50444220981493,99.49818228431923,99.44441610049628,99.49405202769813,99.49778269422269,99.49199949199924,99.443223563717,99.41756548112039,99.50130242471805,8.032292681937287],\"upper\":[100.3986086914367,100.43756967633067,100.39015666369066,100.36638118360001,100.40031205309648,5.824264068711929,6.640529240662936,6.896414799648327,100.44698085356616,100.42795158585231,100.46291004988628,100.45276351121349,100.43969686527576,100.4674637660061,100.52915026221292,100.4674637660061,100.48494504446364,8.48198749445801,8.641113156980243,7.793288286231625,100.47079095223634,100.47299607414888,100.49744243847086,100.47409478892578,100.5280993172585,100.53299069812446,100.47609522856952,100.46073731797051,100.4504593562506,6.6546060565661955,8.075151926346965,8.309901951359278,100.49555779018507,100.50181771568077,100.55558389950372,100.50594797230187,100.50221730577731,100.50800050800076,100.556776436283,100.58243451887961,100.49869757528195,9.101040651396046]},\"selected\":{\"id\":\"1129\",\"type\":\"Selection\"},\"selection_policy\":{\"id\":\"1128\",\"type\":\"UnionRenderers\"}},\"id\":\"1003\",\"type\":\"ColumnDataSource\"},{\"attributes\":{\"source\":{\"id\":\"1040\",\"type\":\"ColumnDataSource\"}},\"id\":\"1045\",\"type\":\"CDSView\"},{\"attributes\":{\"fill_alpha\":{\"value\":0.5},\"fill_color\":{\"value\":\"yellow\"},\"line_alpha\":{\"value\":0.5},\"line_color\":{\"value\":\"yellow\"},\"size\":{\"units\":\"screen\",\"value\":10},\"x\":{\"field\":\"x\"},\"y\":{\"field\":\"y\"}},\"id\":\"1053\",\"type\":\"Circle\"},{\"attributes\":{\"callback\":null,\"data\":{\"x\":[\"Apr 16\",\"May 16\",\"Jun 16\",\"Jul 16\",\"Aug 16\",\"Sep 16\",\"Oct 16\",\"Nov 16\",\"Dec 16\",\"Jan 17\",\"Feb 17\",\"Mar 17\",\"Apr 17\",\"May 17\",\"Jun 17\",\"Jul 17\",\"Aug 17\",\"Sep 17\",\"Oct 17\",\"Nov 17\",\"Dec 17\",\"Jan 18\",\"Feb 18\",\"Mar 18\",\"Apr 18\",\"May 18\",\"Jun 18\",\"Jul 18\",\"Aug 18\",\"Sep 18\",\"Oct 18\",\"Nov 18\",\"Dec 18\",\"Jan 19\",\"Feb 19\",\"Mar 19\",\"Apr 19\",\"May 19\",\"Jun 19\",\"Jul 19\",\"Aug 19\",\"Sep 19\"],\"y\":{\"__ndarray__\":\"AAAAAAAAWUAAAAAAAABZQAAAAAAAAFlAAAAAAAAAWUAAAAAAAABZQJqZmZmZmRVAxhhjjDHGGEC8u7u7u7sZQAAAAAAAAFlAAAAAAAAAWUAAAAAAAABZQAAAAAAAAFlAAAAAAAAAWUAAAAAAAABZQAAAAAAAAFlAAAAAAAAAWUAAAAAAAABZQN7d3d3d3R9AQgghhBBCIEAzMzMzMzMdQAAAAAAAAFlAAAAAAAAAWUAAAAAAAABZQAAAAAAAAFlAAAAAAAAAWUAAAAAAAABZQAAAAAAAAFlAAAAAAAAAWUAAAAAAAABZQM3MzMzMzBhAU0oppZRSHkAzMzMzMzMfQAAAAAAAAFlAAAAAAAAAWUAAAAAAAABZQAAAAAAAAFlAAAAAAAAAWUAAAAAAAABZQAAAAAAAAFlAAAAAAAAAWUAAAAAAAABZQCIiIiIiIiFA\",\"dtype\":\"float64\",\"shape\":[42]}},\"selected\":{\"id\":\"1137\",\"type\":\"Selection\"},\"selection_policy\":{\"id\":\"1136\",\"type\":\"UnionRenderers\"}},\"id\":\"1052\",\"type\":\"ColumnDataSource\"},{\"attributes\":{},\"id\":\"1131\",\"type\":\"Selection\"},{\"attributes\":{\"fill_alpha\":{\"value\":0},\"fill_color\":{\"value\":\"#1f77b4\"},\"line_alpha\":{\"value\":0},\"line_color\":{\"value\":\"#1f77b4\"},\"size\":{\"units\":\"screen\",\"value\":10},\"x\":{\"field\":\"x\"},\"y\":{\"field\":\"y\"}},\"id\":\"1048\",\"type\":\"Circle\"},{\"attributes\":{\"fill_color\":{\"value\":\"black\"},\"line_color\":{\"value\":\"#1f77b4\"},\"size\":{\"units\":\"screen\",\"value\":10},\"x\":{\"field\":\"x\"},\"y\":{\"field\":\"y\"}},\"id\":\"1049\",\"type\":\"Circle\"},{\"attributes\":{\"bottom_units\":\"screen\",\"fill_alpha\":{\"value\":0.5},\"fill_color\":{\"value\":\"lightgrey\"},\"left_units\":\"screen\",\"level\":\"overlay\",\"line_alpha\":{\"value\":1.0},\"line_color\":{\"value\":\"black\"},\"line_dash\":[4,4],\"line_width\":{\"value\":2},\"render_mode\":\"css\",\"right_units\":\"screen\",\"top_units\":\"screen\"},\"id\":\"1153\",\"type\":\"BoxAnnotation\"},{\"attributes\":{\"data_source\":{\"id\":\"1046\",\"type\":\"ColumnDataSource\"},\"glyph\":{\"id\":\"1047\",\"type\":\"Circle\"},\"hover_glyph\":{\"id\":\"1049\",\"type\":\"Circle\"},\"muted_glyph\":null,\"nonselection_glyph\":{\"id\":\"1048\",\"type\":\"Circle\"},\"selection_glyph\":null,\"view\":{\"id\":\"1051\",\"type\":\"CDSView\"}},\"id\":\"1050\",\"type\":\"GlyphRenderer\"},{\"attributes\":{\"source\":{\"id\":\"1046\",\"type\":\"ColumnDataSource\"}},\"id\":\"1051\",\"type\":\"CDSView\"},{\"attributes\":{\"fill_alpha\":{\"value\":0.5},\"fill_color\":{\"value\":\"blue\"},\"line_alpha\":{\"value\":0.5},\"line_color\":{\"value\":\"blue\"},\"size\":{\"units\":\"screen\",\"value\":10},\"x\":{\"field\":\"x\"},\"y\":{\"field\":\"y\"}},\"id\":\"1059\",\"type\":\"Circle\"},{\"attributes\":{\"callback\":null,\"data\":{\"x\":[\"Apr 16\",\"May 16\",\"Jun 16\",\"Jul 16\",\"Aug 16\",\"Sep 16\",\"Oct 16\",\"Nov 16\",\"Dec 16\",\"Jan 17\",\"Feb 17\",\"Mar 17\",\"Apr 17\",\"May 17\",\"Jun 17\",\"Jul 17\",\"Aug 17\",\"Sep 17\",\"Oct 17\",\"Nov 17\",\"Dec 17\",\"Jan 18\",\"Feb 18\",\"Mar 18\",\"Apr 18\",\"May 18\",\"Jun 18\",\"Jul 18\",\"Aug 18\",\"Sep 18\",\"Oct 18\",\"Nov 18\",\"Dec 18\",\"Jan 19\",\"Feb 19\",\"Mar 19\",\"Apr 19\",\"May 19\",\"Jun 19\",\"Jul 19\",\"Aug 19\",\"Sep 19\"],\"y\":{\"__ndarray__\":\"AAAAAAAAWUAAAAAAAABZQAAAAAAAAFlAAAAAAAAAWUAAAAAAAABZQAAAAAAAAFlAAAAAAAAAWUAAAAAAAABZQMYYY4wxxhhAttZaa621FkAAAAAAAAAYQAAAAAAAAFlAAAAAAAAAWUAAAAAAAABZQAAAAAAAAFlAAAAAAAAAWUAAAAAAAABZQAAAAAAAAFlAAAAAAAAAWUAAAAAAAABZQHzvvffeextAvvfee++9G0Bu27Zt27YbQAAAAAAAAFlAAAAAAAAAWUAAAAAAAABZQAAAAAAAAFlAAAAAAAAAWUAAAAAAAABZQAAAAAAAAFlAAAAAAAAAWUAAAAAAAABZQHTOOeeccx5AOuecc845H0CSJEmSJEkhQAAAAAAAAFlAAAAAAAAAWUAAAAAAAABZQAAAAAAAAFlAAAAAAAAAWUAAAAAAAABZQAAAAAAAAFlA\",\"dtype\":\"float64\",\"shape\":[42]}},\"selected\":{\"id\":\"1139\",\"type\":\"Selection\"},\"selection_policy\":{\"id\":\"1138\",\"type\":\"UnionRenderers\"}},\"id\":\"1058\",\"type\":\"ColumnDataSource\"},{\"attributes\":{\"fill_alpha\":{\"value\":0},\"fill_color\":{\"value\":\"#1f77b4\"},\"line_alpha\":{\"value\":0},\"line_color\":{\"value\":\"#1f77b4\"},\"size\":{\"units\":\"screen\",\"value\":10},\"x\":{\"field\":\"x\"},\"y\":{\"field\":\"y\"}},\"id\":\"1054\",\"type\":\"Circle\"},{\"attributes\":{},\"id\":\"1137\",\"type\":\"Selection\"},{\"attributes\":{\"fill_color\":{\"value\":\"black\"},\"line_color\":{\"value\":\"#1f77b4\"},\"size\":{\"units\":\"screen\",\"value\":10},\"x\":{\"field\":\"x\"},\"y\":{\"field\":\"y\"}},\"id\":\"1055\",\"type\":\"Circle\"},{\"attributes\":{\"data_source\":{\"id\":\"1052\",\"type\":\"ColumnDataSource\"},\"glyph\":{\"id\":\"1053\",\"type\":\"Circle\"},\"hover_glyph\":{\"id\":\"1055\",\"type\":\"Circle\"},\"muted_glyph\":null,\"nonselection_glyph\":{\"id\":\"1054\",\"type\":\"Circle\"},\"selection_glyph\":null,\"view\":{\"id\":\"1057\",\"type\":\"CDSView\"}},\"id\":\"1056\",\"type\":\"GlyphRenderer\"},{\"attributes\":{\"source\":{\"id\":\"1052\",\"type\":\"ColumnDataSource\"}},\"id\":\"1057\",\"type\":\"CDSView\"},{\"attributes\":{\"base\":{\"field\":\"groups\",\"units\":\"data\"},\"level\":\"overlay\",\"line_color\":{\"value\":\"green\"},\"lower\":{\"field\":\"lower\",\"units\":\"data\"},\"lower_head\":{\"id\":\"1115\",\"type\":\"TeeHead\"},\"source\":{\"id\":\"1001\",\"type\":\"ColumnDataSource\"},\"upper\":{\"field\":\"upper\",\"units\":\"data\"},\"upper_head\":{\"id\":\"1114\",\"type\":\"TeeHead\"}},\"id\":\"1064\",\"type\":\"Whisker\"},{\"attributes\":{\"fill_alpha\":{\"value\":0},\"fill_color\":{\"value\":\"#1f77b4\"},\"line_alpha\":{\"value\":0},\"line_color\":{\"value\":\"#1f77b4\"},\"size\":{\"units\":\"screen\",\"value\":10},\"x\":{\"field\":\"x\"},\"y\":{\"field\":\"y\"}},\"id\":\"1060\",\"type\":\"Circle\"},{\"attributes\":{\"fill_color\":{\"value\":\"black\"},\"line_color\":{\"value\":\"#1f77b4\"},\"size\":{\"units\":\"screen\",\"value\":10},\"x\":{\"field\":\"x\"},\"y\":{\"field\":\"y\"}},\"id\":\"1061\",\"type\":\"Circle\"},{\"attributes\":{\"level\":\"underlay\",\"size\":10},\"id\":\"1120\",\"type\":\"TeeHead\"},{\"attributes\":{\"data_source\":{\"id\":\"1058\",\"type\":\"ColumnDataSource\"},\"glyph\":{\"id\":\"1059\",\"type\":\"Circle\"},\"hover_glyph\":{\"id\":\"1061\",\"type\":\"Circle\"},\"muted_glyph\":null,\"nonselection_glyph\":{\"id\":\"1060\",\"type\":\"Circle\"},\"selection_glyph\":null,\"view\":{\"id\":\"1063\",\"type\":\"CDSView\"}},\"id\":\"1062\",\"type\":\"GlyphRenderer\"},{\"attributes\":{},\"id\":\"1135\",\"type\":\"Selection\"},{\"attributes\":{\"source\":{\"id\":\"1058\",\"type\":\"ColumnDataSource\"}},\"id\":\"1063\",\"type\":\"CDSView\"},{\"attributes\":{\"base\":{\"field\":\"groups\",\"units\":\"data\"},\"level\":\"overlay\",\"line_color\":{\"value\":\"red\"},\"lower\":{\"field\":\"lower\",\"units\":\"data\"},\"lower_head\":{\"id\":\"1117\",\"type\":\"TeeHead\"},\"source\":{\"id\":\"1002\",\"type\":\"ColumnDataSource\"},\"upper\":{\"field\":\"upper\",\"units\":\"data\"},\"upper_head\":{\"id\":\"1116\",\"type\":\"TeeHead\"}},\"id\":\"1066\",\"type\":\"Whisker\"},{\"attributes\":{},\"id\":\"1133\",\"type\":\"Selection\"},{\"attributes\":{},\"id\":\"1132\",\"type\":\"UnionRenderers\"},{\"attributes\":{\"data_source\":{\"id\":\"1105\",\"type\":\"ColumnDataSource\"},\"glyph\":{\"id\":\"1106\",\"type\":\"ImageURL\"},\"hover_glyph\":null,\"muted_glyph\":null,\"nonselection_glyph\":{\"id\":\"1107\",\"type\":\"ImageURL\"},\"selection_glyph\":null,\"view\":{\"id\":\"1109\",\"type\":\"CDSView\"}},\"id\":\"1108\",\"type\":\"GlyphRenderer\"},{\"attributes\":{\"h\":{\"units\":\"data\",\"value\":2.0},\"url\":{\"field\":\"url\"},\"w\":{\"units\":\"data\",\"value\":13.314516129032258},\"x\":{\"value\":0.2},\"y\":{\"value\":11.9}},\"id\":\"1107\",\"type\":\"ImageURL\"},{\"attributes\":{\"line_color\":\"purple\",\"x\":{\"field\":\"x\"},\"y\":{\"field\":\"y\"}},\"id\":\"1073\",\"type\":\"Line\"},{\"attributes\":{\"base\":{\"field\":\"groups\",\"units\":\"data\"},\"level\":\"overlay\",\"line_color\":{\"value\":\"yellow\"},\"lower\":{\"field\":\"lower\",\"units\":\"data\"},\"lower_head\":{\"id\":\"1119\",\"type\":\"TeeHead\"},\"source\":{\"id\":\"1003\",\"type\":\"ColumnDataSource\"},\"upper\":{\"field\":\"upper\",\"units\":\"data\"},\"upper_head\":{\"id\":\"1118\",\"type\":\"TeeHead\"}},\"id\":\"1068\",\"type\":\"Whisker\"},{\"attributes\":{\"h\":{\"units\":\"data\",\"value\":2.0},\"url\":{\"field\":\"url\"},\"w\":{\"units\":\"data\",\"value\":13.314516129032258},\"x\":{\"value\":0.2},\"y\":{\"value\":11.9}},\"id\":\"1106\",\"type\":\"ImageURL\"},{\"attributes\":{\"base\":{\"field\":\"groups\",\"units\":\"data\"},\"level\":\"overlay\",\"line_color\":{\"value\":\"blue\"},\"lower\":{\"field\":\"lower\",\"units\":\"data\"},\"lower_head\":{\"id\":\"1121\",\"type\":\"TeeHead\"},\"source\":{\"id\":\"1004\",\"type\":\"ColumnDataSource\"},\"upper\":{\"field\":\"upper\",\"units\":\"data\"},\"upper_head\":{\"id\":\"1120\",\"type\":\"TeeHead\"}},\"id\":\"1070\",\"type\":\"Whisker\"},{\"attributes\":{\"source\":{\"id\":\"1105\",\"type\":\"ColumnDataSource\"}},\"id\":\"1109\",\"type\":\"CDSView\"},{\"attributes\":{\"fill_color\":{\"value\":\"green\"},\"line_color\":{\"value\":\"green\"},\"x\":{\"value\":0},\"y\":{\"value\":0}},\"id\":\"1078\",\"type\":\"Circle\"},{\"attributes\":{\"line_alpha\":0.1,\"line_color\":\"#1f77b4\",\"x\":{\"field\":\"x\"},\"y\":{\"field\":\"y\"}},\"id\":\"1074\",\"type\":\"Line\"},{\"attributes\":{\"source\":{\"id\":\"1072\",\"type\":\"ColumnDataSource\"}},\"id\":\"1076\",\"type\":\"CDSView\"},{\"attributes\":{\"label\":{\"value\":\"winter\"},\"renderers\":[{\"id\":\"1098\",\"type\":\"GlyphRenderer\"}]},\"id\":\"1100\",\"type\":\"LegendItem\"},{\"attributes\":{\"callback\":null,\"data\":{\"x\":[\"Apr 16\",\"May 16\",\"Jun 16\",\"Jul 16\",\"Aug 16\",\"Sep 16\",\"Oct 16\",\"Nov 16\",\"Dec 16\",\"Jan 17\",\"Feb 17\",\"Mar 17\",\"Apr 17\",\"May 17\",\"Jun 17\",\"Jul 17\",\"Aug 17\",\"Sep 17\",\"Oct 17\",\"Nov 17\",\"Dec 17\",\"Jan 18\",\"Feb 18\",\"Mar 18\",\"Apr 18\",\"May 18\",\"Jun 18\",\"Jul 18\",\"Aug 18\",\"Sep 18\",\"Oct 18\",\"Nov 18\",\"Dec 18\",\"Jan 19\",\"Feb 19\",\"Mar 19\",\"Apr 19\",\"May 19\",\"Jun 19\",\"Jul 19\",\"Aug 19\",\"Sep 19\"],\"y\":{\"__ndarray__\":\"GYY/STw2FUDEJYrQCYwVQG/F1FfX4RVAGmUf36Q3FkDGBGpmco0WQHGktO0/4xZAHET/dA05F0DH40n82o4XQHKDlIOo5BdAHiPfCnY6GEDJwimSQ5AYQHRidBkR5hhAHwK/oN47GUDKoQkorJEZQHZBVK955xlAIOGeNkc9GkDMgOm9FJMaQHcgNEXi6BpAIsB+zK8+G0DNX8lTfZQbQHj/E9tK6htAJJ9eYhhAHEDPPqnp5ZUcQHre83Cz6xxAJX4++IBBHUDQHYl/TpcdQHy90wYc7R1AJl0ejulCHkDS/GgVt5geQH2cs5yE7h5AKDz+I1JEH0DU20irH5ofQH57kzLt7x9AlQ3vXN0iIEBqXZQgxE0gQECtOeSqeCBAFv3ep5GjIEDrTIRreM4gQMGcKS9f+SBAluzO8kUkIUBsPHS2LE8hQEKMGXoTeiFA\",\"dtype\":\"float64\",\"shape\":[42]}},\"selected\":{\"id\":\"1141\",\"type\":\"Selection\"},\"selection_policy\":{\"id\":\"1140\",\"type\":\"UnionRenderers\"}},\"id\":\"1072\",\"type\":\"ColumnDataSource\"},{\"attributes\":{\"data_source\":{\"id\":\"1072\",\"type\":\"ColumnDataSource\"},\"glyph\":{\"id\":\"1073\",\"type\":\"Line\"},\"hover_glyph\":null,\"muted_glyph\":null,\"nonselection_glyph\":{\"id\":\"1074\",\"type\":\"Line\"},\"selection_glyph\":null,\"view\":{\"id\":\"1076\",\"type\":\"CDSView\"}},\"id\":\"1075\",\"type\":\"GlyphRenderer\"},{\"attributes\":{\"callback\":null,\"data\":{},\"selected\":{\"id\":\"1143\",\"type\":\"Selection\"},\"selection_policy\":{\"id\":\"1142\",\"type\":\"UnionRenderers\"}},\"id\":\"1077\",\"type\":\"ColumnDataSource\"},{\"attributes\":{\"level\":\"underlay\",\"size\":10},\"id\":\"1119\",\"type\":\"TeeHead\"},{\"attributes\":{\"fill_alpha\":{\"value\":0.1},\"fill_color\":{\"value\":\"#1f77b4\"},\"line_alpha\":{\"value\":0.1},\"line_color\":{\"value\":\"#1f77b4\"},\"x\":{\"value\":0},\"y\":{\"value\":0}},\"id\":\"1079\",\"type\":\"Circle\"},{\"attributes\":{\"data_source\":{\"id\":\"1077\",\"type\":\"ColumnDataSource\"},\"glyph\":{\"id\":\"1078\",\"type\":\"Circle\"},\"hover_glyph\":null,\"muted_glyph\":null,\"nonselection_glyph\":{\"id\":\"1079\",\"type\":\"Circle\"},\"selection_glyph\":null,\"view\":{\"id\":\"1081\",\"type\":\"CDSView\"}},\"id\":\"1080\",\"type\":\"GlyphRenderer\"},{\"attributes\":{\"source\":{\"id\":\"1077\",\"type\":\"ColumnDataSource\"}},\"id\":\"1081\",\"type\":\"CDSView\"},{\"attributes\":{},\"id\":\"1145\",\"type\":\"Selection\"},{\"attributes\":{\"fill_alpha\":{\"value\":0.5},\"fill_color\":{\"value\":\"red\"},\"line_alpha\":{\"value\":0.5},\"line_color\":{\"value\":\"red\"},\"size\":{\"units\":\"screen\",\"value\":10},\"x\":{\"field\":\"x\"},\"y\":{\"field\":\"y\"}},\"id\":\"1047\",\"type\":\"Circle\"},{\"attributes\":{\"bottom_units\":\"screen\",\"fill_alpha\":{\"value\":0.5},\"fill_color\":{\"value\":\"lightgrey\"},\"left_units\":\"screen\",\"level\":\"overlay\",\"line_alpha\":{\"value\":1.0},\"line_color\":{\"value\":\"black\"},\"line_dash\":[4,4],\"line_width\":{\"value\":2},\"render_mode\":\"css\",\"right_units\":\"screen\",\"top_units\":\"screen\"},\"id\":\"1152\",\"type\":\"BoxAnnotation\"},{\"attributes\":{\"callback\":null,\"factors\":[\"Apr 16\",\"May 16\",\"Jun 16\",\"Jul 16\",\"Aug 16\",\"Sep 16\",\"Oct 16\",\"Nov 16\",\"Dec 16\",\"Jan 17\",\"Feb 17\",\"Mar 17\",\"Apr 17\",\"May 17\",\"Jun 17\",\"Jul 17\",\"Aug 17\",\"Sep 17\",\"Oct 17\",\"Nov 17\",\"Dec 17\",\"Jan 18\",\"Feb 18\",\"Mar 18\",\"Apr 18\",\"May 18\",\"Jun 18\",\"Jul 18\",\"Aug 18\",\"Sep 18\",\"Oct 18\",\"Nov 18\",\"Dec 18\",\"Jan 19\",\"Feb 19\",\"Mar 19\",\"Apr 19\",\"May 19\",\"Jun 19\",\"Jul 19\",\"Aug 19\",\"Sep 19\"]},\"id\":\"1008\",\"type\":\"FactorRange\"},{\"attributes\":{\"callback\":null,\"data\":{},\"selected\":{\"id\":\"1145\",\"type\":\"Selection\"},\"selection_policy\":{\"id\":\"1144\",\"type\":\"UnionRenderers\"}},\"id\":\"1083\",\"type\":\"ColumnDataSource\"},{\"attributes\":{\"label\":{\"value\":\"spring\"},\"renderers\":[{\"id\":\"1080\",\"type\":\"GlyphRenderer\"}]},\"id\":\"1082\",\"type\":\"LegendItem\"},{\"attributes\":{},\"id\":\"1147\",\"type\":\"Selection\"},{\"attributes\":{\"text\":\"Daily number of medicine patient safety events at QA\"},\"id\":\"1006\",\"type\":\"Title\"},{\"attributes\":{\"fill_color\":{\"value\":\"red\"},\"line_color\":{\"value\":\"red\"},\"x\":{\"value\":0},\"y\":{\"value\":0}},\"id\":\"1084\",\"type\":\"Circle\"},{\"attributes\":{},\"id\":\"1144\",\"type\":\"UnionRenderers\"},{\"attributes\":{},\"id\":\"1014\",\"type\":\"LinearScale\"},{\"attributes\":{\"axis_label\":\"Month Year\",\"formatter\":{\"id\":\"1122\",\"type\":\"CategoricalTickFormatter\"},\"major_label_orientation\":1.5707963267948966,\"ticker\":{\"id\":\"1017\",\"type\":\"CategoricalTicker\"}},\"id\":\"1016\",\"type\":\"CategoricalAxis\"},{\"attributes\":{\"fill_alpha\":{\"value\":0.1},\"fill_color\":{\"value\":\"#1f77b4\"},\"line_alpha\":{\"value\":0.1},\"line_color\":{\"value\":\"#1f77b4\"},\"x\":{\"value\":0},\"y\":{\"value\":0}},\"id\":\"1085\",\"type\":\"Circle\"},{\"attributes\":{\"data_source\":{\"id\":\"1083\",\"type\":\"ColumnDataSource\"},\"glyph\":{\"id\":\"1084\",\"type\":\"Circle\"},\"hover_glyph\":null,\"muted_glyph\":null,\"nonselection_glyph\":{\"id\":\"1085\",\"type\":\"Circle\"},\"selection_glyph\":null,\"view\":{\"id\":\"1087\",\"type\":\"CDSView\"}},\"id\":\"1086\",\"type\":\"GlyphRenderer\"},{\"attributes\":{\"callback\":null,\"end\":12},\"id\":\"1010\",\"type\":\"Range1d\"},{\"attributes\":{\"source\":{\"id\":\"1083\",\"type\":\"ColumnDataSource\"}},\"id\":\"1087\",\"type\":\"CDSView\"},{\"attributes\":{},\"id\":\"1012\",\"type\":\"CategoricalScale\"},{\"attributes\":{},\"id\":\"1138\",\"type\":\"UnionRenderers\"},{\"attributes\":{\"label\":{\"value\":\"summer\"},\"renderers\":[{\"id\":\"1086\",\"type\":\"GlyphRenderer\"}]},\"id\":\"1088\",\"type\":\"LegendItem\"},{\"attributes\":{},\"id\":\"1112\",\"type\":\"BasicTickFormatter\"},{\"attributes\":{},\"id\":\"1128\",\"type\":\"UnionRenderers\"},{\"attributes\":{\"level\":\"underlay\",\"size\":10},\"id\":\"1115\",\"type\":\"TeeHead\"},{\"attributes\":{},\"id\":\"1146\",\"type\":\"UnionRenderers\"},{\"attributes\":{},\"id\":\"1150\",\"type\":\"UnionRenderers\"},{\"attributes\":{},\"id\":\"1126\",\"type\":\"UnionRenderers\"},{\"attributes\":{\"callback\":null,\"mode\":\"hline\",\"tooltips\":null},\"id\":\"1103\",\"type\":\"HoverTool\"},{\"attributes\":{},\"id\":\"1129\",\"type\":\"Selection\"},{\"attributes\":{\"level\":\"underlay\",\"size\":10},\"id\":\"1121\",\"type\":\"TeeHead\"},{\"attributes\":{},\"id\":\"1127\",\"type\":\"Selection\"},{\"attributes\":{},\"id\":\"1148\",\"type\":\"UnionRenderers\"},{\"attributes\":{},\"id\":\"1151\",\"type\":\"Selection\"},{\"attributes\":{},\"id\":\"1124\",\"type\":\"UnionRenderers\"},{\"attributes\":{\"level\":\"underlay\",\"size\":10},\"id\":\"1116\",\"type\":\"TeeHead\"},{\"attributes\":{},\"id\":\"1122\",\"type\":\"CategoricalTickFormatter\"},{\"attributes\":{\"level\":\"underlay\",\"size\":10},\"id\":\"1114\",\"type\":\"TeeHead\"},{\"attributes\":{\"level\":\"underlay\",\"size\":10},\"id\":\"1117\",\"type\":\"TeeHead\"},{\"attributes\":{},\"id\":\"1141\",\"type\":\"Selection\"},{\"attributes\":{},\"id\":\"1149\",\"type\":\"Selection\"},{\"attributes\":{},\"id\":\"1140\",\"type\":\"UnionRenderers\"},{\"attributes\":{},\"id\":\"1139\",\"type\":\"Selection\"},{\"attributes\":{},\"id\":\"1142\",\"type\":\"UnionRenderers\"},{\"attributes\":{},\"id\":\"1125\",\"type\":\"Selection\"},{\"attributes\":{},\"id\":\"1130\",\"type\":\"UnionRenderers\"}],\"root_ids\":[\"1005\"]},\"title\":\"Bokeh Application\",\"version\":\"1.2.0\"}};\n",
       "  var render_items = [{\"docid\":\"29b56734-4431-4b17-8181-b20eb133e657\",\"roots\":{\"1005\":\"dd74b47f-aed6-413f-b331-8cb4ac25eb57\"}}];\n",
       "  root.Bokeh.embed.embed_items_notebook(docs_json, render_items);\n",
       "\n",
       "  }\n",
       "  if (root.Bokeh !== undefined) {\n",
       "    embed_document(root);\n",
       "  } else {\n",
       "    var attempts = 0;\n",
       "    var timer = setInterval(function(root) {\n",
       "      if (root.Bokeh !== undefined) {\n",
       "        embed_document(root);\n",
       "        clearInterval(timer);\n",
       "      }\n",
       "      attempts++;\n",
       "      if (attempts > 100) {\n",
       "        console.log(\"Bokeh: ERROR: Unable to run BokehJS code because BokehJS library is missing\");\n",
       "        clearInterval(timer);\n",
       "      }\n",
       "    }, 10, root)\n",
       "  }\n",
       "})(window);"
      ],
      "application/vnd.bokehjs_exec.v0+json": ""
     },
     "metadata": {
      "application/vnd.bokehjs_exec.v0+json": {
       "id": "1005"
      }
     },
     "output_type": "display_data"
    }
   ],
   "source": [
    "show(p)"
   ]
  },
  {
   "cell_type": "code",
   "execution_count": null,
   "metadata": {},
   "outputs": [],
   "source": []
  }
 ],
 "metadata": {
  "kernelspec": {
   "display_name": "Python 3",
   "language": "python",
   "name": "python3"
  },
  "language_info": {
   "codemirror_mode": {
    "name": "ipython",
    "version": 3
   },
   "file_extension": ".py",
   "mimetype": "text/x-python",
   "name": "python",
   "nbconvert_exporter": "python",
   "pygments_lexer": "ipython3",
   "version": "3.7.3"
  }
 },
 "nbformat": 4,
 "nbformat_minor": 2
}
