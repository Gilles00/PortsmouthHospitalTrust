{
 "cells": [
  {
   "cell_type": "code",
   "execution_count": 114,
   "metadata": {},
   "outputs": [],
   "source": [
    "import pandas as pd\n",
    "import numpy as np\n",
    "import matplotlib.pyplot as plt\n",
    "import matplotlib.image as mpimg\n",
    "import matplotlib.patches as mpatches\n",
    "from matplotlib.container import ErrorbarContainer\n",
    "from matplotlib.lines import Line2D\n",
    "from matplotlib.collections import LineCollection\n",
    "from matplotlib.ticker import MaxNLocator\n",
    "import pyodbc\n",
    "from lmfit.models import PolynomialModel"
   ]
  },
  {
   "cell_type": "code",
   "execution_count": 138,
   "metadata": {},
   "outputs": [
    {
     "data": {
      "text/html": [
       "<div>\n",
       "<style scoped>\n",
       "    .dataframe tbody tr th:only-of-type {\n",
       "        vertical-align: middle;\n",
       "    }\n",
       "\n",
       "    .dataframe tbody tr th {\n",
       "        vertical-align: top;\n",
       "    }\n",
       "\n",
       "    .dataframe thead th {\n",
       "        text-align: right;\n",
       "    }\n",
       "</style>\n",
       "<table border=\"1\" class=\"dataframe\">\n",
       "  <thead>\n",
       "    <tr style=\"text-align: right;\">\n",
       "      <th></th>\n",
       "      <th>inc_dincident</th>\n",
       "      <th>inc_dreported</th>\n",
       "    </tr>\n",
       "  </thead>\n",
       "  <tbody>\n",
       "    <tr>\n",
       "      <th>0</th>\n",
       "      <td>2016-03-31</td>\n",
       "      <td>2016-03-31</td>\n",
       "    </tr>\n",
       "    <tr>\n",
       "      <th>1</th>\n",
       "      <td>2016-03-31</td>\n",
       "      <td>2016-04-01</td>\n",
       "    </tr>\n",
       "    <tr>\n",
       "      <th>2</th>\n",
       "      <td>2016-04-01</td>\n",
       "      <td>2016-04-01</td>\n",
       "    </tr>\n",
       "    <tr>\n",
       "      <th>3</th>\n",
       "      <td>2016-03-25</td>\n",
       "      <td>2016-04-01</td>\n",
       "    </tr>\n",
       "    <tr>\n",
       "      <th>4</th>\n",
       "      <td>2016-04-02</td>\n",
       "      <td>2016-04-02</td>\n",
       "    </tr>\n",
       "  </tbody>\n",
       "</table>\n",
       "</div>"
      ],
      "text/plain": [
       "  inc_dincident inc_dreported\n",
       "0    2016-03-31    2016-03-31\n",
       "1    2016-03-31    2016-04-01\n",
       "2    2016-04-01    2016-04-01\n",
       "3    2016-03-25    2016-04-01\n",
       "4    2016-04-02    2016-04-02"
      ]
     },
     "execution_count": 138,
     "metadata": {},
     "output_type": "execute_result"
    }
   ],
   "source": [
    "sql_conn = pyodbc.connect('DRIVER={SQL Server};'\n",
    "                            'SERVER=L_AAGDATIX;'\n",
    "                            'DATABASE=DatixCRM;'\n",
    "                            'Trusted_Connection=yes') \n",
    "query = \"set transaction isolation level read uncommitted select inc_dincident,inc_dreported from DatixCRM.dbo.incidents_main where inc_type='PAT' and inc_category='MEDIC' and inc_organisation='QA'\"\n",
    "df = pd.read_sql(query, sql_conn)\n",
    "df.head()"
   ]
  },
  {
   "cell_type": "code",
   "execution_count": 139,
   "metadata": {},
   "outputs": [
    {
     "data": {
      "text/html": [
       "<div>\n",
       "<style scoped>\n",
       "    .dataframe tbody tr th:only-of-type {\n",
       "        vertical-align: middle;\n",
       "    }\n",
       "\n",
       "    .dataframe tbody tr th {\n",
       "        vertical-align: top;\n",
       "    }\n",
       "\n",
       "    .dataframe thead th {\n",
       "        text-align: right;\n",
       "    }\n",
       "</style>\n",
       "<table border=\"1\" class=\"dataframe\">\n",
       "  <thead>\n",
       "    <tr style=\"text-align: right;\">\n",
       "      <th></th>\n",
       "      <th>inc_dincident</th>\n",
       "      <th>inc_dreported</th>\n",
       "    </tr>\n",
       "  </thead>\n",
       "  <tbody>\n",
       "    <tr>\n",
       "      <th>2</th>\n",
       "      <td>2016-04-01</td>\n",
       "      <td>2016-04-01</td>\n",
       "    </tr>\n",
       "    <tr>\n",
       "      <th>4</th>\n",
       "      <td>2016-04-02</td>\n",
       "      <td>2016-04-02</td>\n",
       "    </tr>\n",
       "    <tr>\n",
       "      <th>5</th>\n",
       "      <td>2016-04-01</td>\n",
       "      <td>2016-04-02</td>\n",
       "    </tr>\n",
       "    <tr>\n",
       "      <th>6</th>\n",
       "      <td>2016-04-01</td>\n",
       "      <td>2016-04-02</td>\n",
       "    </tr>\n",
       "    <tr>\n",
       "      <th>7</th>\n",
       "      <td>2016-04-02</td>\n",
       "      <td>2016-04-02</td>\n",
       "    </tr>\n",
       "  </tbody>\n",
       "</table>\n",
       "</div>"
      ],
      "text/plain": [
       "  inc_dincident inc_dreported\n",
       "2    2016-04-01    2016-04-01\n",
       "4    2016-04-02    2016-04-02\n",
       "5    2016-04-01    2016-04-02\n",
       "6    2016-04-01    2016-04-02\n",
       "7    2016-04-02    2016-04-02"
      ]
     },
     "execution_count": 139,
     "metadata": {},
     "output_type": "execute_result"
    }
   ],
   "source": [
    "df_inc = df.copy()\n",
    "df_inc = df_inc[df_inc.inc_dincident > '2016-03-31']\n",
    "df_inc = df_inc[df_inc.inc_dincident < '2019-10-01']\n",
    "df_inc.head()"
   ]
  },
  {
   "cell_type": "code",
   "execution_count": 140,
   "metadata": {},
   "outputs": [
    {
     "data": {
      "text/html": [
       "<div>\n",
       "<style scoped>\n",
       "    .dataframe tbody tr th:only-of-type {\n",
       "        vertical-align: middle;\n",
       "    }\n",
       "\n",
       "    .dataframe tbody tr th {\n",
       "        vertical-align: top;\n",
       "    }\n",
       "\n",
       "    .dataframe thead th {\n",
       "        text-align: right;\n",
       "    }\n",
       "</style>\n",
       "<table border=\"1\" class=\"dataframe\">\n",
       "  <thead>\n",
       "    <tr style=\"text-align: right;\">\n",
       "      <th></th>\n",
       "      <th>inc_dincident</th>\n",
       "      <th>inc_dreported</th>\n",
       "      <th>day</th>\n",
       "    </tr>\n",
       "  </thead>\n",
       "  <tbody>\n",
       "    <tr>\n",
       "      <th>2</th>\n",
       "      <td>2016-04-01</td>\n",
       "      <td>2016-04-01</td>\n",
       "      <td>1</td>\n",
       "    </tr>\n",
       "    <tr>\n",
       "      <th>4</th>\n",
       "      <td>2016-04-02</td>\n",
       "      <td>2016-04-02</td>\n",
       "      <td>2</td>\n",
       "    </tr>\n",
       "    <tr>\n",
       "      <th>5</th>\n",
       "      <td>2016-04-01</td>\n",
       "      <td>2016-04-02</td>\n",
       "      <td>1</td>\n",
       "    </tr>\n",
       "    <tr>\n",
       "      <th>6</th>\n",
       "      <td>2016-04-01</td>\n",
       "      <td>2016-04-02</td>\n",
       "      <td>1</td>\n",
       "    </tr>\n",
       "    <tr>\n",
       "      <th>7</th>\n",
       "      <td>2016-04-02</td>\n",
       "      <td>2016-04-02</td>\n",
       "      <td>2</td>\n",
       "    </tr>\n",
       "  </tbody>\n",
       "</table>\n",
       "</div>"
      ],
      "text/plain": [
       "  inc_dincident inc_dreported  day\n",
       "2    2016-04-01    2016-04-01    1\n",
       "4    2016-04-02    2016-04-02    2\n",
       "5    2016-04-01    2016-04-02    1\n",
       "6    2016-04-01    2016-04-02    1\n",
       "7    2016-04-02    2016-04-02    2"
      ]
     },
     "execution_count": 140,
     "metadata": {},
     "output_type": "execute_result"
    }
   ],
   "source": [
    "df_inc['day'] = df_inc['inc_dincident'].dt.day\n",
    "df_inc.head()"
   ]
  },
  {
   "cell_type": "code",
   "execution_count": 141,
   "metadata": {},
   "outputs": [
    {
     "data": {
      "text/html": [
       "<div>\n",
       "<style scoped>\n",
       "    .dataframe tbody tr th:only-of-type {\n",
       "        vertical-align: middle;\n",
       "    }\n",
       "\n",
       "    .dataframe tbody tr th {\n",
       "        vertical-align: top;\n",
       "    }\n",
       "\n",
       "    .dataframe thead th {\n",
       "        text-align: right;\n",
       "    }\n",
       "</style>\n",
       "<table border=\"1\" class=\"dataframe\">\n",
       "  <thead>\n",
       "    <tr style=\"text-align: right;\">\n",
       "      <th></th>\n",
       "      <th>inc_dincident</th>\n",
       "      <th>num_on_day</th>\n",
       "      <th>day</th>\n",
       "    </tr>\n",
       "  </thead>\n",
       "  <tbody>\n",
       "    <tr>\n",
       "      <th>0</th>\n",
       "      <td>2016-04-01</td>\n",
       "      <td>4</td>\n",
       "      <td>1</td>\n",
       "    </tr>\n",
       "    <tr>\n",
       "      <th>1</th>\n",
       "      <td>2016-04-02</td>\n",
       "      <td>13</td>\n",
       "      <td>2</td>\n",
       "    </tr>\n",
       "    <tr>\n",
       "      <th>2</th>\n",
       "      <td>2016-04-03</td>\n",
       "      <td>2</td>\n",
       "      <td>3</td>\n",
       "    </tr>\n",
       "    <tr>\n",
       "      <th>3</th>\n",
       "      <td>2016-04-04</td>\n",
       "      <td>4</td>\n",
       "      <td>4</td>\n",
       "    </tr>\n",
       "    <tr>\n",
       "      <th>4</th>\n",
       "      <td>2016-04-05</td>\n",
       "      <td>2</td>\n",
       "      <td>5</td>\n",
       "    </tr>\n",
       "  </tbody>\n",
       "</table>\n",
       "</div>"
      ],
      "text/plain": [
       "  inc_dincident  num_on_day  day\n",
       "0    2016-04-01           4    1\n",
       "1    2016-04-02          13    2\n",
       "2    2016-04-03           2    3\n",
       "3    2016-04-04           4    4\n",
       "4    2016-04-05           2    5"
      ]
     },
     "execution_count": 141,
     "metadata": {},
     "output_type": "execute_result"
    }
   ],
   "source": [
    "bins = [i+0.5 for i in range(32)]\n",
    "data_x = [i+1 for i in range(31)]\n",
    "df_grouped_by_day = df_inc.groupby(['inc_dincident']).size().reset_index(name='counts')\n",
    "df_grouped_by_day[''] = df_grouped_by_day['inc_dincident'].dt.day\n",
    "df_grouped_by_day.columns = ['inc_dincident','num_on_day','day']\n",
    "df_grouped_by_day.head()"
   ]
  },
  {
   "cell_type": "code",
   "execution_count": 142,
   "metadata": {},
   "outputs": [
    {
     "name": "stdout",
     "output_type": "stream",
     "text": [
      "[42. 42. 42. 42. 42. 42. 42. 42. 42. 42. 42. 42. 42. 42. 42. 42. 42. 42.\n",
      " 42. 42. 42. 42. 42. 42. 42. 42. 42. 42. 39. 39. 24.]\n"
     ]
    }
   ],
   "source": [
    "day_occurences = np.ones(31)*42\n",
    "day_occurences[-1] = 24\n",
    "day_occurences[-2] = 39\n",
    "day_occurences[-3] = 39\n",
    "print(day_occurences)"
   ]
  },
  {
   "cell_type": "code",
   "execution_count": 143,
   "metadata": {},
   "outputs": [
    {
     "data": {
      "image/png": "[encoded data removed]",
      "text/plain": [
       "<Figure size 1224x936 with 2 Axes>"
      ]
     },
     "metadata": {
      "needs_background": "light"
     },
     "output_type": "display_data"
    }
   ],
   "source": [
    "data_y_tot,_ = np.histogram(df_inc.day.values, bins=bins)\n",
    "data_y = data_y_tot/day_occurences\n",
    "data_y_err = np.sqrt(data_y_tot)/day_occurences\n",
    "\n",
    "# data fit\n",
    "polynomial_mod = PolynomialModel(0)\n",
    "pars = polynomial_mod.guess(data_y, x=data_x, c0=data_y[0])\n",
    "model = polynomial_mod\n",
    "out = model.fit(data_y, pars, x=data_x, weights=1/data_y_err)\n",
    "\n",
    "df_grouped_by_day.boxplot(by='day',column=['num_on_day'],figsize=(17,13));\n",
    "plt.plot(data_x, out.best_fit, '-r')\n",
    "plt.ylim(bottom=0);\n",
    "plt.ylabel('# events per day');\n",
    "plt.title('Daily number of patient medicine safety events at QA');\n",
    "plt.suptitle('');\n",
    "ax = plt.gca()\n",
    "ax.yaxis.set_major_locator(MaxNLocator(integer=True))\n",
    "line = Line2D([],[], ls=\"none\",markeredgecolor='k')\n",
    "barline = LineCollection(np.empty((2,2,2)))\n",
    "custom_lines = [Line2D([0], [0], color='green'),\n",
    "                mpatches.Patch(facecolor='w',edgecolor='b'),\n",
    "                ErrorbarContainer((line, [line], [barline]), has_yerr=True),\n",
    "               Line2D([0], [0], marker='o', color='w', markerfacecolor='w', markeredgecolor='k',markersize=10),\n",
    "               Line2D([0], [0], color='red')]\n",
    "plt.legend(custom_lines,['median','quartiles','extremes','outliers','Fit '+r'$\\chi^2/N_{df}$ = '+str(round(out.redchi))]);\n",
    "img = plt.imread(\"nhsportsmouth.png\");\n",
    "ax = plt.axes([0.2,0.7, 0.3, 0.3], frameon=True);  # Change the numbers in this array to position your image [left, bottom, width, height])\n",
    "ax.imshow(img);\n",
    "ax.axis('off'); # get rid of the ticks and ticklabels"
   ]
  },
  {
   "cell_type": "code",
   "execution_count": 144,
   "metadata": {},
   "outputs": [
    {
     "data": {
      "image/png": "[encoded data removed]",
      "text/plain": [
       "<Figure size 432x288 with 2 Axes>"
      ]
     },
     "metadata": {
      "needs_background": "light"
     },
     "output_type": "display_data"
    }
   ],
   "source": [
    "bins = [i+0.5 for i in range(32)]\n",
    "data_x = [i+1 for i in range(31)]\n",
    "data_y_tot,_ = np.histogram(df_inc.day.values, bins=bins)\n",
    "data_y = data_y_tot/day_occurences\n",
    "data_y_err = np.sqrt(data_y_tot)/day_occurences\n",
    "\n",
    "k = 0\n",
    "reduced_chi_sq = 3\n",
    "while reduced_chi_sq > 2 or reduced_chi_sq < 0.5:\n",
    "    # data fit\n",
    "    polynomial_mod = PolynomialModel(k)\n",
    "    pars = polynomial_mod.guess(data_y, x=data_x, c0=data_y[0])\n",
    "    model = polynomial_mod\n",
    "    out = model.fit(data_y, pars, x=data_x, weights=1/data_y_err)\n",
    "\n",
    "    plt.bar(data_x,data_y,label='Data')\n",
    "    plt.bar(data_x,data_y_err,bottom=data_y-data_y_err/2,alpha=0.5,color='none',hatch=\"////\",label='Uncertainty')\n",
    "    plt.plot(data_x, out.best_fit, '-r', label='Fit '+r'$\\chi^2/N_{df}$ = '+str(round(out.redchi)))\n",
    "    plt.legend(loc=(1.04,0))\n",
    "    ax = plt.gca()\n",
    "    locs, labels = plt.xticks()\n",
    "    day_labels = [day if day%2!=0 else '' for day in data_x]\n",
    "    plt.xticks(data_x,labels=day_labels)\n",
    "    plt.xlabel('day');\n",
    "    plt.ylabel('# events per day')\n",
    "    plt.title('Daily number of patient medicine safety events at QA')\n",
    "    img = plt.imread(\"nhsportsmouth.png\");\n",
    "    ax = plt.axes([0.95,0.65, 0.3, 0.3], frameon=True);  # Change the numbers in this array to position your image [left, bottom, width, height])\n",
    "    ax.imshow(img);\n",
    "    ax.axis('off'); # get rid of the ticks and ticklabels\n",
    "    \n",
    "    reduced_chi_sq = out.redchi\n",
    "    k+=1"
   ]
  },
  {
   "cell_type": "code",
   "execution_count": 146,
   "metadata": {},
   "outputs": [
    {
     "data": {
      "text/html": [
       "<div>\n",
       "<style scoped>\n",
       "    .dataframe tbody tr th:only-of-type {\n",
       "        vertical-align: middle;\n",
       "    }\n",
       "\n",
       "    .dataframe tbody tr th {\n",
       "        vertical-align: top;\n",
       "    }\n",
       "\n",
       "    .dataframe thead th {\n",
       "        text-align: right;\n",
       "    }\n",
       "</style>\n",
       "<table border=\"1\" class=\"dataframe\">\n",
       "  <thead>\n",
       "    <tr style=\"text-align: right;\">\n",
       "      <th></th>\n",
       "      <th>inc_dincident</th>\n",
       "      <th>inc_dreported</th>\n",
       "    </tr>\n",
       "  </thead>\n",
       "  <tbody>\n",
       "    <tr>\n",
       "      <th>1</th>\n",
       "      <td>2016-03-31</td>\n",
       "      <td>2016-04-01</td>\n",
       "    </tr>\n",
       "    <tr>\n",
       "      <th>2</th>\n",
       "      <td>2016-04-01</td>\n",
       "      <td>2016-04-01</td>\n",
       "    </tr>\n",
       "    <tr>\n",
       "      <th>3</th>\n",
       "      <td>2016-03-25</td>\n",
       "      <td>2016-04-01</td>\n",
       "    </tr>\n",
       "    <tr>\n",
       "      <th>4</th>\n",
       "      <td>2016-04-02</td>\n",
       "      <td>2016-04-02</td>\n",
       "    </tr>\n",
       "    <tr>\n",
       "      <th>5</th>\n",
       "      <td>2016-04-01</td>\n",
       "      <td>2016-04-02</td>\n",
       "    </tr>\n",
       "  </tbody>\n",
       "</table>\n",
       "</div>"
      ],
      "text/plain": [
       "  inc_dincident inc_dreported\n",
       "1    2016-03-31    2016-04-01\n",
       "2    2016-04-01    2016-04-01\n",
       "3    2016-03-25    2016-04-01\n",
       "4    2016-04-02    2016-04-02\n",
       "5    2016-04-01    2016-04-02"
      ]
     },
     "execution_count": 146,
     "metadata": {},
     "output_type": "execute_result"
    }
   ],
   "source": [
    "df_rep = df.copy()\n",
    "df_rep = df_rep[df_rep.inc_dreported > '2016-03-31']\n",
    "df_rep = df_rep[df_rep.inc_dreported < '2019-10-01']\n",
    "df_rep.head()"
   ]
  },
  {
   "cell_type": "code",
   "execution_count": 147,
   "metadata": {},
   "outputs": [
    {
     "data": {
      "text/html": [
       "<div>\n",
       "<style scoped>\n",
       "    .dataframe tbody tr th:only-of-type {\n",
       "        vertical-align: middle;\n",
       "    }\n",
       "\n",
       "    .dataframe tbody tr th {\n",
       "        vertical-align: top;\n",
       "    }\n",
       "\n",
       "    .dataframe thead th {\n",
       "        text-align: right;\n",
       "    }\n",
       "</style>\n",
       "<table border=\"1\" class=\"dataframe\">\n",
       "  <thead>\n",
       "    <tr style=\"text-align: right;\">\n",
       "      <th></th>\n",
       "      <th>inc_dincident</th>\n",
       "      <th>inc_dreported</th>\n",
       "      <th>day</th>\n",
       "    </tr>\n",
       "  </thead>\n",
       "  <tbody>\n",
       "    <tr>\n",
       "      <th>1</th>\n",
       "      <td>2016-03-31</td>\n",
       "      <td>2016-04-01</td>\n",
       "      <td>31</td>\n",
       "    </tr>\n",
       "    <tr>\n",
       "      <th>2</th>\n",
       "      <td>2016-04-01</td>\n",
       "      <td>2016-04-01</td>\n",
       "      <td>1</td>\n",
       "    </tr>\n",
       "    <tr>\n",
       "      <th>3</th>\n",
       "      <td>2016-03-25</td>\n",
       "      <td>2016-04-01</td>\n",
       "      <td>25</td>\n",
       "    </tr>\n",
       "    <tr>\n",
       "      <th>4</th>\n",
       "      <td>2016-04-02</td>\n",
       "      <td>2016-04-02</td>\n",
       "      <td>2</td>\n",
       "    </tr>\n",
       "    <tr>\n",
       "      <th>5</th>\n",
       "      <td>2016-04-01</td>\n",
       "      <td>2016-04-02</td>\n",
       "      <td>1</td>\n",
       "    </tr>\n",
       "  </tbody>\n",
       "</table>\n",
       "</div>"
      ],
      "text/plain": [
       "  inc_dincident inc_dreported  day\n",
       "1    2016-03-31    2016-04-01   31\n",
       "2    2016-04-01    2016-04-01    1\n",
       "3    2016-03-25    2016-04-01   25\n",
       "4    2016-04-02    2016-04-02    2\n",
       "5    2016-04-01    2016-04-02    1"
      ]
     },
     "execution_count": 147,
     "metadata": {},
     "output_type": "execute_result"
    }
   ],
   "source": [
    "df_rep['day'] = df_rep['inc_dincident'].dt.day\n",
    "df_rep.head()"
   ]
  },
  {
   "cell_type": "code",
   "execution_count": 148,
   "metadata": {},
   "outputs": [
    {
     "data": {
      "text/html": [
       "<div>\n",
       "<style scoped>\n",
       "    .dataframe tbody tr th:only-of-type {\n",
       "        vertical-align: middle;\n",
       "    }\n",
       "\n",
       "    .dataframe tbody tr th {\n",
       "        vertical-align: top;\n",
       "    }\n",
       "\n",
       "    .dataframe thead th {\n",
       "        text-align: right;\n",
       "    }\n",
       "</style>\n",
       "<table border=\"1\" class=\"dataframe\">\n",
       "  <thead>\n",
       "    <tr style=\"text-align: right;\">\n",
       "      <th></th>\n",
       "      <th>inc_dreported</th>\n",
       "      <th>num_on_day</th>\n",
       "      <th>day</th>\n",
       "    </tr>\n",
       "  </thead>\n",
       "  <tbody>\n",
       "    <tr>\n",
       "      <th>0</th>\n",
       "      <td>2016-04-01</td>\n",
       "      <td>3</td>\n",
       "      <td>1</td>\n",
       "    </tr>\n",
       "    <tr>\n",
       "      <th>1</th>\n",
       "      <td>2016-04-02</td>\n",
       "      <td>5</td>\n",
       "      <td>2</td>\n",
       "    </tr>\n",
       "    <tr>\n",
       "      <th>2</th>\n",
       "      <td>2016-04-03</td>\n",
       "      <td>2</td>\n",
       "      <td>3</td>\n",
       "    </tr>\n",
       "    <tr>\n",
       "      <th>3</th>\n",
       "      <td>2016-04-04</td>\n",
       "      <td>13</td>\n",
       "      <td>4</td>\n",
       "    </tr>\n",
       "    <tr>\n",
       "      <th>4</th>\n",
       "      <td>2016-04-05</td>\n",
       "      <td>3</td>\n",
       "      <td>5</td>\n",
       "    </tr>\n",
       "  </tbody>\n",
       "</table>\n",
       "</div>"
      ],
      "text/plain": [
       "  inc_dreported  num_on_day  day\n",
       "0    2016-04-01           3    1\n",
       "1    2016-04-02           5    2\n",
       "2    2016-04-03           2    3\n",
       "3    2016-04-04          13    4\n",
       "4    2016-04-05           3    5"
      ]
     },
     "execution_count": 148,
     "metadata": {},
     "output_type": "execute_result"
    }
   ],
   "source": [
    "bins = [i+0.5 for i in range(32)]\n",
    "data_x = [i+1 for i in range(31)]\n",
    "df_grouped_by_day = df_rep.groupby(['inc_dreported']).size().reset_index(name='counts')\n",
    "df_grouped_by_day[''] = df_grouped_by_day['inc_dreported'].dt.day\n",
    "df_grouped_by_day.columns = ['inc_dreported','num_on_day','day']\n",
    "df_grouped_by_day.head()"
   ]
  },
  {
   "cell_type": "code",
   "execution_count": 149,
   "metadata": {},
   "outputs": [
    {
     "data": {
      "image/png": "[encoded data removed]",
      "text/plain": [
       "<Figure size 1224x936 with 2 Axes>"
      ]
     },
     "metadata": {
      "needs_background": "light"
     },
     "output_type": "display_data"
    }
   ],
   "source": [
    "data_y_tot,_ = np.histogram(df_rep.day.values, bins=bins)\n",
    "data_y = data_y_tot/day_occurences\n",
    "data_y_err = np.sqrt(data_y_tot)/day_occurences\n",
    "\n",
    "# data fit\n",
    "polynomial_mod = PolynomialModel(0)\n",
    "pars = polynomial_mod.guess(data_y, x=data_x, c0=data_y[0])\n",
    "model = polynomial_mod\n",
    "out = model.fit(data_y, pars, x=data_x, weights=1/data_y_err)\n",
    "\n",
    "df_grouped_by_day.boxplot(by='day',column=['num_on_day'],figsize=(17,13));\n",
    "plt.plot(data_x, out.best_fit, '-r')\n",
    "plt.ylim(bottom=0);\n",
    "plt.ylabel('# events per day');\n",
    "plt.title('Daily number of patient medicine safety events at QA');\n",
    "plt.suptitle('');\n",
    "ax = plt.gca()\n",
    "ax.yaxis.set_major_locator(MaxNLocator(integer=True))\n",
    "line = Line2D([],[], ls=\"none\",markeredgecolor='k')\n",
    "barline = LineCollection(np.empty((2,2,2)))\n",
    "custom_lines = [Line2D([0], [0], color='green'),\n",
    "                mpatches.Patch(facecolor='w',edgecolor='b'),\n",
    "                ErrorbarContainer((line, [line], [barline]), has_yerr=True),\n",
    "               Line2D([0], [0], marker='o', color='w', markerfacecolor='w', markeredgecolor='k',markersize=10),\n",
    "               Line2D([0], [0], color='red')]\n",
    "plt.legend(custom_lines,['median','quartiles','extremes','outliers','Fit '+r'$\\chi^2/N_{df}$ = '+str(round(out.redchi))]);\n",
    "img = plt.imread(\"nhsportsmouth.png\");\n",
    "ax = plt.axes([0.2,0.7, 0.3, 0.3], frameon=True);  # Change the numbers in this array to position your image [left, bottom, width, height])\n",
    "ax.imshow(img);\n",
    "ax.axis('off'); # get rid of the ticks and ticklabels"
   ]
  }
 ],
 "metadata": {
  "kernelspec": {
   "display_name": "Python 3",
   "language": "python",
   "name": "python3"
  },
  "language_info": {
   "codemirror_mode": {
    "name": "ipython",
    "version": 3
   },
   "file_extension": ".py",
   "mimetype": "text/x-python",
   "name": "python",
   "nbconvert_exporter": "python",
   "pygments_lexer": "ipython3",
   "version": "3.7.3"
  }
 },
 "nbformat": 4,
 "nbformat_minor": 2
}
