{
 "cells": [
  {
   "cell_type": "code",
   "execution_count": 30,
   "metadata": {},
   "outputs": [
    {
     "ename": "ModuleNotFoundError",
     "evalue": "No module named 'plotly'",
     "output_type": "error",
     "traceback": [
      "\u001b[1;31m---------------------------------------------------------------------------\u001b[0m",
      "\u001b[1;31mModuleNotFoundError\u001b[0m                       Traceback (most recent call last)",
      "\u001b[1;32m<ipython-input-30-6f1789361dc8>\u001b[0m in \u001b[0;36m<module>\u001b[1;34m\u001b[0m\n\u001b[0;32m      5\u001b[0m \u001b[1;33m\u001b[0m\u001b[0m\n\u001b[0;32m      6\u001b[0m \u001b[1;32mimport\u001b[0m \u001b[0mmatplotlib\u001b[0m\u001b[1;33m.\u001b[0m\u001b[0mpyplot\u001b[0m \u001b[1;32mas\u001b[0m \u001b[0mplt\u001b[0m\u001b[1;33m\u001b[0m\u001b[1;33m\u001b[0m\u001b[0m\n\u001b[1;32m----> 7\u001b[1;33m \u001b[1;32mimport\u001b[0m \u001b[0mplotly\u001b[0m\u001b[1;33m.\u001b[0m\u001b[0mexpress\u001b[0m \u001b[1;32mas\u001b[0m \u001b[0mpx\u001b[0m\u001b[1;33m\u001b[0m\u001b[1;33m\u001b[0m\u001b[0m\n\u001b[0m",
      "\u001b[1;31mModuleNotFoundError\u001b[0m: No module named 'plotly'"
     ]
    }
   ],
   "source": [
    "# Start with loading all necessary libraries\n",
    "import numpy as np\n",
    "import pandas as pd\n",
    "import pyodbc\n",
    "\n",
    "import matplotlib.pyplot as plt\n",
    "import plotly.express as px"
   ]
  },
  {
   "cell_type": "code",
   "execution_count": 2,
   "metadata": {},
   "outputs": [],
   "source": [
    "from sklearn.model_selection import train_test_split\n",
    "from sklearn.feature_extraction.text import CountVectorizer\n",
    "\n",
    "# Import TfidfVectorizer\n",
    "from sklearn.feature_extraction.text import TfidfVectorizer\n",
    "\n",
    "from sklearn.naive_bayes import MultinomialNB\n",
    "from sklearn import metrics"
   ]
  },
  {
   "cell_type": "code",
   "execution_count": 21,
   "metadata": {},
   "outputs": [
    {
     "data": {
      "text/html": [
       "<div>\n",
       "<style scoped>\n",
       "    .dataframe tbody tr th:only-of-type {\n",
       "        vertical-align: middle;\n",
       "    }\n",
       "\n",
       "    .dataframe tbody tr th {\n",
       "        vertical-align: top;\n",
       "    }\n",
       "\n",
       "    .dataframe thead th {\n",
       "        text-align: right;\n",
       "    }\n",
       "</style>\n",
       "<table border=\"1\" class=\"dataframe\">\n",
       "  <thead>\n",
       "    <tr style=\"text-align: right;\">\n",
       "      <th></th>\n",
       "      <th>inc_organisation</th>\n",
       "      <th>inc_locactual</th>\n",
       "      <th>inc_unit</th>\n",
       "      <th>inc_specialty</th>\n",
       "      <th>inc_loctype</th>\n",
       "      <th>inc_result</th>\n",
       "      <th>inc_severity</th>\n",
       "      <th>show_other_contacts</th>\n",
       "      <th>show_employee</th>\n",
       "      <th>show_witness</th>\n",
       "      <th>show_document</th>\n",
       "      <th>inc_notes</th>\n",
       "    </tr>\n",
       "  </thead>\n",
       "  <tbody>\n",
       "    <tr>\n",
       "      <th>0</th>\n",
       "      <td>QA</td>\n",
       "      <td>E6/7</td>\n",
       "      <td>MEDMED</td>\n",
       "      <td>RESP</td>\n",
       "      <td>WARD</td>\n",
       "      <td>NOHARM</td>\n",
       "      <td>NONE</td>\n",
       "      <td>None</td>\n",
       "      <td>N</td>\n",
       "      <td>N</td>\n",
       "      <td>N</td>\n",
       "      <td>on drug rounds found Amlodipine not given for ...</td>\n",
       "    </tr>\n",
       "    <tr>\n",
       "      <th>1</th>\n",
       "      <td>QA</td>\n",
       "      <td>C5</td>\n",
       "      <td>MEDMED</td>\n",
       "      <td>GENMED</td>\n",
       "      <td>WARD</td>\n",
       "      <td>HARM</td>\n",
       "      <td>LOW</td>\n",
       "      <td>None</td>\n",
       "      <td>Y</td>\n",
       "      <td>Y</td>\n",
       "      <td>Y</td>\n",
       "      <td>HAEMOPHILIA PATIENT\\r\\n\\r\\nPATIENT NOT ADMINIS...</td>\n",
       "    </tr>\n",
       "    <tr>\n",
       "      <th>2</th>\n",
       "      <td>QA</td>\n",
       "      <td>RHOPQ</td>\n",
       "      <td>SURMHN</td>\n",
       "      <td>RHEUM</td>\n",
       "      <td>HPBU</td>\n",
       "      <td>NOHARM</td>\n",
       "      <td>NONE</td>\n",
       "      <td>N</td>\n",
       "      <td>N</td>\n",
       "      <td>N</td>\n",
       "      <td>N</td>\n",
       "      <td>Patient changed to Nordiment from Oral Methotr...</td>\n",
       "    </tr>\n",
       "    <tr>\n",
       "      <th>3</th>\n",
       "      <td>QA</td>\n",
       "      <td>RHOPQ</td>\n",
       "      <td>SURMHN</td>\n",
       "      <td>RHEUM</td>\n",
       "      <td>HPBU</td>\n",
       "      <td>NOHARM</td>\n",
       "      <td>NONE</td>\n",
       "      <td>N</td>\n",
       "      <td>N</td>\n",
       "      <td>N</td>\n",
       "      <td>N</td>\n",
       "      <td>Reported as non clinical recoded to medication...</td>\n",
       "    </tr>\n",
       "    <tr>\n",
       "      <th>4</th>\n",
       "      <td>QA</td>\n",
       "      <td>RHOPQ</td>\n",
       "      <td>SURMHN</td>\n",
       "      <td>RHEUM</td>\n",
       "      <td>OPD</td>\n",
       "      <td>NOHARM</td>\n",
       "      <td>NONE</td>\n",
       "      <td>N</td>\n",
       "      <td>N</td>\n",
       "      <td>N</td>\n",
       "      <td>N</td>\n",
       "      <td>Reported 25/9/19 as patient /non-clinical even...</td>\n",
       "    </tr>\n",
       "  </tbody>\n",
       "</table>\n",
       "</div>"
      ],
      "text/plain": [
       "  inc_organisation inc_locactual inc_unit inc_specialty inc_loctype  \\\n",
       "0               QA          E6/7   MEDMED          RESP        WARD   \n",
       "1               QA            C5   MEDMED        GENMED        WARD   \n",
       "2               QA         RHOPQ   SURMHN         RHEUM        HPBU   \n",
       "3               QA         RHOPQ   SURMHN         RHEUM        HPBU   \n",
       "4               QA         RHOPQ   SURMHN         RHEUM         OPD   \n",
       "\n",
       "  inc_result inc_severity show_other_contacts show_employee show_witness  \\\n",
       "0     NOHARM         NONE                None             N            N   \n",
       "1       HARM          LOW                None             Y            Y   \n",
       "2     NOHARM         NONE                   N             N            N   \n",
       "3     NOHARM         NONE                   N             N            N   \n",
       "4     NOHARM         NONE                   N             N            N   \n",
       "\n",
       "  show_document                                          inc_notes  \n",
       "0             N  on drug rounds found Amlodipine not given for ...  \n",
       "1             Y  HAEMOPHILIA PATIENT\\r\\n\\r\\nPATIENT NOT ADMINIS...  \n",
       "2             N  Patient changed to Nordiment from Oral Methotr...  \n",
       "3             N  Reported as non clinical recoded to medication...  \n",
       "4             N  Reported 25/9/19 as patient /non-clinical even...  "
      ]
     },
     "execution_count": 21,
     "metadata": {},
     "output_type": "execute_result"
    }
   ],
   "source": [
    "sql_conn = pyodbc.connect('DRIVER={SQL Server};'\n",
    "                            'SERVER=L_AAGDATIX;'\n",
    "                            'DATABASE=DatixCRM;'\n",
    "                            'Trusted_Connection=yes') \n",
    "query = \"set transaction isolation level read uncommitted select inc_organisation,inc_locactual,inc_unit,inc_specialty,inc_loctype,inc_result,inc_severity,show_other_contacts,show_employee,show_witness,show_document,inc_notes from DatixCRM.dbo.incidents_main where inc_type='PAT' and inc_category='MEDIC'\"\n",
    "df = pd.read_sql(query, sql_conn)\n",
    "df.head()"
   ]
  },
  {
   "cell_type": "code",
   "execution_count": 24,
   "metadata": {},
   "outputs": [],
   "source": [
    "labels = list(df.columns.values)\n",
    "labels.remove('inc_notes')\n",
    "accuracies = []\n",
    "for column in labels:\n",
    "    df = df.dropna(subset=[column])\n",
    "    y = df[column]\n",
    "    X_train, X_test, y_train, y_test = train_test_split(\n",
    "                                    df['inc_notes'], y,\n",
    "                                    test_size=0.33,\n",
    "                                    random_state=53)\n",
    "    count_vectorizer = CountVectorizer(stop_words='english')\n",
    "    count_train = count_vectorizer.fit_transform(X_train.values)\n",
    "    count_test = count_vectorizer.transform(X_test.values)\n",
    "    # Print the first 10 features of the count_vectorizer\n",
    "    #print(count_vectorizer.get_feature_names()[:10])\n",
    "\n",
    "\n",
    "    # Initialize a TfidfVectorizer object: tfidf_vectorizer\n",
    "    tfidf_vectorizer = TfidfVectorizer(stop_words=\"english\",max_df=0.7)\n",
    "\n",
    "    # Transform the training data: tfidf_train \n",
    "    tfidf_train = tfidf_vectorizer.fit_transform(X_train.values)\n",
    "\n",
    "    # Transform the test data: tfidf_test \n",
    "    tfidf_test = tfidf_vectorizer.transform(X_test.values)\n",
    "\n",
    "    # Print the first 10 features\n",
    "    #print(tfidf_vectorizer.get_feature_names()[:10])\n",
    "\n",
    "    # Print the first 5 vectors of the tfidf training data\n",
    "    #print(tfidf_train.A[:5])\n",
    "\n",
    "\n",
    "    # Create the CountVectorizer DataFrame: count_df\n",
    "    #count_df = pd.DataFrame(count_train.A, columns=count_vectorizer.get_feature_names())\n",
    "\n",
    "    # Create the TfidfVectorizer DataFrame: tfidf_df\n",
    "    #tfidf_df = pd.DataFrame(tfidf_train.A, columns=tfidf_vectorizer.get_feature_names())\n",
    "\n",
    "    # Print the head of count_df\n",
    "    #print(count_df.head())\n",
    "\n",
    "    # Print the head of tfidf_df\n",
    "    #print(tfidf_df.head())\n",
    "\n",
    "    # Calculate the difference in columns: difference\n",
    "    #difference = set(count_df.columns) - set(tfidf_df.columns)\n",
    "    #print(difference)\n",
    "\n",
    "    # Check whether the DataFrames are equal\n",
    "    #print(count_df.equals(tfidf_df))\n",
    "\n",
    "\n",
    "    nb_classifier = MultinomialNB()\n",
    "    nb_classifier.fit(count_train, y_train)\n",
    "    pred = nb_classifier.predict(count_test)\n",
    "    accuracies.append(100*metrics.accuracy_score(y_test,pred))"
   ]
  },
  {
   "cell_type": "code",
   "execution_count": 33,
   "metadata": {},
   "outputs": [
    {
     "data": {
      "text/plain": [
       "<matplotlib.collections.PathCollection at 0x1d5f4fd0>"
      ]
     },
     "execution_count": 33,
     "metadata": {},
     "output_type": "execute_result"
    },
    {
     "data": {
      "image/png": "[encoded data removed]",
      "text/plain": [
       "<Figure size 432x288 with 1 Axes>"
      ]
     },
     "metadata": {
      "needs_background": "light"
     },
     "output_type": "display_data"
    }
   ],
   "source": [
    "rounded_accuracies = [int(round(accuracy)) for accuracy in accuracies]\n",
    "n_labels = len(labels)\n",
    "#plt.bar(labels,rounded_accuracies);\n",
    "plt.scatter(x=rounded_accuracies,y=labels)"
   ]
  },
  {
   "cell_type": "code",
   "execution_count": null,
   "metadata": {},
   "outputs": [],
   "source": []
  }
 ],
 "metadata": {
  "kernelspec": {
   "display_name": "Python 3",
   "language": "python",
   "name": "python3"
  },
  "language_info": {
   "codemirror_mode": {
    "name": "ipython",
    "version": 3
   },
   "file_extension": ".py",
   "mimetype": "text/x-python",
   "name": "python",
   "nbconvert_exporter": "python",
   "pygments_lexer": "ipython3",
   "version": "3.7.3"
  }
 },
 "nbformat": 4,
 "nbformat_minor": 2
}
